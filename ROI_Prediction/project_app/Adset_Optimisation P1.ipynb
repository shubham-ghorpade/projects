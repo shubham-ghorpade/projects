{
 "cells": [
  {
   "cell_type": "code",
   "execution_count": 1,
   "id": "0772f01a-7a2f-4fdd-a999-3e3c5899255a",
   "metadata": {},
   "outputs": [],
   "source": [
    "import pandas as pd\n",
    "import numpy as np\n",
    "%matplotlib inline\n",
    "import matplotlib.pyplot as plt\n",
    "import seaborn as sns\n",
    "import warnings\n",
    "from sklearn.impute import KNNImputer\n",
    "warnings.filterwarnings('ignore')\n",
    "from sklearn.model_selection import train_test_split, GridSearchCV, RandomizedSearchCV\n",
    "from sklearn.model_selection import cross_val_score, KFold, StratifiedKFold\n",
    "from sklearn.linear_model import LinearRegression, Ridge, Lasso\n",
    "from sklearn.metrics import mean_absolute_error, mean_squared_error, r2_score\n",
    "pd.set_option('display.max_columns', None)"
   ]
  },
  {
   "cell_type": "markdown",
   "id": "155823af-16c5-4c08-80e4-53e9e31ec36b",
   "metadata": {},
   "source": [
    "#### 1. Data Gatherting"
   ]
  },
  {
   "cell_type": "code",
   "execution_count": null,
   "id": "4065f5ea-ad7c-4b77-9c4d-7aefc377a086",
   "metadata": {},
   "outputs": [],
   "source": []
  },
  {
   "cell_type": "code",
   "execution_count": 2,
   "id": "7d11cd75-18c5-47bd-ab89-d1188b436c9a",
   "metadata": {},
   "outputs": [
    {
     "data": {
      "text/html": [
       "<div>\n",
       "<style scoped>\n",
       "    .dataframe tbody tr th:only-of-type {\n",
       "        vertical-align: middle;\n",
       "    }\n",
       "\n",
       "    .dataframe tbody tr th {\n",
       "        vertical-align: top;\n",
       "    }\n",
       "\n",
       "    .dataframe thead th {\n",
       "        text-align: right;\n",
       "    }\n",
       "</style>\n",
       "<table border=\"1\" class=\"dataframe\">\n",
       "  <thead>\n",
       "    <tr style=\"text-align: right;\">\n",
       "      <th></th>\n",
       "      <th>Campaign_ID</th>\n",
       "      <th>Spend</th>\n",
       "      <th>Impressions</th>\n",
       "      <th>Clicks</th>\n",
       "      <th>Conversions</th>\n",
       "      <th>Campaign_Type</th>\n",
       "      <th>Region</th>\n",
       "      <th>Device_Type</th>\n",
       "      <th>Month</th>\n",
       "      <th>CTR</th>\n",
       "      <th>Conversion_Rate</th>\n",
       "      <th>CPC</th>\n",
       "      <th>CPM</th>\n",
       "      <th>CPA</th>\n",
       "      <th>Revenue</th>\n",
       "      <th>ROI</th>\n",
       "    </tr>\n",
       "  </thead>\n",
       "  <tbody>\n",
       "    <tr>\n",
       "      <th>0</th>\n",
       "      <td>6065</td>\n",
       "      <td>1267.852332</td>\n",
       "      <td>17642.0</td>\n",
       "      <td>3262.0</td>\n",
       "      <td>118.0</td>\n",
       "      <td>Display</td>\n",
       "      <td>Canada</td>\n",
       "      <td>Desktop</td>\n",
       "      <td>5</td>\n",
       "      <td>0.184900</td>\n",
       "      <td>0.036174</td>\n",
       "      <td>0.388673</td>\n",
       "      <td>71.865567</td>\n",
       "      <td>10.744511</td>\n",
       "      <td>16442.912417</td>\n",
       "      <td>11.969107</td>\n",
       "    </tr>\n",
       "    <tr>\n",
       "      <th>1</th>\n",
       "      <td>17215</td>\n",
       "      <td>3503.649208</td>\n",
       "      <td>15837.0</td>\n",
       "      <td>297.0</td>\n",
       "      <td>223.0</td>\n",
       "      <td>Email</td>\n",
       "      <td>India</td>\n",
       "      <td>Desktop</td>\n",
       "      <td>11</td>\n",
       "      <td>0.018754</td>\n",
       "      <td>0.750842</td>\n",
       "      <td>11.796799</td>\n",
       "      <td>221.231875</td>\n",
       "      <td>15.711431</td>\n",
       "      <td>36318.018142</td>\n",
       "      <td>9.365769</td>\n",
       "    </tr>\n",
       "    <tr>\n",
       "      <th>2</th>\n",
       "      <td>9542</td>\n",
       "      <td>1795.152638</td>\n",
       "      <td>98219.0</td>\n",
       "      <td>1023.0</td>\n",
       "      <td>429.0</td>\n",
       "      <td>Display</td>\n",
       "      <td>India</td>\n",
       "      <td>Mobile</td>\n",
       "      <td>2</td>\n",
       "      <td>0.010416</td>\n",
       "      <td>0.419355</td>\n",
       "      <td>1.754792</td>\n",
       "      <td>18.277040</td>\n",
       "      <td>4.184505</td>\n",
       "      <td>54813.630280</td>\n",
       "      <td>29.534245</td>\n",
       "    </tr>\n",
       "    <tr>\n",
       "      <th>3</th>\n",
       "      <td>15636</td>\n",
       "      <td>227.683641</td>\n",
       "      <td>12849.0</td>\n",
       "      <td>3397.0</td>\n",
       "      <td>112.0</td>\n",
       "      <td>Meta Ads</td>\n",
       "      <td>UK</td>\n",
       "      <td>Mobile</td>\n",
       "      <td>9</td>\n",
       "      <td>0.264379</td>\n",
       "      <td>0.032970</td>\n",
       "      <td>0.067025</td>\n",
       "      <td>17.719950</td>\n",
       "      <td>2.032890</td>\n",
       "      <td>8605.263792</td>\n",
       "      <td>36.794827</td>\n",
       "    </tr>\n",
       "    <tr>\n",
       "      <th>4</th>\n",
       "      <td>18487</td>\n",
       "      <td>1005.997237</td>\n",
       "      <td>66945.0</td>\n",
       "      <td>4202.0</td>\n",
       "      <td>44.0</td>\n",
       "      <td>LinkedIn</td>\n",
       "      <td>Canada</td>\n",
       "      <td>Tablet</td>\n",
       "      <td>2</td>\n",
       "      <td>0.062768</td>\n",
       "      <td>0.010471</td>\n",
       "      <td>0.239409</td>\n",
       "      <td>15.027220</td>\n",
       "      <td>22.863573</td>\n",
       "      <td>5996.434087</td>\n",
       "      <td>4.960686</td>\n",
       "    </tr>\n",
       "  </tbody>\n",
       "</table>\n",
       "</div>"
      ],
      "text/plain": [
       "   Campaign_ID        Spend  Impressions  Clicks  Conversions Campaign_Type  \\\n",
       "0         6065  1267.852332      17642.0  3262.0        118.0       Display   \n",
       "1        17215  3503.649208      15837.0   297.0        223.0         Email   \n",
       "2         9542  1795.152638      98219.0  1023.0        429.0       Display   \n",
       "3        15636   227.683641      12849.0  3397.0        112.0      Meta Ads   \n",
       "4        18487  1005.997237      66945.0  4202.0         44.0      LinkedIn   \n",
       "\n",
       "   Region Device_Type  Month       CTR  Conversion_Rate        CPC  \\\n",
       "0  Canada     Desktop      5  0.184900         0.036174   0.388673   \n",
       "1   India     Desktop     11  0.018754         0.750842  11.796799   \n",
       "2   India      Mobile      2  0.010416         0.419355   1.754792   \n",
       "3      UK      Mobile      9  0.264379         0.032970   0.067025   \n",
       "4  Canada      Tablet      2  0.062768         0.010471   0.239409   \n",
       "\n",
       "          CPM        CPA       Revenue        ROI  \n",
       "0   71.865567  10.744511  16442.912417  11.969107  \n",
       "1  221.231875  15.711431  36318.018142   9.365769  \n",
       "2   18.277040   4.184505  54813.630280  29.534245  \n",
       "3   17.719950   2.032890   8605.263792  36.794827  \n",
       "4   15.027220  22.863573   5996.434087   4.960686  "
      ]
     },
     "execution_count": 2,
     "metadata": {},
     "output_type": "execute_result"
    }
   ],
   "source": [
    "ad_opt = pd.read_csv('digital_marketing_roi_dataset.csv')\n",
    "ad_opt.head()"
   ]
  },
  {
   "cell_type": "code",
   "execution_count": 3,
   "id": "15c56f42-12b8-4f9f-a0b8-673dfc0eb915",
   "metadata": {},
   "outputs": [
    {
     "name": "stdout",
     "output_type": "stream",
     "text": [
      "<class 'pandas.core.frame.DataFrame'>\n",
      "RangeIndex: 20100 entries, 0 to 20099\n",
      "Data columns (total 16 columns):\n",
      " #   Column           Non-Null Count  Dtype  \n",
      "---  ------           --------------  -----  \n",
      " 0   Campaign_ID      20100 non-null  int64  \n",
      " 1   Spend            19900 non-null  float64\n",
      " 2   Impressions      19899 non-null  float64\n",
      " 3   Clicks           19900 non-null  float64\n",
      " 4   Conversions      19900 non-null  float64\n",
      " 5   Campaign_Type    20100 non-null  object \n",
      " 6   Region           20100 non-null  object \n",
      " 7   Device_Type      20100 non-null  object \n",
      " 8   Month            20100 non-null  int64  \n",
      " 9   CTR              20100 non-null  float64\n",
      " 10  Conversion_Rate  20100 non-null  float64\n",
      " 11  CPC              20100 non-null  float64\n",
      " 12  CPM              20100 non-null  float64\n",
      " 13  CPA              20100 non-null  float64\n",
      " 14  Revenue          19899 non-null  float64\n",
      " 15  ROI              20100 non-null  float64\n",
      "dtypes: float64(11), int64(2), object(3)\n",
      "memory usage: 2.5+ MB\n"
     ]
    }
   ],
   "source": [
    "ad_opt.info()"
   ]
  },
  {
   "cell_type": "markdown",
   "id": "c494a790-cb04-4ab2-9fa7-b3fd100d1b12",
   "metadata": {},
   "source": [
    "### 2. Train Test Split"
   ]
  },
  {
   "cell_type": "code",
   "execution_count": 4,
   "id": "15e105e6-f487-4a64-9c96-1ff057e3f3b3",
   "metadata": {},
   "outputs": [],
   "source": [
    "x = ad_opt.drop(\"ROI\", axis =1)\n",
    "y =ad_opt[\"ROI\"]\n",
    "\n",
    "x_train, x_test, y_train, y_test = train_test_split(x, y, test_size=0.2, random_state=42)\n"
   ]
  },
  {
   "cell_type": "code",
   "execution_count": 5,
   "id": "1955e6df-993d-4c54-863c-3e7308b1fe09",
   "metadata": {},
   "outputs": [
    {
     "data": {
      "text/html": [
       "<div>\n",
       "<style scoped>\n",
       "    .dataframe tbody tr th:only-of-type {\n",
       "        vertical-align: middle;\n",
       "    }\n",
       "\n",
       "    .dataframe tbody tr th {\n",
       "        vertical-align: top;\n",
       "    }\n",
       "\n",
       "    .dataframe thead th {\n",
       "        text-align: right;\n",
       "    }\n",
       "</style>\n",
       "<table border=\"1\" class=\"dataframe\">\n",
       "  <thead>\n",
       "    <tr style=\"text-align: right;\">\n",
       "      <th></th>\n",
       "      <th>Campaign_ID</th>\n",
       "      <th>Spend</th>\n",
       "      <th>Impressions</th>\n",
       "      <th>Clicks</th>\n",
       "      <th>Conversions</th>\n",
       "      <th>Campaign_Type</th>\n",
       "      <th>Region</th>\n",
       "      <th>Device_Type</th>\n",
       "      <th>Month</th>\n",
       "      <th>CTR</th>\n",
       "      <th>Conversion_Rate</th>\n",
       "      <th>CPC</th>\n",
       "      <th>CPM</th>\n",
       "      <th>CPA</th>\n",
       "      <th>Revenue</th>\n",
       "    </tr>\n",
       "  </thead>\n",
       "  <tbody>\n",
       "    <tr>\n",
       "      <th>3479</th>\n",
       "      <td>3220</td>\n",
       "      <td>3688.765140</td>\n",
       "      <td>16220.0</td>\n",
       "      <td>899.0</td>\n",
       "      <td>290.0</td>\n",
       "      <td>LinkedIn</td>\n",
       "      <td>UK</td>\n",
       "      <td>Desktop</td>\n",
       "      <td>1</td>\n",
       "      <td>0.055425</td>\n",
       "      <td>0.322581</td>\n",
       "      <td>4.103187</td>\n",
       "      <td>227.420785</td>\n",
       "      <td>12.719880</td>\n",
       "      <td>31337.691517</td>\n",
       "    </tr>\n",
       "    <tr>\n",
       "      <th>12264</th>\n",
       "      <td>14656</td>\n",
       "      <td>4196.952744</td>\n",
       "      <td>81280.0</td>\n",
       "      <td>2704.0</td>\n",
       "      <td>396.0</td>\n",
       "      <td>Display</td>\n",
       "      <td>Australia</td>\n",
       "      <td>Tablet</td>\n",
       "      <td>8</td>\n",
       "      <td>0.033268</td>\n",
       "      <td>0.146450</td>\n",
       "      <td>1.552127</td>\n",
       "      <td>51.635738</td>\n",
       "      <td>10.598365</td>\n",
       "      <td>38815.860051</td>\n",
       "    </tr>\n",
       "    <tr>\n",
       "      <th>7070</th>\n",
       "      <td>12252</td>\n",
       "      <td>3914.909825</td>\n",
       "      <td>16231.0</td>\n",
       "      <td>4265.0</td>\n",
       "      <td>434.0</td>\n",
       "      <td>Google Search</td>\n",
       "      <td>India</td>\n",
       "      <td>Tablet</td>\n",
       "      <td>8</td>\n",
       "      <td>0.262769</td>\n",
       "      <td>0.101758</td>\n",
       "      <td>0.917916</td>\n",
       "      <td>241.199546</td>\n",
       "      <td>9.020530</td>\n",
       "      <td>17393.172671</td>\n",
       "    </tr>\n",
       "    <tr>\n",
       "      <th>720</th>\n",
       "      <td>11340</td>\n",
       "      <td>2077.261556</td>\n",
       "      <td>13099.0</td>\n",
       "      <td>2252.0</td>\n",
       "      <td>406.0</td>\n",
       "      <td>Meta Ads</td>\n",
       "      <td>US</td>\n",
       "      <td>Mobile</td>\n",
       "      <td>3</td>\n",
       "      <td>0.171922</td>\n",
       "      <td>0.180284</td>\n",
       "      <td>0.922407</td>\n",
       "      <td>158.581690</td>\n",
       "      <td>5.116408</td>\n",
       "      <td>8675.941277</td>\n",
       "    </tr>\n",
       "    <tr>\n",
       "      <th>11883</th>\n",
       "      <td>12662</td>\n",
       "      <td>3056.128402</td>\n",
       "      <td>73623.0</td>\n",
       "      <td>2139.0</td>\n",
       "      <td>201.0</td>\n",
       "      <td>Display</td>\n",
       "      <td>US</td>\n",
       "      <td>Tablet</td>\n",
       "      <td>12</td>\n",
       "      <td>0.029053</td>\n",
       "      <td>0.093969</td>\n",
       "      <td>1.428765</td>\n",
       "      <td>41.510512</td>\n",
       "      <td>15.204619</td>\n",
       "      <td>21826.072264</td>\n",
       "    </tr>\n",
       "    <tr>\n",
       "      <th>...</th>\n",
       "      <td>...</td>\n",
       "      <td>...</td>\n",
       "      <td>...</td>\n",
       "      <td>...</td>\n",
       "      <td>...</td>\n",
       "      <td>...</td>\n",
       "      <td>...</td>\n",
       "      <td>...</td>\n",
       "      <td>...</td>\n",
       "      <td>...</td>\n",
       "      <td>...</td>\n",
       "      <td>...</td>\n",
       "      <td>...</td>\n",
       "      <td>...</td>\n",
       "      <td>...</td>\n",
       "    </tr>\n",
       "    <tr>\n",
       "      <th>11284</th>\n",
       "      <td>13832</td>\n",
       "      <td>770.713566</td>\n",
       "      <td>28993.0</td>\n",
       "      <td>643.0</td>\n",
       "      <td>72.0</td>\n",
       "      <td>LinkedIn</td>\n",
       "      <td>India</td>\n",
       "      <td>Desktop</td>\n",
       "      <td>5</td>\n",
       "      <td>0.022178</td>\n",
       "      <td>0.111975</td>\n",
       "      <td>1.198621</td>\n",
       "      <td>26.582746</td>\n",
       "      <td>10.704355</td>\n",
       "      <td>10239.559249</td>\n",
       "    </tr>\n",
       "    <tr>\n",
       "      <th>11964</th>\n",
       "      <td>11318</td>\n",
       "      <td>2329.305555</td>\n",
       "      <td>50269.0</td>\n",
       "      <td>1909.0</td>\n",
       "      <td>431.0</td>\n",
       "      <td>LinkedIn</td>\n",
       "      <td>Canada</td>\n",
       "      <td>Mobile</td>\n",
       "      <td>11</td>\n",
       "      <td>0.037976</td>\n",
       "      <td>0.225773</td>\n",
       "      <td>1.220171</td>\n",
       "      <td>46.336819</td>\n",
       "      <td>5.404421</td>\n",
       "      <td>51655.447168</td>\n",
       "    </tr>\n",
       "    <tr>\n",
       "      <th>5390</th>\n",
       "      <td>6307</td>\n",
       "      <td>1943.333297</td>\n",
       "      <td>27173.0</td>\n",
       "      <td>4874.0</td>\n",
       "      <td>80.0</td>\n",
       "      <td>Google Search</td>\n",
       "      <td>Canada</td>\n",
       "      <td>Tablet</td>\n",
       "      <td>12</td>\n",
       "      <td>0.179369</td>\n",
       "      <td>0.016414</td>\n",
       "      <td>0.398714</td>\n",
       "      <td>71.517068</td>\n",
       "      <td>24.291666</td>\n",
       "      <td>4237.287090</td>\n",
       "    </tr>\n",
       "    <tr>\n",
       "      <th>860</th>\n",
       "      <td>4154</td>\n",
       "      <td>1847.321262</td>\n",
       "      <td>12621.0</td>\n",
       "      <td>3776.0</td>\n",
       "      <td>80.0</td>\n",
       "      <td>Google Search</td>\n",
       "      <td>UK</td>\n",
       "      <td>Tablet</td>\n",
       "      <td>1</td>\n",
       "      <td>0.299184</td>\n",
       "      <td>0.021186</td>\n",
       "      <td>0.489227</td>\n",
       "      <td>146.368851</td>\n",
       "      <td>23.091515</td>\n",
       "      <td>2870.068955</td>\n",
       "    </tr>\n",
       "    <tr>\n",
       "      <th>15795</th>\n",
       "      <td>4651</td>\n",
       "      <td>362.810478</td>\n",
       "      <td>19731.0</td>\n",
       "      <td>4341.0</td>\n",
       "      <td>468.0</td>\n",
       "      <td>Email</td>\n",
       "      <td>UK</td>\n",
       "      <td>Tablet</td>\n",
       "      <td>11</td>\n",
       "      <td>0.220009</td>\n",
       "      <td>0.107809</td>\n",
       "      <td>0.083578</td>\n",
       "      <td>18.387840</td>\n",
       "      <td>0.775236</td>\n",
       "      <td>36357.046995</td>\n",
       "    </tr>\n",
       "  </tbody>\n",
       "</table>\n",
       "<p>16080 rows × 15 columns</p>\n",
       "</div>"
      ],
      "text/plain": [
       "       Campaign_ID        Spend  Impressions  Clicks  Conversions  \\\n",
       "3479          3220  3688.765140      16220.0   899.0        290.0   \n",
       "12264        14656  4196.952744      81280.0  2704.0        396.0   \n",
       "7070         12252  3914.909825      16231.0  4265.0        434.0   \n",
       "720          11340  2077.261556      13099.0  2252.0        406.0   \n",
       "11883        12662  3056.128402      73623.0  2139.0        201.0   \n",
       "...            ...          ...          ...     ...          ...   \n",
       "11284        13832   770.713566      28993.0   643.0         72.0   \n",
       "11964        11318  2329.305555      50269.0  1909.0        431.0   \n",
       "5390          6307  1943.333297      27173.0  4874.0         80.0   \n",
       "860           4154  1847.321262      12621.0  3776.0         80.0   \n",
       "15795         4651   362.810478      19731.0  4341.0        468.0   \n",
       "\n",
       "       Campaign_Type     Region Device_Type  Month       CTR  Conversion_Rate  \\\n",
       "3479        LinkedIn         UK     Desktop      1  0.055425         0.322581   \n",
       "12264        Display  Australia      Tablet      8  0.033268         0.146450   \n",
       "7070   Google Search      India      Tablet      8  0.262769         0.101758   \n",
       "720         Meta Ads         US      Mobile      3  0.171922         0.180284   \n",
       "11883        Display         US      Tablet     12  0.029053         0.093969   \n",
       "...              ...        ...         ...    ...       ...              ...   \n",
       "11284       LinkedIn      India     Desktop      5  0.022178         0.111975   \n",
       "11964       LinkedIn     Canada      Mobile     11  0.037976         0.225773   \n",
       "5390   Google Search     Canada      Tablet     12  0.179369         0.016414   \n",
       "860    Google Search         UK      Tablet      1  0.299184         0.021186   \n",
       "15795          Email         UK      Tablet     11  0.220009         0.107809   \n",
       "\n",
       "            CPC         CPM        CPA       Revenue  \n",
       "3479   4.103187  227.420785  12.719880  31337.691517  \n",
       "12264  1.552127   51.635738  10.598365  38815.860051  \n",
       "7070   0.917916  241.199546   9.020530  17393.172671  \n",
       "720    0.922407  158.581690   5.116408   8675.941277  \n",
       "11883  1.428765   41.510512  15.204619  21826.072264  \n",
       "...         ...         ...        ...           ...  \n",
       "11284  1.198621   26.582746  10.704355  10239.559249  \n",
       "11964  1.220171   46.336819   5.404421  51655.447168  \n",
       "5390   0.398714   71.517068  24.291666   4237.287090  \n",
       "860    0.489227  146.368851  23.091515   2870.068955  \n",
       "15795  0.083578   18.387840   0.775236  36357.046995  \n",
       "\n",
       "[16080 rows x 15 columns]"
      ]
     },
     "execution_count": 5,
     "metadata": {},
     "output_type": "execute_result"
    }
   ],
   "source": [
    "x_train"
   ]
  },
  {
   "cell_type": "code",
   "execution_count": 6,
   "id": "35716554-3a48-47ba-9589-fa9394e12146",
   "metadata": {},
   "outputs": [
    {
     "data": {
      "text/plain": [
       "3479      7.495442\n",
       "12264     8.248582\n",
       "7070      3.442803\n",
       "720       3.176624\n",
       "11883     6.141739\n",
       "           ...    \n",
       "11284    12.285817\n",
       "11964    21.176329\n",
       "5390      1.180422\n",
       "860       0.553638\n",
       "15795    99.209473\n",
       "Name: ROI, Length: 16080, dtype: float64"
      ]
     },
     "execution_count": 6,
     "metadata": {},
     "output_type": "execute_result"
    }
   ],
   "source": [
    "y_train"
   ]
  },
  {
   "cell_type": "code",
   "execution_count": 7,
   "id": "b979e0fb-dfa0-4693-bdcf-756bdf709fac",
   "metadata": {},
   "outputs": [
    {
     "data": {
      "text/html": [
       "<div>\n",
       "<style scoped>\n",
       "    .dataframe tbody tr th:only-of-type {\n",
       "        vertical-align: middle;\n",
       "    }\n",
       "\n",
       "    .dataframe tbody tr th {\n",
       "        vertical-align: top;\n",
       "    }\n",
       "\n",
       "    .dataframe thead th {\n",
       "        text-align: right;\n",
       "    }\n",
       "</style>\n",
       "<table border=\"1\" class=\"dataframe\">\n",
       "  <thead>\n",
       "    <tr style=\"text-align: right;\">\n",
       "      <th></th>\n",
       "      <th>Campaign_ID</th>\n",
       "      <th>Spend</th>\n",
       "      <th>Impressions</th>\n",
       "      <th>Clicks</th>\n",
       "      <th>Conversions</th>\n",
       "      <th>Campaign_Type</th>\n",
       "      <th>Region</th>\n",
       "      <th>Device_Type</th>\n",
       "      <th>Month</th>\n",
       "      <th>CTR</th>\n",
       "      <th>Conversion_Rate</th>\n",
       "      <th>CPC</th>\n",
       "      <th>CPM</th>\n",
       "      <th>CPA</th>\n",
       "      <th>Revenue</th>\n",
       "    </tr>\n",
       "  </thead>\n",
       "  <tbody>\n",
       "    <tr>\n",
       "      <th>11866</th>\n",
       "      <td>17732</td>\n",
       "      <td>3034.936518</td>\n",
       "      <td>62248.0</td>\n",
       "      <td>853.0</td>\n",
       "      <td>36.0</td>\n",
       "      <td>LinkedIn</td>\n",
       "      <td>Australia</td>\n",
       "      <td>Desktop</td>\n",
       "      <td>7</td>\n",
       "      <td>0.013703</td>\n",
       "      <td>0.042204</td>\n",
       "      <td>3.557956</td>\n",
       "      <td>48.755567</td>\n",
       "      <td>84.303790</td>\n",
       "      <td>3584.222532</td>\n",
       "    </tr>\n",
       "    <tr>\n",
       "      <th>3043</th>\n",
       "      <td>10635</td>\n",
       "      <td>1883.734599</td>\n",
       "      <td>82254.0</td>\n",
       "      <td>2999.0</td>\n",
       "      <td>74.0</td>\n",
       "      <td>Meta Ads</td>\n",
       "      <td>Australia</td>\n",
       "      <td>Tablet</td>\n",
       "      <td>5</td>\n",
       "      <td>0.036460</td>\n",
       "      <td>0.024675</td>\n",
       "      <td>0.628121</td>\n",
       "      <td>22.901435</td>\n",
       "      <td>25.455873</td>\n",
       "      <td>6146.806247</td>\n",
       "    </tr>\n",
       "    <tr>\n",
       "      <th>5456</th>\n",
       "      <td>10240</td>\n",
       "      <td>1445.404346</td>\n",
       "      <td>46684.0</td>\n",
       "      <td>4246.0</td>\n",
       "      <td>451.0</td>\n",
       "      <td>Display</td>\n",
       "      <td>Canada</td>\n",
       "      <td>Mobile</td>\n",
       "      <td>5</td>\n",
       "      <td>0.090952</td>\n",
       "      <td>0.106218</td>\n",
       "      <td>0.340416</td>\n",
       "      <td>30.961450</td>\n",
       "      <td>3.204888</td>\n",
       "      <td>13762.716247</td>\n",
       "    </tr>\n",
       "    <tr>\n",
       "      <th>2405</th>\n",
       "      <td>157</td>\n",
       "      <td>3393.464182</td>\n",
       "      <td>98292.0</td>\n",
       "      <td>2108.0</td>\n",
       "      <td>153.0</td>\n",
       "      <td>LinkedIn</td>\n",
       "      <td>Canada</td>\n",
       "      <td>Tablet</td>\n",
       "      <td>8</td>\n",
       "      <td>0.021446</td>\n",
       "      <td>0.072581</td>\n",
       "      <td>1.609803</td>\n",
       "      <td>34.524317</td>\n",
       "      <td>22.179504</td>\n",
       "      <td>28572.737942</td>\n",
       "    </tr>\n",
       "    <tr>\n",
       "      <th>15567</th>\n",
       "      <td>3712</td>\n",
       "      <td>3608.644869</td>\n",
       "      <td>10334.0</td>\n",
       "      <td>4994.0</td>\n",
       "      <td>285.0</td>\n",
       "      <td>Meta Ads</td>\n",
       "      <td>India</td>\n",
       "      <td>Desktop</td>\n",
       "      <td>3</td>\n",
       "      <td>0.483259</td>\n",
       "      <td>0.057068</td>\n",
       "      <td>0.722596</td>\n",
       "      <td>349.201168</td>\n",
       "      <td>12.661912</td>\n",
       "      <td>24768.555705</td>\n",
       "    </tr>\n",
       "    <tr>\n",
       "      <th>...</th>\n",
       "      <td>...</td>\n",
       "      <td>...</td>\n",
       "      <td>...</td>\n",
       "      <td>...</td>\n",
       "      <td>...</td>\n",
       "      <td>...</td>\n",
       "      <td>...</td>\n",
       "      <td>...</td>\n",
       "      <td>...</td>\n",
       "      <td>...</td>\n",
       "      <td>...</td>\n",
       "      <td>...</td>\n",
       "      <td>...</td>\n",
       "      <td>...</td>\n",
       "      <td>...</td>\n",
       "    </tr>\n",
       "    <tr>\n",
       "      <th>17858</th>\n",
       "      <td>17632</td>\n",
       "      <td>2534.699219</td>\n",
       "      <td>77170.0</td>\n",
       "      <td>1884.0</td>\n",
       "      <td>476.0</td>\n",
       "      <td>Display</td>\n",
       "      <td>Australia</td>\n",
       "      <td>Desktop</td>\n",
       "      <td>12</td>\n",
       "      <td>0.024414</td>\n",
       "      <td>0.252654</td>\n",
       "      <td>1.345382</td>\n",
       "      <td>32.845655</td>\n",
       "      <td>5.324998</td>\n",
       "      <td>91917.288515</td>\n",
       "    </tr>\n",
       "    <tr>\n",
       "      <th>2522</th>\n",
       "      <td>3597</td>\n",
       "      <td>1226.150956</td>\n",
       "      <td>69682.0</td>\n",
       "      <td>2591.0</td>\n",
       "      <td>98.0</td>\n",
       "      <td>LinkedIn</td>\n",
       "      <td>Australia</td>\n",
       "      <td>Desktop</td>\n",
       "      <td>12</td>\n",
       "      <td>0.037183</td>\n",
       "      <td>0.037823</td>\n",
       "      <td>0.473235</td>\n",
       "      <td>17.596380</td>\n",
       "      <td>12.511744</td>\n",
       "      <td>5589.631311</td>\n",
       "    </tr>\n",
       "    <tr>\n",
       "      <th>13563</th>\n",
       "      <td>19858</td>\n",
       "      <td>4228.382551</td>\n",
       "      <td>84845.0</td>\n",
       "      <td>2141.0</td>\n",
       "      <td>425.0</td>\n",
       "      <td>Google Search</td>\n",
       "      <td>India</td>\n",
       "      <td>Tablet</td>\n",
       "      <td>4</td>\n",
       "      <td>0.025234</td>\n",
       "      <td>0.198505</td>\n",
       "      <td>1.974957</td>\n",
       "      <td>49.836555</td>\n",
       "      <td>9.949135</td>\n",
       "      <td>68114.698855</td>\n",
       "    </tr>\n",
       "    <tr>\n",
       "      <th>15502</th>\n",
       "      <td>13731</td>\n",
       "      <td>1767.103683</td>\n",
       "      <td>23859.0</td>\n",
       "      <td>273.0</td>\n",
       "      <td>133.0</td>\n",
       "      <td>Email</td>\n",
       "      <td>UK</td>\n",
       "      <td>Desktop</td>\n",
       "      <td>8</td>\n",
       "      <td>0.011442</td>\n",
       "      <td>0.487179</td>\n",
       "      <td>6.472907</td>\n",
       "      <td>74.064449</td>\n",
       "      <td>13.286494</td>\n",
       "      <td>12551.310206</td>\n",
       "    </tr>\n",
       "    <tr>\n",
       "      <th>518</th>\n",
       "      <td>15229</td>\n",
       "      <td>4166.598352</td>\n",
       "      <td>97605.0</td>\n",
       "      <td>4162.0</td>\n",
       "      <td>352.0</td>\n",
       "      <td>Email</td>\n",
       "      <td>Australia</td>\n",
       "      <td>Desktop</td>\n",
       "      <td>7</td>\n",
       "      <td>0.042641</td>\n",
       "      <td>0.084575</td>\n",
       "      <td>1.001105</td>\n",
       "      <td>42.688370</td>\n",
       "      <td>11.836927</td>\n",
       "      <td>57535.376129</td>\n",
       "    </tr>\n",
       "  </tbody>\n",
       "</table>\n",
       "<p>4020 rows × 15 columns</p>\n",
       "</div>"
      ],
      "text/plain": [
       "       Campaign_ID        Spend  Impressions  Clicks  Conversions  \\\n",
       "11866        17732  3034.936518      62248.0   853.0         36.0   \n",
       "3043         10635  1883.734599      82254.0  2999.0         74.0   \n",
       "5456         10240  1445.404346      46684.0  4246.0        451.0   \n",
       "2405           157  3393.464182      98292.0  2108.0        153.0   \n",
       "15567         3712  3608.644869      10334.0  4994.0        285.0   \n",
       "...            ...          ...          ...     ...          ...   \n",
       "17858        17632  2534.699219      77170.0  1884.0        476.0   \n",
       "2522          3597  1226.150956      69682.0  2591.0         98.0   \n",
       "13563        19858  4228.382551      84845.0  2141.0        425.0   \n",
       "15502        13731  1767.103683      23859.0   273.0        133.0   \n",
       "518          15229  4166.598352      97605.0  4162.0        352.0   \n",
       "\n",
       "       Campaign_Type     Region Device_Type  Month       CTR  Conversion_Rate  \\\n",
       "11866       LinkedIn  Australia     Desktop      7  0.013703         0.042204   \n",
       "3043        Meta Ads  Australia      Tablet      5  0.036460         0.024675   \n",
       "5456         Display     Canada      Mobile      5  0.090952         0.106218   \n",
       "2405        LinkedIn     Canada      Tablet      8  0.021446         0.072581   \n",
       "15567       Meta Ads      India     Desktop      3  0.483259         0.057068   \n",
       "...              ...        ...         ...    ...       ...              ...   \n",
       "17858        Display  Australia     Desktop     12  0.024414         0.252654   \n",
       "2522        LinkedIn  Australia     Desktop     12  0.037183         0.037823   \n",
       "13563  Google Search      India      Tablet      4  0.025234         0.198505   \n",
       "15502          Email         UK     Desktop      8  0.011442         0.487179   \n",
       "518            Email  Australia     Desktop      7  0.042641         0.084575   \n",
       "\n",
       "            CPC         CPM        CPA       Revenue  \n",
       "11866  3.557956   48.755567  84.303790   3584.222532  \n",
       "3043   0.628121   22.901435  25.455873   6146.806247  \n",
       "5456   0.340416   30.961450   3.204888  13762.716247  \n",
       "2405   1.609803   34.524317  22.179504  28572.737942  \n",
       "15567  0.722596  349.201168  12.661912  24768.555705  \n",
       "...         ...         ...        ...           ...  \n",
       "17858  1.345382   32.845655   5.324998  91917.288515  \n",
       "2522   0.473235   17.596380  12.511744   5589.631311  \n",
       "13563  1.974957   49.836555   9.949135  68114.698855  \n",
       "15502  6.472907   74.064449  13.286494  12551.310206  \n",
       "518    1.001105   42.688370  11.836927  57535.376129  \n",
       "\n",
       "[4020 rows x 15 columns]"
      ]
     },
     "execution_count": 7,
     "metadata": {},
     "output_type": "execute_result"
    }
   ],
   "source": [
    "x_test"
   ]
  },
  {
   "cell_type": "code",
   "execution_count": 8,
   "id": "72b539ed-3b38-45a8-8887-e541835580be",
   "metadata": {},
   "outputs": [
    {
     "data": {
      "text/plain": [
       "11866     0.180988\n",
       "3043      2.263096\n",
       "5456      8.521707\n",
       "2405      7.419932\n",
       "15567     5.863672\n",
       "           ...    \n",
       "17858    35.263588\n",
       "2522      3.558681\n",
       "13563    15.108925\n",
       "15502     6.102758\n",
       "518      12.808717\n",
       "Name: ROI, Length: 4020, dtype: float64"
      ]
     },
     "execution_count": 8,
     "metadata": {},
     "output_type": "execute_result"
    }
   ],
   "source": [
    "y_test"
   ]
  },
  {
   "cell_type": "code",
   "execution_count": 9,
   "id": "7000882e-ba23-4a47-85d6-5b5263811f14",
   "metadata": {},
   "outputs": [
    {
     "data": {
      "text/plain": [
       "(16080, 15)"
      ]
     },
     "execution_count": 9,
     "metadata": {},
     "output_type": "execute_result"
    }
   ],
   "source": [
    "x_train.shape\n",
    "\n"
   ]
  },
  {
   "cell_type": "code",
   "execution_count": 10,
   "id": "8ff5999c-8bd7-4640-938a-cf6af85072d6",
   "metadata": {},
   "outputs": [
    {
     "data": {
      "text/plain": [
       "(16080,)"
      ]
     },
     "execution_count": 10,
     "metadata": {},
     "output_type": "execute_result"
    }
   ],
   "source": [
    "y_train.shape"
   ]
  },
  {
   "cell_type": "markdown",
   "id": "3489205a-92aa-400f-9790-fae3cf811553",
   "metadata": {},
   "source": [
    "### 3. EDA"
   ]
  },
  {
   "cell_type": "code",
   "execution_count": 11,
   "id": "f92ac5fb-c156-4819-833f-62a03ac48f82",
   "metadata": {},
   "outputs": [
    {
     "name": "stdout",
     "output_type": "stream",
     "text": [
      "<class 'pandas.core.frame.DataFrame'>\n",
      "Index: 16080 entries, 3479 to 15795\n",
      "Data columns (total 15 columns):\n",
      " #   Column           Non-Null Count  Dtype  \n",
      "---  ------           --------------  -----  \n",
      " 0   Campaign_ID      16080 non-null  int64  \n",
      " 1   Spend            15913 non-null  float64\n",
      " 2   Impressions      15915 non-null  float64\n",
      " 3   Clicks           15912 non-null  float64\n",
      " 4   Conversions      15920 non-null  float64\n",
      " 5   Campaign_Type    16080 non-null  object \n",
      " 6   Region           16080 non-null  object \n",
      " 7   Device_Type      16080 non-null  object \n",
      " 8   Month            16080 non-null  int64  \n",
      " 9   CTR              16080 non-null  float64\n",
      " 10  Conversion_Rate  16080 non-null  float64\n",
      " 11  CPC              16080 non-null  float64\n",
      " 12  CPM              16080 non-null  float64\n",
      " 13  CPA              16080 non-null  float64\n",
      " 14  Revenue          15922 non-null  float64\n",
      "dtypes: float64(10), int64(2), object(3)\n",
      "memory usage: 2.0+ MB\n"
     ]
    }
   ],
   "source": [
    "x_train.info()"
   ]
  },
  {
   "cell_type": "code",
   "execution_count": 12,
   "id": "ec36960d-39df-419e-99a3-e66cbf33d183",
   "metadata": {},
   "outputs": [],
   "source": [
    "# x_train.duplicated().sum()"
   ]
  },
  {
   "cell_type": "code",
   "execution_count": 13,
   "id": "0cbf1b0b-2995-4a70-9ad0-2ec24f49da8b",
   "metadata": {},
   "outputs": [],
   "source": [
    "# x_train.drop_duplicates(inplace = True)"
   ]
  },
  {
   "cell_type": "code",
   "execution_count": 14,
   "id": "81269a1b-6ad8-44d4-8210-8113775e7a87",
   "metadata": {},
   "outputs": [],
   "source": [
    "# x_train.duplicated().sum()"
   ]
  },
  {
   "cell_type": "code",
   "execution_count": 15,
   "id": "0247afa2-a28e-4afe-8428-4ac41850210a",
   "metadata": {},
   "outputs": [
    {
     "data": {
      "text/plain": [
       "Campaign_ID          0\n",
       "Spend              167\n",
       "Impressions        165\n",
       "Clicks             168\n",
       "Conversions        160\n",
       "Campaign_Type        0\n",
       "Region               0\n",
       "Device_Type          0\n",
       "Month                0\n",
       "CTR                  0\n",
       "Conversion_Rate      0\n",
       "CPC                  0\n",
       "CPM                  0\n",
       "CPA                  0\n",
       "Revenue            158\n",
       "dtype: int64"
      ]
     },
     "execution_count": 15,
     "metadata": {},
     "output_type": "execute_result"
    }
   ],
   "source": [
    "x_train.isna().sum()"
   ]
  },
  {
   "cell_type": "code",
   "execution_count": 16,
   "id": "d779ef8a-2da1-48b4-a1f2-9023ee949558",
   "metadata": {},
   "outputs": [],
   "source": [
    "numeric_cols = [\"Spend\", \"Impressions\", \"Clicks\", \"Conversions\", \"Revenue\"]\n",
    "\n",
    "# Initialize KNN imputer\n",
    "imputer = KNNImputer(n_neighbors=5)\n",
    "\n",
    "# Apply KNN imputer only on numeric columns\n",
    "x_train[numeric_cols] = imputer.fit_transform(x_train[numeric_cols])\n"
   ]
  },
  {
   "cell_type": "code",
   "execution_count": 17,
   "id": "b0767f92-766f-445e-acf9-7ec580e28eb5",
   "metadata": {},
   "outputs": [
    {
     "data": {
      "text/plain": [
       "Campaign_ID        0\n",
       "Spend              0\n",
       "Impressions        0\n",
       "Clicks             0\n",
       "Conversions        0\n",
       "Campaign_Type      0\n",
       "Region             0\n",
       "Device_Type        0\n",
       "Month              0\n",
       "CTR                0\n",
       "Conversion_Rate    0\n",
       "CPC                0\n",
       "CPM                0\n",
       "CPA                0\n",
       "Revenue            0\n",
       "dtype: int64"
      ]
     },
     "execution_count": 17,
     "metadata": {},
     "output_type": "execute_result"
    }
   ],
   "source": [
    "x_train.isna().sum()"
   ]
  },
  {
   "cell_type": "code",
   "execution_count": 18,
   "id": "298479b6-a104-4f94-b666-046dac885aa9",
   "metadata": {},
   "outputs": [],
   "source": [
    "# x_test.drop_duplicates(inplace = True)"
   ]
  },
  {
   "cell_type": "code",
   "execution_count": 19,
   "id": "c80bc9d2-f860-4acd-ae01-48c78d1f1911",
   "metadata": {},
   "outputs": [],
   "source": [
    "numeric_cols = [\"Spend\", \"Impressions\", \"Clicks\", \"Conversions\", \"Revenue\"]\n",
    "\n",
    "imputer = KNNImputer(n_neighbors=5)\n",
    "\n",
    "x_test[numeric_cols] = imputer.fit_transform(x_test[numeric_cols])\n"
   ]
  },
  {
   "cell_type": "markdown",
   "id": "e31b7091-b355-4a38-93e3-6eab147ee38d",
   "metadata": {},
   "source": [
    "#### 1. Campaign_ID "
   ]
  },
  {
   "cell_type": "code",
   "execution_count": 20,
   "id": "49572050-43f4-4997-9145-26b1d5ef2a39",
   "metadata": {},
   "outputs": [
    {
     "data": {
      "text/plain": [
       "3479      3220\n",
       "12264    14656\n",
       "7070     12252\n",
       "720      11340\n",
       "11883    12662\n",
       "         ...  \n",
       "11284    13832\n",
       "11964    11318\n",
       "5390      6307\n",
       "860       4154\n",
       "15795     4651\n",
       "Name: Campaign_ID, Length: 16080, dtype: int64"
      ]
     },
     "execution_count": 20,
     "metadata": {},
     "output_type": "execute_result"
    }
   ],
   "source": [
    "x_train[\"Campaign_ID\"]"
   ]
  },
  {
   "cell_type": "code",
   "execution_count": 21,
   "id": "8315ec08-d825-491f-9c92-083d6d44c987",
   "metadata": {},
   "outputs": [],
   "source": [
    "x_train.drop(columns= ['Campaign_ID'], inplace= True)"
   ]
  },
  {
   "cell_type": "markdown",
   "id": "299d40c1-401c-44c1-b233-b6323781e110",
   "metadata": {},
   "source": [
    "#### 2. Spend"
   ]
  },
  {
   "cell_type": "code",
   "execution_count": 22,
   "id": "82b56467-6773-44c6-b919-9548d3f57156",
   "metadata": {},
   "outputs": [
    {
     "data": {
      "text/plain": [
       "3479     3688.765140\n",
       "12264    4196.952744\n",
       "7070     3914.909825\n",
       "720      2077.261556\n",
       "11883    3056.128402\n",
       "            ...     \n",
       "11284     770.713566\n",
       "11964    2329.305555\n",
       "5390     1943.333297\n",
       "860      1847.321262\n",
       "15795     362.810478\n",
       "Name: Spend, Length: 16080, dtype: float64"
      ]
     },
     "execution_count": 22,
     "metadata": {},
     "output_type": "execute_result"
    }
   ],
   "source": [
    "x_train['Spend']"
   ]
  },
  {
   "cell_type": "code",
   "execution_count": 23,
   "id": "3a1226b3-6103-4fed-9304-0320c8869d58",
   "metadata": {},
   "outputs": [
    {
     "data": {
      "image/png": "[encoded data removed]",
      "text/plain": [
       "<Figure size 640x480 with 1 Axes>"
      ]
     },
     "metadata": {},
     "output_type": "display_data"
    }
   ],
   "source": [
    "sns.boxplot(x_train['Spend'])\n",
    "plt.show()"
   ]
  },
  {
   "cell_type": "code",
   "execution_count": 24,
   "id": "bd8702a1-64d7-42f0-8c41-aa628aae15db",
   "metadata": {},
   "outputs": [],
   "source": [
    "def impute_outliers(feature):\n",
    "    q1 = feature.quantile(0.25)\n",
    "    q3 = feature.quantile(0.75)\n",
    "    iqr = q3 - q1\n",
    "    \n",
    "    upper_tail = q3 + 1.5 * iqr\n",
    "    lower_tail = q1 - 1.5 * iqr\n",
    "    \n",
    "    # Cap values\n",
    "    feature = feature.clip(lower=lower_tail, upper=upper_tail)\n",
    "    return feature\n",
    "\n",
    "# Apply back to your column\n",
    "x_train['Spend'] = impute_outliers(x_train['Spend'])\n"
   ]
  },
  {
   "cell_type": "code",
   "execution_count": 25,
   "id": "cc50011f-ffe8-4ac0-b286-9da897f6ad31",
   "metadata": {},
   "outputs": [
    {
     "data": {
      "image/png": "[encoded data removed]",
      "text/plain": [
       "<Figure size 640x480 with 1 Axes>"
      ]
     },
     "metadata": {},
     "output_type": "display_data"
    }
   ],
   "source": [
    "sns.boxplot(x_train['Spend'])\n",
    "plt.show()"
   ]
  },
  {
   "cell_type": "code",
   "execution_count": 26,
   "id": "98f95d88-c6cb-49d6-ab29-cf5e77ad9144",
   "metadata": {},
   "outputs": [
    {
     "data": {
      "image/png": "[encoded data removed]",
      "text/plain": [
       "<Figure size 640x480 with 1 Axes>"
      ]
     },
     "metadata": {},
     "output_type": "display_data"
    }
   ],
   "source": [
    "sns.kdeplot(x_train['Spend'])\n",
    "plt.show()"
   ]
  },
  {
   "cell_type": "code",
   "execution_count": 27,
   "id": "aecb3966-303d-4cdf-bde7-4786f8b1c2c2",
   "metadata": {},
   "outputs": [
    {
     "data": {
      "text/plain": [
       "3479     16220.0\n",
       "12264    81280.0\n",
       "7070     16231.0\n",
       "720      13099.0\n",
       "11883    73623.0\n",
       "          ...   \n",
       "11284    28993.0\n",
       "11964    50269.0\n",
       "5390     27173.0\n",
       "860      12621.0\n",
       "15795    19731.0\n",
       "Name: Impressions, Length: 16080, dtype: float64"
      ]
     },
     "execution_count": 27,
     "metadata": {},
     "output_type": "execute_result"
    }
   ],
   "source": [
    "x_train['Impressions']"
   ]
  },
  {
   "cell_type": "code",
   "execution_count": 28,
   "id": "94ca612a-22bf-401a-a461-c8e6885853e7",
   "metadata": {},
   "outputs": [
    {
     "data": {
      "image/png": "[encoded data removed]",
      "text/plain": [
       "<Figure size 640x480 with 1 Axes>"
      ]
     },
     "metadata": {},
     "output_type": "display_data"
    }
   ],
   "source": [
    "sns.boxplot(x_train['Impressions'])\n",
    "plt.show()"
   ]
  },
  {
   "cell_type": "code",
   "execution_count": 29,
   "id": "77d35ed1-9d10-47b8-b88f-a044daf2c5d9",
   "metadata": {},
   "outputs": [
    {
     "data": {
      "image/png": "[encoded data removed]",
      "text/plain": [
       "<Figure size 640x480 with 1 Axes>"
      ]
     },
     "metadata": {},
     "output_type": "display_data"
    }
   ],
   "source": [
    "sns.kdeplot(x_train['Impressions'])\n",
    "plt.show()"
   ]
  },
  {
   "cell_type": "code",
   "execution_count": 30,
   "id": "63f6b9da-0837-4246-8806-b8da8a4c4e97",
   "metadata": {},
   "outputs": [
    {
     "data": {
      "text/plain": [
       "3479      899.0\n",
       "12264    2704.0\n",
       "7070     4265.0\n",
       "720      2252.0\n",
       "11883    2139.0\n",
       "          ...  \n",
       "11284     643.0\n",
       "11964    1909.0\n",
       "5390     4874.0\n",
       "860      3776.0\n",
       "15795    4341.0\n",
       "Name: Clicks, Length: 16080, dtype: float64"
      ]
     },
     "execution_count": 30,
     "metadata": {},
     "output_type": "execute_result"
    }
   ],
   "source": [
    "x_train['Clicks']"
   ]
  },
  {
   "cell_type": "code",
   "execution_count": 31,
   "id": "f0113b43-e0c2-4e19-94b2-dc0d7a4e0ee6",
   "metadata": {},
   "outputs": [
    {
     "data": {
      "image/png": "[encoded data removed]",
      "text/plain": [
       "<Figure size 640x480 with 1 Axes>"
      ]
     },
     "metadata": {},
     "output_type": "display_data"
    }
   ],
   "source": [
    "sns.boxplot(x_train['Clicks'])\n",
    "plt.show()"
   ]
  },
  {
   "cell_type": "code",
   "execution_count": 32,
   "id": "e210215f-276a-4ebc-a747-d617a28eb4a7",
   "metadata": {},
   "outputs": [
    {
     "data": {
      "text/plain": [
       "3479     290.0\n",
       "12264    396.0\n",
       "7070     434.0\n",
       "720      406.0\n",
       "11883    201.0\n",
       "         ...  \n",
       "11284     72.0\n",
       "11964    431.0\n",
       "5390      80.0\n",
       "860       80.0\n",
       "15795    468.0\n",
       "Name: Conversions, Length: 16080, dtype: float64"
      ]
     },
     "execution_count": 32,
     "metadata": {},
     "output_type": "execute_result"
    }
   ],
   "source": [
    "x_train['Conversions']"
   ]
  },
  {
   "cell_type": "code",
   "execution_count": 33,
   "id": "8e5ade0b-648f-44ea-a4f6-e7fed7257de1",
   "metadata": {},
   "outputs": [
    {
     "data": {
      "image/png": "[encoded data removed]",
      "text/plain": [
       "<Figure size 640x480 with 1 Axes>"
      ]
     },
     "metadata": {},
     "output_type": "display_data"
    }
   ],
   "source": [
    "sns.boxplot(x_train['Conversions'])\n",
    "plt.show()"
   ]
  },
  {
   "cell_type": "code",
   "execution_count": 34,
   "id": "fb8932b4-ccb2-41a6-9bc6-068eeaf128a6",
   "metadata": {},
   "outputs": [
    {
     "data": {
      "image/png": "[encoded data removed]",
      "text/plain": [
       "<Figure size 640x480 with 1 Axes>"
      ]
     },
     "metadata": {},
     "output_type": "display_data"
    }
   ],
   "source": [
    "sns.kdeplot(x_train['Conversions'])\n",
    "plt.show()"
   ]
  },
  {
   "cell_type": "code",
   "execution_count": 35,
   "id": "ab8cde4a-dde1-4aa2-b00d-8d678f966a0e",
   "metadata": {},
   "outputs": [
    {
     "data": {
      "text/plain": [
       "3479          LinkedIn\n",
       "12264          Display\n",
       "7070     Google Search\n",
       "720           Meta Ads\n",
       "11883          Display\n",
       "             ...      \n",
       "11284         LinkedIn\n",
       "11964         LinkedIn\n",
       "5390     Google Search\n",
       "860      Google Search\n",
       "15795            Email\n",
       "Name: Campaign_Type, Length: 16080, dtype: object"
      ]
     },
     "execution_count": 35,
     "metadata": {},
     "output_type": "execute_result"
    }
   ],
   "source": [
    "x_train['Campaign_Type']"
   ]
  },
  {
   "cell_type": "code",
   "execution_count": 36,
   "id": "efaa4e21-fee3-4596-9f19-29379b6c3de8",
   "metadata": {},
   "outputs": [
    {
     "data": {
      "text/plain": [
       "Campaign_Type\n",
       "Google Search    3286\n",
       "Display          3244\n",
       "Meta Ads         3218\n",
       "LinkedIn         3204\n",
       "Email            3128\n",
       "Name: count, dtype: int64"
      ]
     },
     "execution_count": 36,
     "metadata": {},
     "output_type": "execute_result"
    }
   ],
   "source": [
    "x_train['Campaign_Type'].value_counts()"
   ]
  },
  {
   "cell_type": "code",
   "execution_count": 37,
   "id": "8b609216-e235-469d-96bc-10a4c7f62f53",
   "metadata": {},
   "outputs": [],
   "source": [
    "# dummies = pd.get_dummies(x_train['Campaign_Type'], prefix='Campaign', dtype=int, drop_first=True)\n",
    "# x_train = pd.concat([x_train.drop('Campaign_Type', axis=1), dummies], axis=1)\n",
    "campaign = {\n",
    "    'LinkedIn':0,\n",
    "    'Meta Ads':1, \n",
    "    'Display':2, \n",
    "    'Google Search':3, \n",
    "    'Email':4\n",
    "}\n",
    "\n",
    "x_train['Campaign_Type']=x_train['Campaign_Type'].map(campaign)"
   ]
  },
  {
   "cell_type": "code",
   "execution_count": 38,
   "id": "d0c4d407-8d11-4d37-a77a-c6ef7a2bb614",
   "metadata": {},
   "outputs": [
    {
     "data": {
      "text/plain": [
       "array([0, 2, 3, 1, 4])"
      ]
     },
     "execution_count": 38,
     "metadata": {},
     "output_type": "execute_result"
    }
   ],
   "source": [
    "x_train['Campaign_Type'].unique()"
   ]
  },
  {
   "cell_type": "code",
   "execution_count": 39,
   "id": "3b823c7f-e60a-44d9-8865-bcdcb906883f",
   "metadata": {},
   "outputs": [
    {
     "data": {
      "text/html": [
       "<div>\n",
       "<style scoped>\n",
       "    .dataframe tbody tr th:only-of-type {\n",
       "        vertical-align: middle;\n",
       "    }\n",
       "\n",
       "    .dataframe tbody tr th {\n",
       "        vertical-align: top;\n",
       "    }\n",
       "\n",
       "    .dataframe thead th {\n",
       "        text-align: right;\n",
       "    }\n",
       "</style>\n",
       "<table border=\"1\" class=\"dataframe\">\n",
       "  <thead>\n",
       "    <tr style=\"text-align: right;\">\n",
       "      <th></th>\n",
       "      <th>Spend</th>\n",
       "      <th>Impressions</th>\n",
       "      <th>Clicks</th>\n",
       "      <th>Conversions</th>\n",
       "      <th>Campaign_Type</th>\n",
       "      <th>Region</th>\n",
       "      <th>Device_Type</th>\n",
       "      <th>Month</th>\n",
       "      <th>CTR</th>\n",
       "      <th>Conversion_Rate</th>\n",
       "      <th>CPC</th>\n",
       "      <th>CPM</th>\n",
       "      <th>CPA</th>\n",
       "      <th>Revenue</th>\n",
       "    </tr>\n",
       "  </thead>\n",
       "  <tbody>\n",
       "    <tr>\n",
       "      <th>3479</th>\n",
       "      <td>3688.765140</td>\n",
       "      <td>16220.0</td>\n",
       "      <td>899.0</td>\n",
       "      <td>290.0</td>\n",
       "      <td>0</td>\n",
       "      <td>UK</td>\n",
       "      <td>Desktop</td>\n",
       "      <td>1</td>\n",
       "      <td>0.055425</td>\n",
       "      <td>0.322581</td>\n",
       "      <td>4.103187</td>\n",
       "      <td>227.420785</td>\n",
       "      <td>12.719880</td>\n",
       "      <td>31337.691517</td>\n",
       "    </tr>\n",
       "    <tr>\n",
       "      <th>12264</th>\n",
       "      <td>4196.952744</td>\n",
       "      <td>81280.0</td>\n",
       "      <td>2704.0</td>\n",
       "      <td>396.0</td>\n",
       "      <td>2</td>\n",
       "      <td>Australia</td>\n",
       "      <td>Tablet</td>\n",
       "      <td>8</td>\n",
       "      <td>0.033268</td>\n",
       "      <td>0.146450</td>\n",
       "      <td>1.552127</td>\n",
       "      <td>51.635738</td>\n",
       "      <td>10.598365</td>\n",
       "      <td>38815.860051</td>\n",
       "    </tr>\n",
       "    <tr>\n",
       "      <th>7070</th>\n",
       "      <td>3914.909825</td>\n",
       "      <td>16231.0</td>\n",
       "      <td>4265.0</td>\n",
       "      <td>434.0</td>\n",
       "      <td>3</td>\n",
       "      <td>India</td>\n",
       "      <td>Tablet</td>\n",
       "      <td>8</td>\n",
       "      <td>0.262769</td>\n",
       "      <td>0.101758</td>\n",
       "      <td>0.917916</td>\n",
       "      <td>241.199546</td>\n",
       "      <td>9.020530</td>\n",
       "      <td>17393.172671</td>\n",
       "    </tr>\n",
       "    <tr>\n",
       "      <th>720</th>\n",
       "      <td>2077.261556</td>\n",
       "      <td>13099.0</td>\n",
       "      <td>2252.0</td>\n",
       "      <td>406.0</td>\n",
       "      <td>1</td>\n",
       "      <td>US</td>\n",
       "      <td>Mobile</td>\n",
       "      <td>3</td>\n",
       "      <td>0.171922</td>\n",
       "      <td>0.180284</td>\n",
       "      <td>0.922407</td>\n",
       "      <td>158.581690</td>\n",
       "      <td>5.116408</td>\n",
       "      <td>8675.941277</td>\n",
       "    </tr>\n",
       "    <tr>\n",
       "      <th>11883</th>\n",
       "      <td>3056.128402</td>\n",
       "      <td>73623.0</td>\n",
       "      <td>2139.0</td>\n",
       "      <td>201.0</td>\n",
       "      <td>2</td>\n",
       "      <td>US</td>\n",
       "      <td>Tablet</td>\n",
       "      <td>12</td>\n",
       "      <td>0.029053</td>\n",
       "      <td>0.093969</td>\n",
       "      <td>1.428765</td>\n",
       "      <td>41.510512</td>\n",
       "      <td>15.204619</td>\n",
       "      <td>21826.072264</td>\n",
       "    </tr>\n",
       "    <tr>\n",
       "      <th>...</th>\n",
       "      <td>...</td>\n",
       "      <td>...</td>\n",
       "      <td>...</td>\n",
       "      <td>...</td>\n",
       "      <td>...</td>\n",
       "      <td>...</td>\n",
       "      <td>...</td>\n",
       "      <td>...</td>\n",
       "      <td>...</td>\n",
       "      <td>...</td>\n",
       "      <td>...</td>\n",
       "      <td>...</td>\n",
       "      <td>...</td>\n",
       "      <td>...</td>\n",
       "    </tr>\n",
       "    <tr>\n",
       "      <th>11284</th>\n",
       "      <td>770.713566</td>\n",
       "      <td>28993.0</td>\n",
       "      <td>643.0</td>\n",
       "      <td>72.0</td>\n",
       "      <td>0</td>\n",
       "      <td>India</td>\n",
       "      <td>Desktop</td>\n",
       "      <td>5</td>\n",
       "      <td>0.022178</td>\n",
       "      <td>0.111975</td>\n",
       "      <td>1.198621</td>\n",
       "      <td>26.582746</td>\n",
       "      <td>10.704355</td>\n",
       "      <td>10239.559249</td>\n",
       "    </tr>\n",
       "    <tr>\n",
       "      <th>11964</th>\n",
       "      <td>2329.305555</td>\n",
       "      <td>50269.0</td>\n",
       "      <td>1909.0</td>\n",
       "      <td>431.0</td>\n",
       "      <td>0</td>\n",
       "      <td>Canada</td>\n",
       "      <td>Mobile</td>\n",
       "      <td>11</td>\n",
       "      <td>0.037976</td>\n",
       "      <td>0.225773</td>\n",
       "      <td>1.220171</td>\n",
       "      <td>46.336819</td>\n",
       "      <td>5.404421</td>\n",
       "      <td>51655.447168</td>\n",
       "    </tr>\n",
       "    <tr>\n",
       "      <th>5390</th>\n",
       "      <td>1943.333297</td>\n",
       "      <td>27173.0</td>\n",
       "      <td>4874.0</td>\n",
       "      <td>80.0</td>\n",
       "      <td>3</td>\n",
       "      <td>Canada</td>\n",
       "      <td>Tablet</td>\n",
       "      <td>12</td>\n",
       "      <td>0.179369</td>\n",
       "      <td>0.016414</td>\n",
       "      <td>0.398714</td>\n",
       "      <td>71.517068</td>\n",
       "      <td>24.291666</td>\n",
       "      <td>4237.287090</td>\n",
       "    </tr>\n",
       "    <tr>\n",
       "      <th>860</th>\n",
       "      <td>1847.321262</td>\n",
       "      <td>12621.0</td>\n",
       "      <td>3776.0</td>\n",
       "      <td>80.0</td>\n",
       "      <td>3</td>\n",
       "      <td>UK</td>\n",
       "      <td>Tablet</td>\n",
       "      <td>1</td>\n",
       "      <td>0.299184</td>\n",
       "      <td>0.021186</td>\n",
       "      <td>0.489227</td>\n",
       "      <td>146.368851</td>\n",
       "      <td>23.091515</td>\n",
       "      <td>2870.068955</td>\n",
       "    </tr>\n",
       "    <tr>\n",
       "      <th>15795</th>\n",
       "      <td>362.810478</td>\n",
       "      <td>19731.0</td>\n",
       "      <td>4341.0</td>\n",
       "      <td>468.0</td>\n",
       "      <td>4</td>\n",
       "      <td>UK</td>\n",
       "      <td>Tablet</td>\n",
       "      <td>11</td>\n",
       "      <td>0.220009</td>\n",
       "      <td>0.107809</td>\n",
       "      <td>0.083578</td>\n",
       "      <td>18.387840</td>\n",
       "      <td>0.775236</td>\n",
       "      <td>36357.046995</td>\n",
       "    </tr>\n",
       "  </tbody>\n",
       "</table>\n",
       "<p>16080 rows × 14 columns</p>\n",
       "</div>"
      ],
      "text/plain": [
       "             Spend  Impressions  Clicks  Conversions  Campaign_Type  \\\n",
       "3479   3688.765140      16220.0   899.0        290.0              0   \n",
       "12264  4196.952744      81280.0  2704.0        396.0              2   \n",
       "7070   3914.909825      16231.0  4265.0        434.0              3   \n",
       "720    2077.261556      13099.0  2252.0        406.0              1   \n",
       "11883  3056.128402      73623.0  2139.0        201.0              2   \n",
       "...            ...          ...     ...          ...            ...   \n",
       "11284   770.713566      28993.0   643.0         72.0              0   \n",
       "11964  2329.305555      50269.0  1909.0        431.0              0   \n",
       "5390   1943.333297      27173.0  4874.0         80.0              3   \n",
       "860    1847.321262      12621.0  3776.0         80.0              3   \n",
       "15795   362.810478      19731.0  4341.0        468.0              4   \n",
       "\n",
       "          Region Device_Type  Month       CTR  Conversion_Rate       CPC  \\\n",
       "3479          UK     Desktop      1  0.055425         0.322581  4.103187   \n",
       "12264  Australia      Tablet      8  0.033268         0.146450  1.552127   \n",
       "7070       India      Tablet      8  0.262769         0.101758  0.917916   \n",
       "720           US      Mobile      3  0.171922         0.180284  0.922407   \n",
       "11883         US      Tablet     12  0.029053         0.093969  1.428765   \n",
       "...          ...         ...    ...       ...              ...       ...   \n",
       "11284      India     Desktop      5  0.022178         0.111975  1.198621   \n",
       "11964     Canada      Mobile     11  0.037976         0.225773  1.220171   \n",
       "5390      Canada      Tablet     12  0.179369         0.016414  0.398714   \n",
       "860           UK      Tablet      1  0.299184         0.021186  0.489227   \n",
       "15795         UK      Tablet     11  0.220009         0.107809  0.083578   \n",
       "\n",
       "              CPM        CPA       Revenue  \n",
       "3479   227.420785  12.719880  31337.691517  \n",
       "12264   51.635738  10.598365  38815.860051  \n",
       "7070   241.199546   9.020530  17393.172671  \n",
       "720    158.581690   5.116408   8675.941277  \n",
       "11883   41.510512  15.204619  21826.072264  \n",
       "...           ...        ...           ...  \n",
       "11284   26.582746  10.704355  10239.559249  \n",
       "11964   46.336819   5.404421  51655.447168  \n",
       "5390    71.517068  24.291666   4237.287090  \n",
       "860    146.368851  23.091515   2870.068955  \n",
       "15795   18.387840   0.775236  36357.046995  \n",
       "\n",
       "[16080 rows x 14 columns]"
      ]
     },
     "execution_count": 39,
     "metadata": {},
     "output_type": "execute_result"
    }
   ],
   "source": [
    "x_train"
   ]
  },
  {
   "cell_type": "code",
   "execution_count": 40,
   "id": "ee344bd4-7821-4517-a149-8723250e5804",
   "metadata": {},
   "outputs": [
    {
     "data": {
      "text/plain": [
       "3479            UK\n",
       "12264    Australia\n",
       "7070         India\n",
       "720             US\n",
       "11883           US\n",
       "           ...    \n",
       "11284        India\n",
       "11964       Canada\n",
       "5390        Canada\n",
       "860             UK\n",
       "15795           UK\n",
       "Name: Region, Length: 16080, dtype: object"
      ]
     },
     "execution_count": 40,
     "metadata": {},
     "output_type": "execute_result"
    }
   ],
   "source": [
    "x_train['Region']"
   ]
  },
  {
   "cell_type": "code",
   "execution_count": 41,
   "id": "34b65718-73bf-45f4-81be-969b69c01690",
   "metadata": {},
   "outputs": [
    {
     "data": {
      "text/plain": [
       "Region\n",
       "Australia    3296\n",
       "Canada       3268\n",
       "UK           3189\n",
       "India        3180\n",
       "US           3147\n",
       "Name: count, dtype: int64"
      ]
     },
     "execution_count": 41,
     "metadata": {},
     "output_type": "execute_result"
    }
   ],
   "source": [
    "x_train['Region'].value_counts()"
   ]
  },
  {
   "cell_type": "code",
   "execution_count": 42,
   "id": "dce2066d-3ea6-47b9-ae58-7d3bafc569ad",
   "metadata": {},
   "outputs": [],
   "source": [
    "x_train.drop(columns=[\"Region\"], inplace=True)"
   ]
  },
  {
   "cell_type": "code",
   "execution_count": 43,
   "id": "6099f92b-abf2-415d-9b12-371e0057790a",
   "metadata": {},
   "outputs": [
    {
     "data": {
      "text/plain": [
       "3479     Desktop\n",
       "12264     Tablet\n",
       "7070      Tablet\n",
       "720       Mobile\n",
       "11883     Tablet\n",
       "          ...   \n",
       "11284    Desktop\n",
       "11964     Mobile\n",
       "5390      Tablet\n",
       "860       Tablet\n",
       "15795     Tablet\n",
       "Name: Device_Type, Length: 16080, dtype: object"
      ]
     },
     "execution_count": 43,
     "metadata": {},
     "output_type": "execute_result"
    }
   ],
   "source": [
    "x_train['Device_Type']"
   ]
  },
  {
   "cell_type": "code",
   "execution_count": 44,
   "id": "e11a7fa9-0e04-4de0-b568-865375002e3e",
   "metadata": {},
   "outputs": [
    {
     "data": {
      "text/plain": [
       "Device_Type\n",
       "Mobile     5375\n",
       "Desktop    5356\n",
       "Tablet     5349\n",
       "Name: count, dtype: int64"
      ]
     },
     "execution_count": 44,
     "metadata": {},
     "output_type": "execute_result"
    }
   ],
   "source": [
    "x_train['Device_Type'].value_counts()"
   ]
  },
  {
   "cell_type": "code",
   "execution_count": 45,
   "id": "be968b07-134e-44c3-b17e-a17d01445c46",
   "metadata": {},
   "outputs": [
    {
     "data": {
      "text/plain": [
       "array(['Desktop', 'Tablet', 'Mobile'], dtype=object)"
      ]
     },
     "execution_count": 45,
     "metadata": {},
     "output_type": "execute_result"
    }
   ],
   "source": [
    "x_train['Device_Type'].unique()"
   ]
  },
  {
   "cell_type": "code",
   "execution_count": 46,
   "id": "2209e1da-cef9-419f-920a-d4dbbeb57704",
   "metadata": {},
   "outputs": [],
   "source": [
    "dev={\n",
    "    'Desktop':0, \n",
    "    'Tablet':1,\n",
    "    'Mobile':2\n",
    "}\n",
    "\n",
    "x_train['Device_Type'] = x_train['Device_Type'].map(dev)"
   ]
  },
  {
   "cell_type": "code",
   "execution_count": 47,
   "id": "8bb1a988-1c51-4097-a20e-fac57a6d12d6",
   "metadata": {},
   "outputs": [
    {
     "data": {
      "text/plain": [
       "3479     0\n",
       "12264    1\n",
       "7070     1\n",
       "720      2\n",
       "11883    1\n",
       "        ..\n",
       "11284    0\n",
       "11964    2\n",
       "5390     1\n",
       "860      1\n",
       "15795    1\n",
       "Name: Device_Type, Length: 16080, dtype: int64"
      ]
     },
     "execution_count": 47,
     "metadata": {},
     "output_type": "execute_result"
    }
   ],
   "source": [
    "x_train['Device_Type']"
   ]
  },
  {
   "cell_type": "code",
   "execution_count": 48,
   "id": "acbebd3c-cfbd-4854-882c-bf9cafac73ab",
   "metadata": {},
   "outputs": [
    {
     "data": {
      "text/plain": [
       "3479      1\n",
       "12264     8\n",
       "7070      8\n",
       "720       3\n",
       "11883    12\n",
       "         ..\n",
       "11284     5\n",
       "11964    11\n",
       "5390     12\n",
       "860       1\n",
       "15795    11\n",
       "Name: Month, Length: 16080, dtype: int64"
      ]
     },
     "execution_count": 48,
     "metadata": {},
     "output_type": "execute_result"
    }
   ],
   "source": [
    "x_train['Month']"
   ]
  },
  {
   "cell_type": "code",
   "execution_count": 49,
   "id": "a9a9170e-acaf-4ae0-8591-9175099403ce",
   "metadata": {},
   "outputs": [
    {
     "data": {
      "image/png": "[encoded data removed]",
      "text/plain": [
       "<Figure size 640x480 with 1 Axes>"
      ]
     },
     "metadata": {},
     "output_type": "display_data"
    }
   ],
   "source": [
    "sns.kdeplot(x_train['Month'])\n",
    "plt.show()"
   ]
  },
  {
   "cell_type": "code",
   "execution_count": 50,
   "id": "96adc1ef-d540-4f76-a548-2d3ced6618bb",
   "metadata": {},
   "outputs": [
    {
     "data": {
      "text/plain": [
       "3479     0.055425\n",
       "12264    0.033268\n",
       "7070     0.262769\n",
       "720      0.171922\n",
       "11883    0.029053\n",
       "           ...   \n",
       "11284    0.022178\n",
       "11964    0.037976\n",
       "5390     0.179369\n",
       "860      0.299184\n",
       "15795    0.220009\n",
       "Name: CTR, Length: 16080, dtype: float64"
      ]
     },
     "execution_count": 50,
     "metadata": {},
     "output_type": "execute_result"
    }
   ],
   "source": [
    "x_train['CTR']"
   ]
  },
  {
   "cell_type": "code",
   "execution_count": 51,
   "id": "d47b20fc-5b4c-403e-9ea5-44aa80f952f9",
   "metadata": {},
   "outputs": [
    {
     "data": {
      "image/png": "[encoded data removed]",
      "text/plain": [
       "<Figure size 640x480 with 1 Axes>"
      ]
     },
     "metadata": {},
     "output_type": "display_data"
    }
   ],
   "source": [
    "sns.boxplot(x_train['CTR'])\n",
    "plt.show()"
   ]
  },
  {
   "cell_type": "code",
   "execution_count": 52,
   "id": "86d09c91-0218-494e-b097-8efa1db9944f",
   "metadata": {},
   "outputs": [],
   "source": [
    "def impute_outliers(feature):\n",
    "    q1 = feature.quantile(0.25)\n",
    "    q3 = feature.quantile(0.75)\n",
    "    iqr = q3 - q1\n",
    "    \n",
    "    upper_tail = q3 + 1.5 * iqr\n",
    "    lower_tail = q1 - 1.5 * iqr\n",
    "    \n",
    "    # Cap values\n",
    "    feature = feature.clip(lower=lower_tail, upper=upper_tail)\n",
    "    return feature\n",
    "\n",
    "# Apply back to your column\n",
    "x_train['CTR'] = impute_outliers(x_train['CTR'])\n"
   ]
  },
  {
   "cell_type": "code",
   "execution_count": 53,
   "id": "76c8ab5e-ea57-4aeb-b0ee-393c610acb80",
   "metadata": {},
   "outputs": [
    {
     "data": {
      "image/png": "[encoded data removed]",
      "text/plain": [
       "<Figure size 640x480 with 1 Axes>"
      ]
     },
     "metadata": {},
     "output_type": "display_data"
    }
   ],
   "source": [
    "sns.boxplot(x_train['CTR'])\n",
    "plt.show()"
   ]
  },
  {
   "cell_type": "code",
   "execution_count": 54,
   "id": "3fdc7915-1da9-4193-88ea-66ed7af40b78",
   "metadata": {},
   "outputs": [
    {
     "data": {
      "text/plain": [
       "3479     0.322581\n",
       "12264    0.146450\n",
       "7070     0.101758\n",
       "720      0.180284\n",
       "11883    0.093969\n",
       "           ...   \n",
       "11284    0.111975\n",
       "11964    0.225773\n",
       "5390     0.016414\n",
       "860      0.021186\n",
       "15795    0.107809\n",
       "Name: Conversion_Rate, Length: 16080, dtype: float64"
      ]
     },
     "execution_count": 54,
     "metadata": {},
     "output_type": "execute_result"
    }
   ],
   "source": [
    "x_train['Conversion_Rate']"
   ]
  },
  {
   "cell_type": "code",
   "execution_count": 55,
   "id": "24113069-a28c-4a48-8581-01ff6a0d7c6e",
   "metadata": {},
   "outputs": [
    {
     "data": {
      "image/png": "[encoded data removed]",
      "text/plain": [
       "<Figure size 640x480 with 1 Axes>"
      ]
     },
     "metadata": {},
     "output_type": "display_data"
    }
   ],
   "source": [
    "sns.boxplot(x_train['Conversion_Rate'])\n",
    "plt.show()"
   ]
  },
  {
   "cell_type": "code",
   "execution_count": 56,
   "id": "13c261a2-8477-471d-9ce6-90287f7602b8",
   "metadata": {},
   "outputs": [
    {
     "data": {
      "image/png": "[encoded data removed]",
      "text/plain": [
       "<Figure size 640x480 with 1 Axes>"
      ]
     },
     "metadata": {},
     "output_type": "display_data"
    }
   ],
   "source": [
    "sns.kdeplot(x_train['Conversion_Rate'])\n",
    "plt.show()"
   ]
  },
  {
   "cell_type": "code",
   "execution_count": 57,
   "id": "79dadcf9-420d-4203-9be2-0afe4229919f",
   "metadata": {},
   "outputs": [],
   "source": [
    "def impute_outliers(feature):\n",
    "    q1 = feature.quantile(0.25)\n",
    "    q3 = feature.quantile(0.75)\n",
    "    iqr = q3 - q1\n",
    "    \n",
    "    upper_tail = q3 + 1.5 * iqr\n",
    "    lower_tail = q1 - 1.5 * iqr\n",
    "    \n",
    "    # Cap values\n",
    "    feature = feature.clip(lower=lower_tail, upper=upper_tail)\n",
    "    return feature\n",
    "\n",
    "# Apply back to your column\n",
    "x_train['Conversion_Rate'] = impute_outliers(x_train['Conversion_Rate'])\n"
   ]
  },
  {
   "cell_type": "code",
   "execution_count": 58,
   "id": "320683f1-52b3-4ef9-ab84-12f994a2a5f8",
   "metadata": {},
   "outputs": [
    {
     "data": {
      "text/plain": [
       "3479     4.103187\n",
       "12264    1.552127\n",
       "7070     0.917916\n",
       "720      0.922407\n",
       "11883    1.428765\n",
       "           ...   \n",
       "11284    1.198621\n",
       "11964    1.220171\n",
       "5390     0.398714\n",
       "860      0.489227\n",
       "15795    0.083578\n",
       "Name: CPC, Length: 16080, dtype: float64"
      ]
     },
     "execution_count": 58,
     "metadata": {},
     "output_type": "execute_result"
    }
   ],
   "source": [
    "x_train['CPC']"
   ]
  },
  {
   "cell_type": "code",
   "execution_count": 59,
   "id": "1a41f3bb-6785-4641-9d4f-3e59f92aeb1e",
   "metadata": {},
   "outputs": [
    {
     "data": {
      "image/png": "[encoded data removed]",
      "text/plain": [
       "<Figure size 640x480 with 1 Axes>"
      ]
     },
     "metadata": {},
     "output_type": "display_data"
    }
   ],
   "source": [
    "sns.boxplot(x_train['CPC'])\n",
    "plt.show()"
   ]
  },
  {
   "cell_type": "code",
   "execution_count": 60,
   "id": "b0597253-dbad-47f2-8ac9-53958b3a13b8",
   "metadata": {},
   "outputs": [
    {
     "data": {
      "image/png": "[encoded data removed]",
      "text/plain": [
       "<Figure size 640x480 with 1 Axes>"
      ]
     },
     "metadata": {},
     "output_type": "display_data"
    }
   ],
   "source": [
    "sns.kdeplot(x_train['CPC'])\n",
    "plt.show()"
   ]
  },
  {
   "cell_type": "code",
   "execution_count": 61,
   "id": "b188a235-95f4-4a18-a763-995eab2e1c3c",
   "metadata": {},
   "outputs": [],
   "source": [
    "def impute_outliers(feature):\n",
    "    q1 = feature.quantile(0.25)\n",
    "    q3 = feature.quantile(0.75)\n",
    "    iqr = q3 - q1\n",
    "    \n",
    "    upper_tail = q3 + 1.5 * iqr\n",
    "    lower_tail = q1 - 1.5 * iqr\n",
    "    \n",
    "    # Cap values\n",
    "    feature = feature.clip(lower=lower_tail, upper=upper_tail)\n",
    "    return feature\n",
    "\n",
    "# Apply back to your column\n",
    "x_train['CPC'] = impute_outliers(x_train['CPC'])\n"
   ]
  },
  {
   "cell_type": "code",
   "execution_count": 62,
   "id": "f83ad3d7-b440-41bb-a572-05a342485a85",
   "metadata": {},
   "outputs": [
    {
     "data": {
      "image/png": "[encoded data removed]",
      "text/plain": [
       "<Figure size 640x480 with 1 Axes>"
      ]
     },
     "metadata": {},
     "output_type": "display_data"
    }
   ],
   "source": [
    "sns.kdeplot(x_train['CPC'])\n",
    "plt.show()"
   ]
  },
  {
   "cell_type": "code",
   "execution_count": 63,
   "id": "c195f040-8fc5-4149-8c80-e4c6deffab6a",
   "metadata": {},
   "outputs": [
    {
     "data": {
      "text/plain": [
       "3479     227.420785\n",
       "12264     51.635738\n",
       "7070     241.199546\n",
       "720      158.581690\n",
       "11883     41.510512\n",
       "            ...    \n",
       "11284     26.582746\n",
       "11964     46.336819\n",
       "5390      71.517068\n",
       "860      146.368851\n",
       "15795     18.387840\n",
       "Name: CPM, Length: 16080, dtype: float64"
      ]
     },
     "execution_count": 63,
     "metadata": {},
     "output_type": "execute_result"
    }
   ],
   "source": [
    "x_train['CPM']"
   ]
  },
  {
   "cell_type": "code",
   "execution_count": 64,
   "id": "078a1e54-df62-4bc6-bac5-c7472676fddc",
   "metadata": {},
   "outputs": [
    {
     "data": {
      "image/png": "[encoded data removed]",
      "text/plain": [
       "<Figure size 640x480 with 1 Axes>"
      ]
     },
     "metadata": {},
     "output_type": "display_data"
    }
   ],
   "source": [
    "sns.kdeplot(x_train['CPM'])\n",
    "plt.show()\n"
   ]
  },
  {
   "cell_type": "code",
   "execution_count": 65,
   "id": "4bb12d07-a115-4e39-8254-894b0a2437bf",
   "metadata": {},
   "outputs": [],
   "source": [
    "def impute_outliers(feature):\n",
    "    q1 = feature.quantile(0.25)\n",
    "    q3 = feature.quantile(0.75)\n",
    "    iqr = q3 - q1\n",
    "    \n",
    "    upper_tail = q3 + 1.5 * iqr\n",
    "    lower_tail = q1 - 1.5 * iqr\n",
    "    \n",
    "    # Cap values\n",
    "    feature = feature.clip(lower=lower_tail, upper=upper_tail)\n",
    "    return feature\n",
    "\n",
    "# Apply back to your column\n",
    "x_train['CPM'] = impute_outliers(x_train['CPM'])\n"
   ]
  },
  {
   "cell_type": "code",
   "execution_count": 66,
   "id": "8dbc4299-5aab-45cf-852a-d7a827e6a49d",
   "metadata": {},
   "outputs": [
    {
     "data": {
      "image/png": "[encoded data removed]",
      "text/plain": [
       "<Figure size 640x480 with 1 Axes>"
      ]
     },
     "metadata": {},
     "output_type": "display_data"
    }
   ],
   "source": [
    "sns.boxplot(x_train['CPM'])\n",
    "plt.show()"
   ]
  },
  {
   "cell_type": "code",
   "execution_count": 67,
   "id": "4539e5d3-b61d-4e98-ab44-d79923bc86ad",
   "metadata": {},
   "outputs": [
    {
     "data": {
      "text/plain": [
       "3479     12.719880\n",
       "12264    10.598365\n",
       "7070      9.020530\n",
       "720       5.116408\n",
       "11883    15.204619\n",
       "           ...    \n",
       "11284    10.704355\n",
       "11964     5.404421\n",
       "5390     24.291666\n",
       "860      23.091515\n",
       "15795     0.775236\n",
       "Name: CPA, Length: 16080, dtype: float64"
      ]
     },
     "execution_count": 67,
     "metadata": {},
     "output_type": "execute_result"
    }
   ],
   "source": [
    "x_train['CPA']"
   ]
  },
  {
   "cell_type": "code",
   "execution_count": 68,
   "id": "a65a30f8-6c17-43ec-8d3e-60f25bd2cce5",
   "metadata": {},
   "outputs": [
    {
     "data": {
      "image/png": "[encoded data removed]",
      "text/plain": [
       "<Figure size 640x480 with 1 Axes>"
      ]
     },
     "metadata": {},
     "output_type": "display_data"
    }
   ],
   "source": [
    "sns.boxplot(x_train['CPA'])\n",
    "plt.show()"
   ]
  },
  {
   "cell_type": "code",
   "execution_count": 69,
   "id": "ea628e9e-e9bf-4d99-93cf-d40f8b3531a6",
   "metadata": {},
   "outputs": [],
   "source": [
    "def impute_outliers(feature):\n",
    "    q1 = feature.quantile(0.25)\n",
    "    q3 = feature.quantile(0.75)\n",
    "    iqr = q3 - q1\n",
    "    \n",
    "    upper_tail = q3 + 1.5 * iqr\n",
    "    lower_tail = q1 - 1.5 * iqr\n",
    "    \n",
    "    # Cap values\n",
    "    feature = feature.clip(lower=lower_tail, upper=upper_tail)\n",
    "    return feature\n",
    "\n",
    "# Apply back to your column\n",
    "x_train['CPA'] = impute_outliers(x_train['CPA'])\n"
   ]
  },
  {
   "cell_type": "code",
   "execution_count": 70,
   "id": "2096507b-dc87-4f64-9ef0-e80d35d0892b",
   "metadata": {},
   "outputs": [
    {
     "data": {
      "image/png": "[encoded data removed]",
      "text/plain": [
       "<Figure size 640x480 with 1 Axes>"
      ]
     },
     "metadata": {},
     "output_type": "display_data"
    }
   ],
   "source": [
    "sns.boxplot(x_train['CPA'])\n",
    "plt.show()"
   ]
  },
  {
   "cell_type": "code",
   "execution_count": 71,
   "id": "c53a0277-aee1-4737-89ee-ab1798d708d6",
   "metadata": {},
   "outputs": [
    {
     "data": {
      "text/plain": [
       "3479     31337.691517\n",
       "12264    38815.860051\n",
       "7070     17393.172671\n",
       "720       8675.941277\n",
       "11883    21826.072264\n",
       "             ...     \n",
       "11284    10239.559249\n",
       "11964    51655.447168\n",
       "5390      4237.287090\n",
       "860       2870.068955\n",
       "15795    36357.046995\n",
       "Name: Revenue, Length: 16080, dtype: float64"
      ]
     },
     "execution_count": 71,
     "metadata": {},
     "output_type": "execute_result"
    }
   ],
   "source": [
    "x_train['Revenue']"
   ]
  },
  {
   "cell_type": "code",
   "execution_count": 72,
   "id": "e79ee590-8977-4981-82e2-4d0a29439a01",
   "metadata": {},
   "outputs": [
    {
     "data": {
      "image/png": "[encoded data removed]",
      "text/plain": [
       "<Figure size 640x480 with 1 Axes>"
      ]
     },
     "metadata": {},
     "output_type": "display_data"
    }
   ],
   "source": [
    "sns.boxplot(x_train['Revenue'])\n",
    "plt.show()"
   ]
  },
  {
   "cell_type": "code",
   "execution_count": 73,
   "id": "b9f57250-2685-4ee3-9120-a25589ff90c3",
   "metadata": {},
   "outputs": [],
   "source": [
    "def impute_outliers(feature):\n",
    "    q1 = feature.quantile(0.25)\n",
    "    q3 = feature.quantile(0.75)\n",
    "    iqr = q3 - q1\n",
    "    \n",
    "    upper_tail = q3 + 1.5 * iqr\n",
    "    lower_tail = q1 - 1.5 * iqr\n",
    "    \n",
    "    # Cap values\n",
    "    feature = feature.clip(lower=lower_tail, upper=upper_tail)\n",
    "    return feature\n",
    "\n",
    "# Apply back to your column\n",
    "x_train['Revenue'] = impute_outliers(x_train['Revenue'])"
   ]
  },
  {
   "cell_type": "code",
   "execution_count": 74,
   "id": "268e7b4f-a961-4344-b7c2-11fc9e4ebb6e",
   "metadata": {},
   "outputs": [
    {
     "data": {
      "image/png": "[encoded data removed]",
      "text/plain": [
       "<Figure size 640x480 with 1 Axes>"
      ]
     },
     "metadata": {},
     "output_type": "display_data"
    }
   ],
   "source": [
    "sns.boxplot(x_train['Revenue'])\n",
    "plt.show()"
   ]
  },
  {
   "cell_type": "code",
   "execution_count": 75,
   "id": "54da445f-716a-4dfc-9c0a-4adaaae8e6e9",
   "metadata": {},
   "outputs": [],
   "source": [
    "x_test.drop(columns= ['Campaign_ID'], inplace= True)"
   ]
  },
  {
   "cell_type": "code",
   "execution_count": 76,
   "id": "ab10fff3-5de5-4dfa-b8ae-b596c814282c",
   "metadata": {},
   "outputs": [],
   "source": [
    "def impute_outliers(feature):\n",
    "    q1 = feature.quantile(0.25)\n",
    "    q3 = feature.quantile(0.75)\n",
    "    iqr = q3 - q1\n",
    "    \n",
    "    upper_tail = q3 + 1.5 * iqr\n",
    "    lower_tail = q1 - 1.5 * iqr\n",
    "    \n",
    "    # Cap values\n",
    "    feature = feature.clip(lower=lower_tail, upper=upper_tail)\n",
    "    return feature\n",
    "\n",
    "# Apply back to your column\n",
    "x_test['Spend'] = impute_outliers(x_test['Spend'])\n"
   ]
  },
  {
   "cell_type": "code",
   "execution_count": 77,
   "id": "f9215efc-eb0b-4429-9f86-9af3b765c161",
   "metadata": {},
   "outputs": [
    {
     "data": {
      "image/png": "[encoded data removed]",
      "text/plain": [
       "<Figure size 640x480 with 1 Axes>"
      ]
     },
     "metadata": {},
     "output_type": "display_data"
    }
   ],
   "source": [
    "sns.boxplot(x_test['Spend'])\n",
    "plt.show()"
   ]
  },
  {
   "cell_type": "code",
   "execution_count": 78,
   "id": "173db124-0b32-4f92-8dc7-c56c2823dec0",
   "metadata": {},
   "outputs": [],
   "source": [
    "# dummies = pd.get_dummies(x_test['Campaign_Type'], prefix='Campaign', dtype=int, drop_first=True)\n",
    "# x_test = pd.concat([x_test.drop('Campaign_Type', axis=1), dummies], axis=1)\n",
    "\n",
    "\n",
    "campaign = {\n",
    "    'LinkedIn':0,\n",
    "    'Meta Ads':1, \n",
    "    'Display':2, \n",
    "    'Google Search':3, \n",
    "    'Email':4\n",
    "}\n",
    "\n",
    "x_test['Campaign_Type']=x_test['Campaign_Type'].map(campaign)"
   ]
  },
  {
   "cell_type": "code",
   "execution_count": 79,
   "id": "170afa77-013b-4e0d-9962-99acf74211ec",
   "metadata": {},
   "outputs": [
    {
     "data": {
      "text/plain": [
       "array([0, 1, 2, 3, 4])"
      ]
     },
     "execution_count": 79,
     "metadata": {},
     "output_type": "execute_result"
    }
   ],
   "source": [
    "x_test['Campaign_Type'].unique()"
   ]
  },
  {
   "cell_type": "code",
   "execution_count": 80,
   "id": "eb220d0b-3bb1-41d8-972d-af982a142926",
   "metadata": {},
   "outputs": [],
   "source": [
    "x_test.drop(columns=[\"Region\"], inplace=True)"
   ]
  },
  {
   "cell_type": "code",
   "execution_count": 81,
   "id": "4453cba0-1659-4966-9414-7ddd3601957a",
   "metadata": {},
   "outputs": [],
   "source": [
    "dev={\n",
    "    'Desktop':0, \n",
    "    'Tablet':1,\n",
    "    'Mobile':2\n",
    "}\n",
    "\n",
    "x_test['Device_Type'] = x_test['Device_Type'].map(dev)"
   ]
  },
  {
   "cell_type": "code",
   "execution_count": 82,
   "id": "b1e53053-9ef8-4587-a91e-b37552e01a50",
   "metadata": {},
   "outputs": [],
   "source": [
    "def impute_outliers(feature):\n",
    "    q1 = feature.quantile(0.25)\n",
    "    q3 = feature.quantile(0.75)\n",
    "    iqr = q3 - q1\n",
    "    \n",
    "    upper_tail = q3 + 1.5 * iqr\n",
    "    lower_tail = q1 - 1.5 * iqr\n",
    "    \n",
    "    # Cap values\n",
    "    feature = feature.clip(lower=lower_tail, upper=upper_tail)\n",
    "    return feature\n",
    "\n",
    "# Apply back to your column\n",
    "x_test['CTR'] = impute_outliers(x_test['CTR'])\n"
   ]
  },
  {
   "cell_type": "code",
   "execution_count": 83,
   "id": "02400fba-4830-47de-86ff-a4fade45dded",
   "metadata": {},
   "outputs": [],
   "source": [
    "def impute_outliers(feature):\n",
    "    q1 = feature.quantile(0.25)\n",
    "    q3 = feature.quantile(0.75)\n",
    "    iqr = q3 - q1\n",
    "    \n",
    "    upper_tail = q3 + 1.5 * iqr\n",
    "    lower_tail = q1 - 1.5 * iqr\n",
    "    \n",
    "    # Cap values\n",
    "    feature = feature.clip(lower=lower_tail, upper=upper_tail)\n",
    "    return feature\n",
    "\n",
    "# Apply back to your column\n",
    "x_test['Conversion_Rate'] = impute_outliers(x_test['Conversion_Rate'])\n"
   ]
  },
  {
   "cell_type": "code",
   "execution_count": 84,
   "id": "a1d481c6-baba-4df4-aef2-bd84e4ba8a9f",
   "metadata": {},
   "outputs": [],
   "source": [
    "def impute_outliers(feature):\n",
    "    q1 = feature.quantile(0.25)\n",
    "    q3 = feature.quantile(0.75)\n",
    "    iqr = q3 - q1\n",
    "    \n",
    "    upper_tail = q3 + 1.5 * iqr\n",
    "    lower_tail = q1 - 1.5 * iqr\n",
    "    \n",
    "    # Cap values\n",
    "    feature = feature.clip(lower=lower_tail, upper=upper_tail)\n",
    "    return feature\n",
    "\n",
    "# Apply back to your column\n",
    "x_test['CPC'] = impute_outliers(x_test['CPC'])\n"
   ]
  },
  {
   "cell_type": "code",
   "execution_count": 85,
   "id": "a40cae44-1681-469a-9f6c-c7dbecfd6cbc",
   "metadata": {},
   "outputs": [],
   "source": [
    "def impute_outliers(feature):\n",
    "    q1 = feature.quantile(0.25)\n",
    "    q3 = feature.quantile(0.75)\n",
    "    iqr = q3 - q1\n",
    "    \n",
    "    upper_tail = q3 + 1.5 * iqr\n",
    "    lower_tail = q1 - 1.5 * iqr\n",
    "    \n",
    "    # Cap values\n",
    "    feature = feature.clip(lower=lower_tail, upper=upper_tail)\n",
    "    return feature\n",
    "\n",
    "# Apply back to your column\n",
    "x_test['CPM'] = impute_outliers(x_test['CPM'])\n"
   ]
  },
  {
   "cell_type": "code",
   "execution_count": 86,
   "id": "dc261342-aa72-413a-8100-377105e2e7a8",
   "metadata": {},
   "outputs": [],
   "source": [
    "def impute_outliers(feature):\n",
    "    q1 = feature.quantile(0.25)\n",
    "    q3 = feature.quantile(0.75)\n",
    "    iqr = q3 - q1\n",
    "    \n",
    "    upper_tail = q3 + 1.5 * iqr\n",
    "    lower_tail = q1 - 1.5 * iqr\n",
    "    \n",
    "    # Cap values\n",
    "    feature = feature.clip(lower=lower_tail, upper=upper_tail)\n",
    "    return feature\n",
    "\n",
    "# Apply back to your column\n",
    "x_test['CPA'] = impute_outliers(x_test['CPA'])\n"
   ]
  },
  {
   "cell_type": "code",
   "execution_count": 87,
   "id": "5d9b4dd8-78ad-492b-8fb1-890d97be8070",
   "metadata": {},
   "outputs": [],
   "source": [
    "def impute_outliers(feature):\n",
    "    q1 = feature.quantile(0.25)\n",
    "    q3 = feature.quantile(0.75)\n",
    "    iqr = q3 - q1\n",
    "    \n",
    "    upper_tail = q3 + 1.5 * iqr\n",
    "    lower_tail = q1 - 1.5 * iqr\n",
    "    \n",
    "    # Cap values\n",
    "    feature = feature.clip(lower=lower_tail, upper=upper_tail)\n",
    "    return feature\n",
    "\n",
    "# Apply back to your column\n",
    "x_test['Revenue'] = impute_outliers(x_test['Revenue'])"
   ]
  },
  {
   "cell_type": "code",
   "execution_count": 88,
   "id": "b0590b3f-4573-4c5c-bc9c-f3de909ad652",
   "metadata": {},
   "outputs": [
    {
     "data": {
      "text/plain": [
       "3479      7.495442\n",
       "12264     8.248582\n",
       "7070      3.442803\n",
       "720       3.176624\n",
       "11883     6.141739\n",
       "           ...    \n",
       "11284    12.285817\n",
       "11964    21.176329\n",
       "5390      1.180422\n",
       "860       0.553638\n",
       "15795    99.209473\n",
       "Name: ROI, Length: 16080, dtype: float64"
      ]
     },
     "execution_count": 88,
     "metadata": {},
     "output_type": "execute_result"
    }
   ],
   "source": [
    "y_train"
   ]
  },
  {
   "cell_type": "code",
   "execution_count": 89,
   "id": "766dfadf-a67f-4c29-9b95-ac77cbf930cc",
   "metadata": {},
   "outputs": [
    {
     "data": {
      "image/png": "[encoded data removed]",
      "text/plain": [
       "<Figure size 640x480 with 1 Axes>"
      ]
     },
     "metadata": {},
     "output_type": "display_data"
    }
   ],
   "source": [
    "sns.boxplot(y_train)\n",
    "plt.show()"
   ]
  },
  {
   "cell_type": "code",
   "execution_count": 90,
   "id": "27312d67-5b2e-402b-b447-183293f41ab3",
   "metadata": {},
   "outputs": [],
   "source": [
    "def impute_outliers(feature):\n",
    "    q1 = feature.quantile(0.25)\n",
    "    q3 = feature.quantile(0.75)\n",
    "    iqr = q3 - q1\n",
    "    \n",
    "    upper_tail = q3 + 1.5 * iqr\n",
    "    lower_tail = q1 - 1.5 * iqr\n",
    "    \n",
    "    # Cap values\n",
    "    feature = feature.clip(lower=lower_tail, upper=upper_tail)\n",
    "    return feature\n",
    "\n",
    "# Apply back to your column\n",
    "y_train = impute_outliers(y_train)"
   ]
  },
  {
   "cell_type": "code",
   "execution_count": 91,
   "id": "947dbb24-c08e-47db-b150-5386a8d393a2",
   "metadata": {},
   "outputs": [],
   "source": [
    "def impute_outliers(feature):\n",
    "    q1 = feature.quantile(0.25)\n",
    "    q3 = feature.quantile(0.75)\n",
    "    iqr = q3 - q1\n",
    "    \n",
    "    upper_tail = q3 + 1.5 * iqr\n",
    "    lower_tail = q1 - 1.5 * iqr\n",
    "    \n",
    "    # Cap values\n",
    "    feature = feature.clip(lower=lower_tail, upper=upper_tail)\n",
    "    return feature\n",
    "\n",
    "# Apply back to your column\n",
    "y_test = impute_outliers(y_test)"
   ]
  },
  {
   "cell_type": "code",
   "execution_count": 92,
   "id": "6388d319-d3fa-4e11-9cc5-17dbdacbfeaf",
   "metadata": {},
   "outputs": [
    {
     "data": {
      "text/html": [
       "<div>\n",
       "<style scoped>\n",
       "    .dataframe tbody tr th:only-of-type {\n",
       "        vertical-align: middle;\n",
       "    }\n",
       "\n",
       "    .dataframe tbody tr th {\n",
       "        vertical-align: top;\n",
       "    }\n",
       "\n",
       "    .dataframe thead th {\n",
       "        text-align: right;\n",
       "    }\n",
       "</style>\n",
       "<table border=\"1\" class=\"dataframe\">\n",
       "  <thead>\n",
       "    <tr style=\"text-align: right;\">\n",
       "      <th></th>\n",
       "      <th>Spend</th>\n",
       "      <th>Impressions</th>\n",
       "      <th>Clicks</th>\n",
       "      <th>Conversions</th>\n",
       "      <th>Campaign_Type</th>\n",
       "      <th>Device_Type</th>\n",
       "      <th>Month</th>\n",
       "      <th>CTR</th>\n",
       "      <th>Conversion_Rate</th>\n",
       "      <th>CPC</th>\n",
       "      <th>CPM</th>\n",
       "      <th>CPA</th>\n",
       "      <th>Revenue</th>\n",
       "    </tr>\n",
       "  </thead>\n",
       "  <tbody>\n",
       "    <tr>\n",
       "      <th>Spend</th>\n",
       "      <td>1.000000</td>\n",
       "      <td>-0.005480</td>\n",
       "      <td>-0.002069</td>\n",
       "      <td>0.009830</td>\n",
       "      <td>0.012311</td>\n",
       "      <td>0.008654</td>\n",
       "      <td>-0.005870</td>\n",
       "      <td>0.004046</td>\n",
       "      <td>0.005147</td>\n",
       "      <td>0.483286</td>\n",
       "      <td>0.480438</td>\n",
       "      <td>0.467691</td>\n",
       "      <td>0.014113</td>\n",
       "    </tr>\n",
       "    <tr>\n",
       "      <th>Impressions</th>\n",
       "      <td>-0.005480</td>\n",
       "      <td>1.000000</td>\n",
       "      <td>0.000834</td>\n",
       "      <td>-0.008922</td>\n",
       "      <td>0.002238</td>\n",
       "      <td>0.006827</td>\n",
       "      <td>0.002727</td>\n",
       "      <td>-0.718354</td>\n",
       "      <td>-0.003222</td>\n",
       "      <td>-0.004021</td>\n",
       "      <td>-0.729654</td>\n",
       "      <td>0.001474</td>\n",
       "      <td>0.005867</td>\n",
       "    </tr>\n",
       "    <tr>\n",
       "      <th>Clicks</th>\n",
       "      <td>-0.002069</td>\n",
       "      <td>0.000834</td>\n",
       "      <td>1.000000</td>\n",
       "      <td>-0.001627</td>\n",
       "      <td>0.000547</td>\n",
       "      <td>-0.002948</td>\n",
       "      <td>0.000748</td>\n",
       "      <td>0.502844</td>\n",
       "      <td>-0.708243</td>\n",
       "      <td>-0.726552</td>\n",
       "      <td>0.003213</td>\n",
       "      <td>-0.006323</td>\n",
       "      <td>-0.004292</td>\n",
       "    </tr>\n",
       "    <tr>\n",
       "      <th>Conversions</th>\n",
       "      <td>0.009830</td>\n",
       "      <td>-0.008922</td>\n",
       "      <td>-0.001627</td>\n",
       "      <td>1.000000</td>\n",
       "      <td>-0.007351</td>\n",
       "      <td>0.000544</td>\n",
       "      <td>-0.006593</td>\n",
       "      <td>0.006650</td>\n",
       "      <td>0.518669</td>\n",
       "      <td>0.001068</td>\n",
       "      <td>0.003581</td>\n",
       "      <td>-0.731303</td>\n",
       "      <td>0.726447</td>\n",
       "    </tr>\n",
       "    <tr>\n",
       "      <th>Campaign_Type</th>\n",
       "      <td>0.012311</td>\n",
       "      <td>0.002238</td>\n",
       "      <td>0.000547</td>\n",
       "      <td>-0.007351</td>\n",
       "      <td>1.000000</td>\n",
       "      <td>0.002116</td>\n",
       "      <td>-0.009565</td>\n",
       "      <td>-0.003713</td>\n",
       "      <td>-0.007876</td>\n",
       "      <td>0.010073</td>\n",
       "      <td>0.007600</td>\n",
       "      <td>0.009828</td>\n",
       "      <td>0.000576</td>\n",
       "    </tr>\n",
       "    <tr>\n",
       "      <th>Device_Type</th>\n",
       "      <td>0.008654</td>\n",
       "      <td>0.006827</td>\n",
       "      <td>-0.002948</td>\n",
       "      <td>0.000544</td>\n",
       "      <td>0.002116</td>\n",
       "      <td>1.000000</td>\n",
       "      <td>-0.008318</td>\n",
       "      <td>-0.006125</td>\n",
       "      <td>-0.003164</td>\n",
       "      <td>0.000231</td>\n",
       "      <td>-0.000654</td>\n",
       "      <td>-0.002246</td>\n",
       "      <td>0.008323</td>\n",
       "    </tr>\n",
       "    <tr>\n",
       "      <th>Month</th>\n",
       "      <td>-0.005870</td>\n",
       "      <td>0.002727</td>\n",
       "      <td>0.000748</td>\n",
       "      <td>-0.006593</td>\n",
       "      <td>-0.009565</td>\n",
       "      <td>-0.008318</td>\n",
       "      <td>1.000000</td>\n",
       "      <td>-0.003771</td>\n",
       "      <td>-0.000720</td>\n",
       "      <td>0.000254</td>\n",
       "      <td>-0.008985</td>\n",
       "      <td>0.003972</td>\n",
       "      <td>-0.009374</td>\n",
       "    </tr>\n",
       "    <tr>\n",
       "      <th>CTR</th>\n",
       "      <td>0.004046</td>\n",
       "      <td>-0.718354</td>\n",
       "      <td>0.502844</td>\n",
       "      <td>0.006650</td>\n",
       "      <td>-0.003713</td>\n",
       "      <td>-0.006125</td>\n",
       "      <td>-0.003771</td>\n",
       "      <td>1.000000</td>\n",
       "      <td>-0.382069</td>\n",
       "      <td>-0.390992</td>\n",
       "      <td>0.650110</td>\n",
       "      <td>-0.004637</td>\n",
       "      <td>-0.007541</td>\n",
       "    </tr>\n",
       "    <tr>\n",
       "      <th>Conversion_Rate</th>\n",
       "      <td>0.005147</td>\n",
       "      <td>-0.003222</td>\n",
       "      <td>-0.708243</td>\n",
       "      <td>0.518669</td>\n",
       "      <td>-0.007876</td>\n",
       "      <td>-0.003164</td>\n",
       "      <td>-0.000720</td>\n",
       "      <td>-0.382069</td>\n",
       "      <td>1.000000</td>\n",
       "      <td>0.634217</td>\n",
       "      <td>-0.002110</td>\n",
       "      <td>-0.403608</td>\n",
       "      <td>0.379043</td>\n",
       "    </tr>\n",
       "    <tr>\n",
       "      <th>CPC</th>\n",
       "      <td>0.483286</td>\n",
       "      <td>-0.004021</td>\n",
       "      <td>-0.726552</td>\n",
       "      <td>0.001068</td>\n",
       "      <td>0.010073</td>\n",
       "      <td>0.000231</td>\n",
       "      <td>0.000254</td>\n",
       "      <td>-0.390992</td>\n",
       "      <td>0.634217</td>\n",
       "      <td>1.000000</td>\n",
       "      <td>0.247214</td>\n",
       "      <td>0.249906</td>\n",
       "      <td>0.009321</td>\n",
       "    </tr>\n",
       "    <tr>\n",
       "      <th>CPM</th>\n",
       "      <td>0.480438</td>\n",
       "      <td>-0.729654</td>\n",
       "      <td>0.003213</td>\n",
       "      <td>0.003581</td>\n",
       "      <td>0.007600</td>\n",
       "      <td>-0.000654</td>\n",
       "      <td>-0.008985</td>\n",
       "      <td>0.650110</td>\n",
       "      <td>-0.002110</td>\n",
       "      <td>0.247214</td>\n",
       "      <td>1.000000</td>\n",
       "      <td>0.242316</td>\n",
       "      <td>-0.005222</td>\n",
       "    </tr>\n",
       "    <tr>\n",
       "      <th>CPA</th>\n",
       "      <td>0.467691</td>\n",
       "      <td>0.001474</td>\n",
       "      <td>-0.006323</td>\n",
       "      <td>-0.731303</td>\n",
       "      <td>0.009828</td>\n",
       "      <td>-0.002246</td>\n",
       "      <td>0.003972</td>\n",
       "      <td>-0.004637</td>\n",
       "      <td>-0.403608</td>\n",
       "      <td>0.249906</td>\n",
       "      <td>0.242316</td>\n",
       "      <td>1.000000</td>\n",
       "      <td>-0.526643</td>\n",
       "    </tr>\n",
       "    <tr>\n",
       "      <th>Revenue</th>\n",
       "      <td>0.014113</td>\n",
       "      <td>0.005867</td>\n",
       "      <td>-0.004292</td>\n",
       "      <td>0.726447</td>\n",
       "      <td>0.000576</td>\n",
       "      <td>0.008323</td>\n",
       "      <td>-0.009374</td>\n",
       "      <td>-0.007541</td>\n",
       "      <td>0.379043</td>\n",
       "      <td>0.009321</td>\n",
       "      <td>-0.005222</td>\n",
       "      <td>-0.526643</td>\n",
       "      <td>1.000000</td>\n",
       "    </tr>\n",
       "  </tbody>\n",
       "</table>\n",
       "</div>"
      ],
      "text/plain": [
       "                    Spend  Impressions    Clicks  Conversions  Campaign_Type  \\\n",
       "Spend            1.000000    -0.005480 -0.002069     0.009830       0.012311   \n",
       "Impressions     -0.005480     1.000000  0.000834    -0.008922       0.002238   \n",
       "Clicks          -0.002069     0.000834  1.000000    -0.001627       0.000547   \n",
       "Conversions      0.009830    -0.008922 -0.001627     1.000000      -0.007351   \n",
       "Campaign_Type    0.012311     0.002238  0.000547    -0.007351       1.000000   \n",
       "Device_Type      0.008654     0.006827 -0.002948     0.000544       0.002116   \n",
       "Month           -0.005870     0.002727  0.000748    -0.006593      -0.009565   \n",
       "CTR              0.004046    -0.718354  0.502844     0.006650      -0.003713   \n",
       "Conversion_Rate  0.005147    -0.003222 -0.708243     0.518669      -0.007876   \n",
       "CPC              0.483286    -0.004021 -0.726552     0.001068       0.010073   \n",
       "CPM              0.480438    -0.729654  0.003213     0.003581       0.007600   \n",
       "CPA              0.467691     0.001474 -0.006323    -0.731303       0.009828   \n",
       "Revenue          0.014113     0.005867 -0.004292     0.726447       0.000576   \n",
       "\n",
       "                 Device_Type     Month       CTR  Conversion_Rate       CPC  \\\n",
       "Spend               0.008654 -0.005870  0.004046         0.005147  0.483286   \n",
       "Impressions         0.006827  0.002727 -0.718354        -0.003222 -0.004021   \n",
       "Clicks             -0.002948  0.000748  0.502844        -0.708243 -0.726552   \n",
       "Conversions         0.000544 -0.006593  0.006650         0.518669  0.001068   \n",
       "Campaign_Type       0.002116 -0.009565 -0.003713        -0.007876  0.010073   \n",
       "Device_Type         1.000000 -0.008318 -0.006125        -0.003164  0.000231   \n",
       "Month              -0.008318  1.000000 -0.003771        -0.000720  0.000254   \n",
       "CTR                -0.006125 -0.003771  1.000000        -0.382069 -0.390992   \n",
       "Conversion_Rate    -0.003164 -0.000720 -0.382069         1.000000  0.634217   \n",
       "CPC                 0.000231  0.000254 -0.390992         0.634217  1.000000   \n",
       "CPM                -0.000654 -0.008985  0.650110        -0.002110  0.247214   \n",
       "CPA                -0.002246  0.003972 -0.004637        -0.403608  0.249906   \n",
       "Revenue             0.008323 -0.009374 -0.007541         0.379043  0.009321   \n",
       "\n",
       "                      CPM       CPA   Revenue  \n",
       "Spend            0.480438  0.467691  0.014113  \n",
       "Impressions     -0.729654  0.001474  0.005867  \n",
       "Clicks           0.003213 -0.006323 -0.004292  \n",
       "Conversions      0.003581 -0.731303  0.726447  \n",
       "Campaign_Type    0.007600  0.009828  0.000576  \n",
       "Device_Type     -0.000654 -0.002246  0.008323  \n",
       "Month           -0.008985  0.003972 -0.009374  \n",
       "CTR              0.650110 -0.004637 -0.007541  \n",
       "Conversion_Rate -0.002110 -0.403608  0.379043  \n",
       "CPC              0.247214  0.249906  0.009321  \n",
       "CPM              1.000000  0.242316 -0.005222  \n",
       "CPA              0.242316  1.000000 -0.526643  \n",
       "Revenue         -0.005222 -0.526643  1.000000  "
      ]
     },
     "execution_count": 92,
     "metadata": {},
     "output_type": "execute_result"
    }
   ],
   "source": [
    "corr = x_train.corr()\n",
    "corr"
   ]
  },
  {
   "cell_type": "code",
   "execution_count": 93,
   "id": "e1e4baec-741c-40f1-aa79-e09cb2819e59",
   "metadata": {},
   "outputs": [
    {
     "data": {
      "image/png": "[encoded data removed]",
      "text/plain": [
       "<Figure size 1000x600 with 2 Axes>"
      ]
     },
     "metadata": {},
     "output_type": "display_data"
    }
   ],
   "source": [
    "plt.figure(figsize=(10,6))\n",
    "sns.heatmap(corr, annot=True, cmap=\"coolwarm\", fmt=\".2f\", linewidths=0.5)\n",
    "plt.show()"
   ]
  },
  {
   "cell_type": "code",
   "execution_count": 94,
   "id": "e5fdd25b-0510-44ce-bfad-a736b7cbd080",
   "metadata": {},
   "outputs": [
    {
     "data": {
      "image/png": "[encoded data removed]",
      "text/plain": [
       "<Figure size 1200x800 with 2 Axes>"
      ]
     },
     "metadata": {},
     "output_type": "display_data"
    }
   ],
   "source": [
    "train_x_train = x_train.copy()\n",
    "train_x_train['ROI'] = y_train\n",
    "\n",
    "# Compute correlation matrixa\n",
    "corr_matrix = train_x_train.corr()\n",
    "\n",
    "# Plot heatmap\n",
    "plt.figure(figsize=(12,8))\n",
    "sns.heatmap(corr_matrix, annot=True, cmap=\"coolwarm\", fmt=\".2f\", cbar=True)\n",
    "plt.title(\"Correlation Heatmap (Train Data)\")\n",
    "plt.show()"
   ]
  },
  {
   "cell_type": "code",
   "execution_count": 117,
   "id": "21304a49-eec1-4507-8bde-bb640a99e761",
   "metadata": {},
   "outputs": [],
   "source": [
    "\n",
    "x_train = x_train.drop(columns=['Spend', 'Impressions', 'Clicks', 'Conversions', \n",
    "       'CTR', 'Conversion_Rate', 'CPC', 'CPM'])\n",
    "\n",
    "x_test = x_test.drop(columns=['Spend', 'Impressions', 'Clicks', 'Conversions', \n",
    "       'CTR', 'Conversion_Rate', 'CPC', 'CPM'])\n",
    "\n"
   ]
  },
  {
   "cell_type": "code",
   "execution_count": null,
   "id": "ab4575d9-3da2-40e6-9072-744746ea70d9",
   "metadata": {},
   "outputs": [],
   "source": []
  },
  {
   "cell_type": "code",
   "execution_count": 118,
   "id": "6549db56-5fc6-4baf-8888-1da8f1239edf",
   "metadata": {},
   "outputs": [
    {
     "data": {
      "text/html": [
       "<style>#sk-container-id-2 {\n",
       "  /* Definition of color scheme common for light and dark mode */\n",
       "  --sklearn-color-text: #000;\n",
       "  --sklearn-color-text-muted: #666;\n",
       "  --sklearn-color-line: gray;\n",
       "  /* Definition of color scheme for unfitted estimators */\n",
       "  --sklearn-color-unfitted-level-0: #fff5e6;\n",
       "  --sklearn-color-unfitted-level-1: #f6e4d2;\n",
       "  --sklearn-color-unfitted-level-2: #ffe0b3;\n",
       "  --sklearn-color-unfitted-level-3: chocolate;\n",
       "  /* Definition of color scheme for fitted estimators */\n",
       "  --sklearn-color-fitted-level-0: #f0f8ff;\n",
       "  --sklearn-color-fitted-level-1: #d4ebff;\n",
       "  --sklearn-color-fitted-level-2: #b3dbfd;\n",
       "  --sklearn-color-fitted-level-3: cornflowerblue;\n",
       "\n",
       "  /* Specific color for light theme */\n",
       "  --sklearn-color-text-on-default-background: var(--sg-text-color, var(--theme-code-foreground, var(--jp-content-font-color1, black)));\n",
       "  --sklearn-color-background: var(--sg-background-color, var(--theme-background, var(--jp-layout-color0, white)));\n",
       "  --sklearn-color-border-box: var(--sg-text-color, var(--theme-code-foreground, var(--jp-content-font-color1, black)));\n",
       "  --sklearn-color-icon: #696969;\n",
       "\n",
       "  @media (prefers-color-scheme: dark) {\n",
       "    /* Redefinition of color scheme for dark theme */\n",
       "    --sklearn-color-text-on-default-background: var(--sg-text-color, var(--theme-code-foreground, var(--jp-content-font-color1, white)));\n",
       "    --sklearn-color-background: var(--sg-background-color, var(--theme-background, var(--jp-layout-color0, #111)));\n",
       "    --sklearn-color-border-box: var(--sg-text-color, var(--theme-code-foreground, var(--jp-content-font-color1, white)));\n",
       "    --sklearn-color-icon: #878787;\n",
       "  }\n",
       "}\n",
       "\n",
       "#sk-container-id-2 {\n",
       "  color: var(--sklearn-color-text);\n",
       "}\n",
       "\n",
       "#sk-container-id-2 pre {\n",
       "  padding: 0;\n",
       "}\n",
       "\n",
       "#sk-container-id-2 input.sk-hidden--visually {\n",
       "  border: 0;\n",
       "  clip: rect(1px 1px 1px 1px);\n",
       "  clip: rect(1px, 1px, 1px, 1px);\n",
       "  height: 1px;\n",
       "  margin: -1px;\n",
       "  overflow: hidden;\n",
       "  padding: 0;\n",
       "  position: absolute;\n",
       "  width: 1px;\n",
       "}\n",
       "\n",
       "#sk-container-id-2 div.sk-dashed-wrapped {\n",
       "  border: 1px dashed var(--sklearn-color-line);\n",
       "  margin: 0 0.4em 0.5em 0.4em;\n",
       "  box-sizing: border-box;\n",
       "  padding-bottom: 0.4em;\n",
       "  background-color: var(--sklearn-color-background);\n",
       "}\n",
       "\n",
       "#sk-container-id-2 div.sk-container {\n",
       "  /* jupyter's `normalize.less` sets `[hidden] { display: none; }`\n",
       "     but bootstrap.min.css set `[hidden] { display: none !important; }`\n",
       "     so we also need the `!important` here to be able to override the\n",
       "     default hidden behavior on the sphinx rendered scikit-learn.org.\n",
       "     See: https://github.com/scikit-learn/scikit-learn/issues/21755 */\n",
       "  display: inline-block !important;\n",
       "  position: relative;\n",
       "}\n",
       "\n",
       "#sk-container-id-2 div.sk-text-repr-fallback {\n",
       "  display: none;\n",
       "}\n",
       "\n",
       "div.sk-parallel-item,\n",
       "div.sk-serial,\n",
       "div.sk-item {\n",
       "  /* draw centered vertical line to link estimators */\n",
       "  background-image: linear-gradient(var(--sklearn-color-text-on-default-background), var(--sklearn-color-text-on-default-background));\n",
       "  background-size: 2px 100%;\n",
       "  background-repeat: no-repeat;\n",
       "  background-position: center center;\n",
       "}\n",
       "\n",
       "/* Parallel-specific style estimator block */\n",
       "\n",
       "#sk-container-id-2 div.sk-parallel-item::after {\n",
       "  content: \"\";\n",
       "  width: 100%;\n",
       "  border-bottom: 2px solid var(--sklearn-color-text-on-default-background);\n",
       "  flex-grow: 1;\n",
       "}\n",
       "\n",
       "#sk-container-id-2 div.sk-parallel {\n",
       "  display: flex;\n",
       "  align-items: stretch;\n",
       "  justify-content: center;\n",
       "  background-color: var(--sklearn-color-background);\n",
       "  position: relative;\n",
       "}\n",
       "\n",
       "#sk-container-id-2 div.sk-parallel-item {\n",
       "  display: flex;\n",
       "  flex-direction: column;\n",
       "}\n",
       "\n",
       "#sk-container-id-2 div.sk-parallel-item:first-child::after {\n",
       "  align-self: flex-end;\n",
       "  width: 50%;\n",
       "}\n",
       "\n",
       "#sk-container-id-2 div.sk-parallel-item:last-child::after {\n",
       "  align-self: flex-start;\n",
       "  width: 50%;\n",
       "}\n",
       "\n",
       "#sk-container-id-2 div.sk-parallel-item:only-child::after {\n",
       "  width: 0;\n",
       "}\n",
       "\n",
       "/* Serial-specific style estimator block */\n",
       "\n",
       "#sk-container-id-2 div.sk-serial {\n",
       "  display: flex;\n",
       "  flex-direction: column;\n",
       "  align-items: center;\n",
       "  background-color: var(--sklearn-color-background);\n",
       "  padding-right: 1em;\n",
       "  padding-left: 1em;\n",
       "}\n",
       "\n",
       "\n",
       "/* Toggleable style: style used for estimator/Pipeline/ColumnTransformer box that is\n",
       "clickable and can be expanded/collapsed.\n",
       "- Pipeline and ColumnTransformer use this feature and define the default style\n",
       "- Estimators will overwrite some part of the style using the `sk-estimator` class\n",
       "*/\n",
       "\n",
       "/* Pipeline and ColumnTransformer style (default) */\n",
       "\n",
       "#sk-container-id-2 div.sk-toggleable {\n",
       "  /* Default theme specific background. It is overwritten whether we have a\n",
       "  specific estimator or a Pipeline/ColumnTransformer */\n",
       "  background-color: var(--sklearn-color-background);\n",
       "}\n",
       "\n",
       "/* Toggleable label */\n",
       "#sk-container-id-2 label.sk-toggleable__label {\n",
       "  cursor: pointer;\n",
       "  display: flex;\n",
       "  width: 100%;\n",
       "  margin-bottom: 0;\n",
       "  padding: 0.5em;\n",
       "  box-sizing: border-box;\n",
       "  text-align: center;\n",
       "  align-items: start;\n",
       "  justify-content: space-between;\n",
       "  gap: 0.5em;\n",
       "}\n",
       "\n",
       "#sk-container-id-2 label.sk-toggleable__label .caption {\n",
       "  font-size: 0.6rem;\n",
       "  font-weight: lighter;\n",
       "  color: var(--sklearn-color-text-muted);\n",
       "}\n",
       "\n",
       "#sk-container-id-2 label.sk-toggleable__label-arrow:before {\n",
       "  /* Arrow on the left of the label */\n",
       "  content: \"▸\";\n",
       "  float: left;\n",
       "  margin-right: 0.25em;\n",
       "  color: var(--sklearn-color-icon);\n",
       "}\n",
       "\n",
       "#sk-container-id-2 label.sk-toggleable__label-arrow:hover:before {\n",
       "  color: var(--sklearn-color-text);\n",
       "}\n",
       "\n",
       "/* Toggleable content - dropdown */\n",
       "\n",
       "#sk-container-id-2 div.sk-toggleable__content {\n",
       "  max-height: 0;\n",
       "  max-width: 0;\n",
       "  overflow: hidden;\n",
       "  text-align: left;\n",
       "  /* unfitted */\n",
       "  background-color: var(--sklearn-color-unfitted-level-0);\n",
       "}\n",
       "\n",
       "#sk-container-id-2 div.sk-toggleable__content.fitted {\n",
       "  /* fitted */\n",
       "  background-color: var(--sklearn-color-fitted-level-0);\n",
       "}\n",
       "\n",
       "#sk-container-id-2 div.sk-toggleable__content pre {\n",
       "  margin: 0.2em;\n",
       "  border-radius: 0.25em;\n",
       "  color: var(--sklearn-color-text);\n",
       "  /* unfitted */\n",
       "  background-color: var(--sklearn-color-unfitted-level-0);\n",
       "}\n",
       "\n",
       "#sk-container-id-2 div.sk-toggleable__content.fitted pre {\n",
       "  /* unfitted */\n",
       "  background-color: var(--sklearn-color-fitted-level-0);\n",
       "}\n",
       "\n",
       "#sk-container-id-2 input.sk-toggleable__control:checked~div.sk-toggleable__content {\n",
       "  /* Expand drop-down */\n",
       "  max-height: 200px;\n",
       "  max-width: 100%;\n",
       "  overflow: auto;\n",
       "}\n",
       "\n",
       "#sk-container-id-2 input.sk-toggleable__control:checked~label.sk-toggleable__label-arrow:before {\n",
       "  content: \"▾\";\n",
       "}\n",
       "\n",
       "/* Pipeline/ColumnTransformer-specific style */\n",
       "\n",
       "#sk-container-id-2 div.sk-label input.sk-toggleable__control:checked~label.sk-toggleable__label {\n",
       "  color: var(--sklearn-color-text);\n",
       "  background-color: var(--sklearn-color-unfitted-level-2);\n",
       "}\n",
       "\n",
       "#sk-container-id-2 div.sk-label.fitted input.sk-toggleable__control:checked~label.sk-toggleable__label {\n",
       "  background-color: var(--sklearn-color-fitted-level-2);\n",
       "}\n",
       "\n",
       "/* Estimator-specific style */\n",
       "\n",
       "/* Colorize estimator box */\n",
       "#sk-container-id-2 div.sk-estimator input.sk-toggleable__control:checked~label.sk-toggleable__label {\n",
       "  /* unfitted */\n",
       "  background-color: var(--sklearn-color-unfitted-level-2);\n",
       "}\n",
       "\n",
       "#sk-container-id-2 div.sk-estimator.fitted input.sk-toggleable__control:checked~label.sk-toggleable__label {\n",
       "  /* fitted */\n",
       "  background-color: var(--sklearn-color-fitted-level-2);\n",
       "}\n",
       "\n",
       "#sk-container-id-2 div.sk-label label.sk-toggleable__label,\n",
       "#sk-container-id-2 div.sk-label label {\n",
       "  /* The background is the default theme color */\n",
       "  color: var(--sklearn-color-text-on-default-background);\n",
       "}\n",
       "\n",
       "/* On hover, darken the color of the background */\n",
       "#sk-container-id-2 div.sk-label:hover label.sk-toggleable__label {\n",
       "  color: var(--sklearn-color-text);\n",
       "  background-color: var(--sklearn-color-unfitted-level-2);\n",
       "}\n",
       "\n",
       "/* Label box, darken color on hover, fitted */\n",
       "#sk-container-id-2 div.sk-label.fitted:hover label.sk-toggleable__label.fitted {\n",
       "  color: var(--sklearn-color-text);\n",
       "  background-color: var(--sklearn-color-fitted-level-2);\n",
       "}\n",
       "\n",
       "/* Estimator label */\n",
       "\n",
       "#sk-container-id-2 div.sk-label label {\n",
       "  font-family: monospace;\n",
       "  font-weight: bold;\n",
       "  display: inline-block;\n",
       "  line-height: 1.2em;\n",
       "}\n",
       "\n",
       "#sk-container-id-2 div.sk-label-container {\n",
       "  text-align: center;\n",
       "}\n",
       "\n",
       "/* Estimator-specific */\n",
       "#sk-container-id-2 div.sk-estimator {\n",
       "  font-family: monospace;\n",
       "  border: 1px dotted var(--sklearn-color-border-box);\n",
       "  border-radius: 0.25em;\n",
       "  box-sizing: border-box;\n",
       "  margin-bottom: 0.5em;\n",
       "  /* unfitted */\n",
       "  background-color: var(--sklearn-color-unfitted-level-0);\n",
       "}\n",
       "\n",
       "#sk-container-id-2 div.sk-estimator.fitted {\n",
       "  /* fitted */\n",
       "  background-color: var(--sklearn-color-fitted-level-0);\n",
       "}\n",
       "\n",
       "/* on hover */\n",
       "#sk-container-id-2 div.sk-estimator:hover {\n",
       "  /* unfitted */\n",
       "  background-color: var(--sklearn-color-unfitted-level-2);\n",
       "}\n",
       "\n",
       "#sk-container-id-2 div.sk-estimator.fitted:hover {\n",
       "  /* fitted */\n",
       "  background-color: var(--sklearn-color-fitted-level-2);\n",
       "}\n",
       "\n",
       "/* Specification for estimator info (e.g. \"i\" and \"?\") */\n",
       "\n",
       "/* Common style for \"i\" and \"?\" */\n",
       "\n",
       ".sk-estimator-doc-link,\n",
       "a:link.sk-estimator-doc-link,\n",
       "a:visited.sk-estimator-doc-link {\n",
       "  float: right;\n",
       "  font-size: smaller;\n",
       "  line-height: 1em;\n",
       "  font-family: monospace;\n",
       "  background-color: var(--sklearn-color-background);\n",
       "  border-radius: 1em;\n",
       "  height: 1em;\n",
       "  width: 1em;\n",
       "  text-decoration: none !important;\n",
       "  margin-left: 0.5em;\n",
       "  text-align: center;\n",
       "  /* unfitted */\n",
       "  border: var(--sklearn-color-unfitted-level-1) 1pt solid;\n",
       "  color: var(--sklearn-color-unfitted-level-1);\n",
       "}\n",
       "\n",
       ".sk-estimator-doc-link.fitted,\n",
       "a:link.sk-estimator-doc-link.fitted,\n",
       "a:visited.sk-estimator-doc-link.fitted {\n",
       "  /* fitted */\n",
       "  border: var(--sklearn-color-fitted-level-1) 1pt solid;\n",
       "  color: var(--sklearn-color-fitted-level-1);\n",
       "}\n",
       "\n",
       "/* On hover */\n",
       "div.sk-estimator:hover .sk-estimator-doc-link:hover,\n",
       ".sk-estimator-doc-link:hover,\n",
       "div.sk-label-container:hover .sk-estimator-doc-link:hover,\n",
       ".sk-estimator-doc-link:hover {\n",
       "  /* unfitted */\n",
       "  background-color: var(--sklearn-color-unfitted-level-3);\n",
       "  color: var(--sklearn-color-background);\n",
       "  text-decoration: none;\n",
       "}\n",
       "\n",
       "div.sk-estimator.fitted:hover .sk-estimator-doc-link.fitted:hover,\n",
       ".sk-estimator-doc-link.fitted:hover,\n",
       "div.sk-label-container:hover .sk-estimator-doc-link.fitted:hover,\n",
       ".sk-estimator-doc-link.fitted:hover {\n",
       "  /* fitted */\n",
       "  background-color: var(--sklearn-color-fitted-level-3);\n",
       "  color: var(--sklearn-color-background);\n",
       "  text-decoration: none;\n",
       "}\n",
       "\n",
       "/* Span, style for the box shown on hovering the info icon */\n",
       ".sk-estimator-doc-link span {\n",
       "  display: none;\n",
       "  z-index: 9999;\n",
       "  position: relative;\n",
       "  font-weight: normal;\n",
       "  right: .2ex;\n",
       "  padding: .5ex;\n",
       "  margin: .5ex;\n",
       "  width: min-content;\n",
       "  min-width: 20ex;\n",
       "  max-width: 50ex;\n",
       "  color: var(--sklearn-color-text);\n",
       "  box-shadow: 2pt 2pt 4pt #999;\n",
       "  /* unfitted */\n",
       "  background: var(--sklearn-color-unfitted-level-0);\n",
       "  border: .5pt solid var(--sklearn-color-unfitted-level-3);\n",
       "}\n",
       "\n",
       ".sk-estimator-doc-link.fitted span {\n",
       "  /* fitted */\n",
       "  background: var(--sklearn-color-fitted-level-0);\n",
       "  border: var(--sklearn-color-fitted-level-3);\n",
       "}\n",
       "\n",
       ".sk-estimator-doc-link:hover span {\n",
       "  display: block;\n",
       "}\n",
       "\n",
       "/* \"?\"-specific style due to the `<a>` HTML tag */\n",
       "\n",
       "#sk-container-id-2 a.estimator_doc_link {\n",
       "  float: right;\n",
       "  font-size: 1rem;\n",
       "  line-height: 1em;\n",
       "  font-family: monospace;\n",
       "  background-color: var(--sklearn-color-background);\n",
       "  border-radius: 1rem;\n",
       "  height: 1rem;\n",
       "  width: 1rem;\n",
       "  text-decoration: none;\n",
       "  /* unfitted */\n",
       "  color: var(--sklearn-color-unfitted-level-1);\n",
       "  border: var(--sklearn-color-unfitted-level-1) 1pt solid;\n",
       "}\n",
       "\n",
       "#sk-container-id-2 a.estimator_doc_link.fitted {\n",
       "  /* fitted */\n",
       "  border: var(--sklearn-color-fitted-level-1) 1pt solid;\n",
       "  color: var(--sklearn-color-fitted-level-1);\n",
       "}\n",
       "\n",
       "/* On hover */\n",
       "#sk-container-id-2 a.estimator_doc_link:hover {\n",
       "  /* unfitted */\n",
       "  background-color: var(--sklearn-color-unfitted-level-3);\n",
       "  color: var(--sklearn-color-background);\n",
       "  text-decoration: none;\n",
       "}\n",
       "\n",
       "#sk-container-id-2 a.estimator_doc_link.fitted:hover {\n",
       "  /* fitted */\n",
       "  background-color: var(--sklearn-color-fitted-level-3);\n",
       "}\n",
       "</style><div id=\"sk-container-id-2\" class=\"sk-top-container\"><div class=\"sk-text-repr-fallback\"><pre>LinearRegression()</pre><b>In a Jupyter environment, please rerun this cell to show the HTML representation or trust the notebook. <br />On GitHub, the HTML representation is unable to render, please try loading this page with nbviewer.org.</b></div><div class=\"sk-container\" hidden><div class=\"sk-item\"><div class=\"sk-estimator fitted sk-toggleable\"><input class=\"sk-toggleable__control sk-hidden--visually\" id=\"sk-estimator-id-2\" type=\"checkbox\" checked><label for=\"sk-estimator-id-2\" class=\"sk-toggleable__label fitted sk-toggleable__label-arrow\"><div><div>LinearRegression</div></div><div><a class=\"sk-estimator-doc-link fitted\" rel=\"noreferrer\" target=\"_blank\" href=\"https://scikit-learn.org/1.6/modules/generated/sklearn.linear_model.LinearRegression.html\">?<span>Documentation for LinearRegression</span></a><span class=\"sk-estimator-doc-link fitted\">i<span>Fitted</span></span></div></label><div class=\"sk-toggleable__content fitted\"><pre>LinearRegression()</pre></div> </div></div></div></div>"
      ],
      "text/plain": [
       "LinearRegression()"
      ]
     },
     "execution_count": 118,
     "metadata": {},
     "output_type": "execute_result"
    }
   ],
   "source": [
    "# from sklearn.linear_model import LinearRegression\n",
    "# lr = LinearRegression()\n",
    "# lr.fit(x_train, y_train)"
   ]
  },
  {
   "cell_type": "code",
   "execution_count": 98,
   "id": "458612e8-ccf5-4ef9-b831-0b9add31f752",
   "metadata": {},
   "outputs": [],
   "source": [
    "# y_test = y_test.values.ravel()"
   ]
  },
  {
   "cell_type": "code",
   "execution_count": 99,
   "id": "0aba3401-4c4a-43fc-a625-dfacc49c237f",
   "metadata": {},
   "outputs": [],
   "source": [
    "# y_test = y_test.reset_index(drop=True)\n",
    "# y_pred = lr.predict(x_test)"
   ]
  },
  {
   "cell_type": "code",
   "execution_count": 100,
   "id": "f94eed13-8604-4e21-87e2-46bc50088291",
   "metadata": {},
   "outputs": [],
   "source": [
    "# x_test = x_test.dropna()\n",
    "# test_df = pd.concat([x_test, pd.Series(y_test, name=\"target\")], axis=1).dropna()\n",
    "\n",
    "# x_test = test_df.drop(columns=[\"target\"])\n",
    "# y_test = test_df[\"target\"]\n",
    "\n",
    "# # Predict again\n",
    "# y_pred = lr.predict(x_test)"
   ]
  },
  {
   "cell_type": "code",
   "execution_count": 119,
   "id": "b6ab37f4-7f37-41dc-9f40-56648eafcdba",
   "metadata": {},
   "outputs": [
    {
     "name": "stdout",
     "output_type": "stream",
     "text": [
      "Mean Squared Error : 95.16842275035776\n",
      "Root Mean Squared Error : 9.755430423633689\n",
      "Mean Absolute Error : 7.852884276699106\n",
      "R-Squared Value : 0.5323030145090216\n",
      "Adj-R-Squared Value : 0.5317204323148376\n"
     ]
    }
   ],
   "source": [
    "# y_pred = lr.predict(x_test)\n",
    "\n",
    "# from sklearn.metrics import mean_squared_error, mean_absolute_error, r2_score\n",
    "# import numpy as np\n",
    "\n",
    "# mse = mean_squared_error(y_test, y_pred)\n",
    "# print('Mean Squared Error :', mse)\n",
    "\n",
    "# rmse = np.sqrt(mse)\n",
    "# print('Root Mean Squared Error :', rmse)\n",
    "\n",
    "# mae = mean_absolute_error(y_test, y_pred)\n",
    "# print('Mean Absolute Error :', mae)\n",
    "\n",
    "# r_square = r2_score(y_test, y_pred)\n",
    "# print('R-Squared Value :', r_square)\n",
    "\n",
    "# adj_r2 = 1 - (((1 - r_square) * (y_test.shape[0] - 1)) / (y_test.shape[0] - x_test.shape[1] - 1))\n",
    "# print('Adj-R-Squared Value :', adj_r2)\n"
   ]
  },
  {
   "cell_type": "code",
   "execution_count": 120,
   "id": "565d81c4-9517-4575-8300-3ef7e9f6110d",
   "metadata": {},
   "outputs": [
    {
     "name": "stdout",
     "output_type": "stream",
     "text": [
      "----- Training Performance -----\n",
      "Mean Squared Error (Train): 87.71019490130249\n",
      "Root Mean Squared Error (Train): 9.36537211760977\n",
      "Mean Absolute Error (Train): 7.621289747584442\n",
      "R-Squared Value (Train): 0.5428693137964784\n",
      "Adj-R-Squared Value (Train): 0.5427271181120801\n",
      "\n",
      "----- Testing Performance -----\n",
      "Mean Squared Error (Test): 95.16842275035776\n",
      "Root Mean Squared Error (Test): 9.755430423633689\n",
      "Mean Absolute Error (Test): 7.852884276699106\n",
      "R-Squared Value (Test): 0.5323030145090216\n",
      "Adj-R-Squared Value (Test): 0.5317204323148376\n"
     ]
    }
   ],
   "source": [
    "# from sklearn.metrics import mean_squared_error, mean_absolute_error, r2_score\n",
    "# import numpy as np\n",
    "\n",
    "# # ---------- Train Predictions ----------\n",
    "# y_train_pred = lr.predict(x_train)\n",
    "\n",
    "# mse_train = mean_squared_error(y_train, y_train_pred)\n",
    "# rmse_train = np.sqrt(mse_train)\n",
    "# mae_train = mean_absolute_error(y_train, y_train_pred)\n",
    "# r2_train = r2_score(y_train, y_train_pred)\n",
    "# adj_r2_train = 1 - (((1 - r2_train) * (y_train.shape[0] - 1)) / (y_train.shape[0] - x_train.shape[1] - 1))\n",
    "\n",
    "# print(\"----- Training Performance -----\")\n",
    "# print(\"Mean Squared Error (Train):\", mse_train)\n",
    "# print(\"Root Mean Squared Error (Train):\", rmse_train)\n",
    "# print(\"Mean Absolute Error (Train):\", mae_train)\n",
    "# print(\"R-Squared Value (Train):\", r2_train)\n",
    "# print(\"Adj-R-Squared Value (Train):\", adj_r2_train)\n",
    "\n",
    "# # ---------- Test Predictions ----------\n",
    "# y_test_pred = lr.predict(x_test)\n",
    "\n",
    "# mse_test = mean_squared_error(y_test, y_test_pred)\n",
    "# rmse_test = np.sqrt(mse_test)\n",
    "# mae_test = mean_absolute_error(y_test, y_test_pred)\n",
    "# r2_test = r2_score(y_test, y_test_pred)\n",
    "# adj_r2_test = 1 - (((1 - r2_test) * (y_test.shape[0] - 1)) / (y_test.shape[0] - x_test.shape[1] - 1))\n",
    "\n",
    "# print(\"\\n----- Testing Performance -----\")\n",
    "# print(\"Mean Squared Error (Test):\", mse_test)\n",
    "# print(\"Root Mean Squared Error (Test):\", rmse_test)\n",
    "# print(\"Mean Absolute Error (Test):\", mae_test)\n",
    "# print(\"R-Squared Value (Test):\", r2_test)\n",
    "# print(\"Adj-R-Squared Value (Test):\", adj_r2_test)\n"
   ]
  },
  {
   "cell_type": "code",
   "execution_count": 121,
   "id": "4f9e8672-f6ab-4cdd-a0d3-2ee3020753b5",
   "metadata": {},
   "outputs": [
    {
     "name": "stdout",
     "output_type": "stream",
     "text": [
      "Best Ridge Params: {'alpha': 100}  | Best R2: 0.5423313577902167\n",
      "Best Lasso Params: {'alpha': 0.1}  | Best R2: 0.542410104249974\n",
      "Best ElasticNet Params: {'alpha': 0.1, 'l1_ratio': 0.9}  | Best R2: 0.5424101327978399\n"
     ]
    }
   ],
   "source": [
    "# from sklearn.linear_model import Ridge, Lasso, ElasticNet\n",
    "# from sklearn.model_selection import GridSearchCV\n",
    "\n",
    "# # Define models\n",
    "# ridge = Ridge()\n",
    "# lasso = Lasso()\n",
    "# elastic = ElasticNet()\n",
    "\n",
    "# # Define parameter grids\n",
    "# ridge_params = {'alpha': [0.01, 0.1, 1, 10, 100]}\n",
    "# lasso_params = {'alpha': [0.01, 0.1, 1, 10, 100]}\n",
    "# elastic_params = {\n",
    "#     'alpha': [0.01, 0.1, 1, 10],\n",
    "#     'l1_ratio': [0.1, 0.5, 0.9]   # balance between L1 and L2\n",
    "# }\n",
    "\n",
    "# # GridSearchCV for Ridge\n",
    "# ridge_grid = GridSearchCV(ridge, ridge_params, cv=5, scoring='r2', n_jobs=-1)\n",
    "# ridge_grid.fit(x_train, y_train)\n",
    "\n",
    "# # GridSearchCV for Lasso\n",
    "# lasso_grid = GridSearchCV(lasso, lasso_params, cv=5, scoring='r2', n_jobs=-1)\n",
    "# lasso_grid.fit(x_train, y_train)\n",
    "\n",
    "# # GridSearchCV for ElasticNet\n",
    "# elastic_grid = GridSearchCV(elastic, elastic_params, cv=5, scoring='r2', n_jobs=-1)\n",
    "# elastic_grid.fit(x_train, y_train)\n",
    "\n",
    "# # Print results\n",
    "# print(\"Best Ridge Params:\", ridge_grid.best_params_, \" | Best R2:\", ridge_grid.best_score_)\n",
    "# print(\"Best Lasso Params:\", lasso_grid.best_params_, \" | Best R2:\", lasso_grid.best_score_)\n",
    "# print(\"Best ElasticNet Params:\", elastic_grid.best_params_, \" | Best R2:\", elastic_grid.best_score_)\n"
   ]
  },
  {
   "cell_type": "markdown",
   "id": "e554568e-5c12-4c2f-8e04-01d1564c0dc6",
   "metadata": {},
   "source": [
    "### Project Test"
   ]
  },
  {
   "cell_type": "code",
   "execution_count": 122,
   "id": "98239bfe-61bc-459a-8436-c6a99ea83f8b",
   "metadata": {},
   "outputs": [],
   "source": [
    "project_data ={\n",
    "    \n",
    "    'Campaign_Type':{'LinkedIn':0,\n",
    "    'Meta Ads':1, \n",
    "    'Display':2, \n",
    "    'Google Search':3, \n",
    "    'Email':4},\n",
    "    \n",
    "    'Device_Type':{'Desktop':0, \n",
    "    'Tablet':1,\n",
    "    'Mobile':2}\n",
    "}"
   ]
  },
  {
   "cell_type": "code",
   "execution_count": 123,
   "id": "ce51ebab-33fb-41dc-8acc-640e0716b234",
   "metadata": {},
   "outputs": [
    {
     "data": {
      "text/html": [
       "<div>\n",
       "<style scoped>\n",
       "    .dataframe tbody tr th:only-of-type {\n",
       "        vertical-align: middle;\n",
       "    }\n",
       "\n",
       "    .dataframe tbody tr th {\n",
       "        vertical-align: top;\n",
       "    }\n",
       "\n",
       "    .dataframe thead th {\n",
       "        text-align: right;\n",
       "    }\n",
       "</style>\n",
       "<table border=\"1\" class=\"dataframe\">\n",
       "  <thead>\n",
       "    <tr style=\"text-align: right;\">\n",
       "      <th></th>\n",
       "      <th>Campaign_ID</th>\n",
       "      <th>Spend</th>\n",
       "      <th>Impressions</th>\n",
       "      <th>Clicks</th>\n",
       "      <th>Conversions</th>\n",
       "      <th>Campaign_Type</th>\n",
       "      <th>Region</th>\n",
       "      <th>Device_Type</th>\n",
       "      <th>Month</th>\n",
       "      <th>CTR</th>\n",
       "      <th>Conversion_Rate</th>\n",
       "      <th>CPC</th>\n",
       "      <th>CPM</th>\n",
       "      <th>CPA</th>\n",
       "      <th>Revenue</th>\n",
       "      <th>ROI</th>\n",
       "    </tr>\n",
       "  </thead>\n",
       "  <tbody>\n",
       "    <tr>\n",
       "      <th>0</th>\n",
       "      <td>6065</td>\n",
       "      <td>1267.852332</td>\n",
       "      <td>17642.0</td>\n",
       "      <td>3262.0</td>\n",
       "      <td>118.0</td>\n",
       "      <td>Display</td>\n",
       "      <td>Canada</td>\n",
       "      <td>Desktop</td>\n",
       "      <td>5</td>\n",
       "      <td>0.184900</td>\n",
       "      <td>0.036174</td>\n",
       "      <td>0.388673</td>\n",
       "      <td>71.865567</td>\n",
       "      <td>10.744511</td>\n",
       "      <td>16442.912417</td>\n",
       "      <td>11.969107</td>\n",
       "    </tr>\n",
       "    <tr>\n",
       "      <th>1</th>\n",
       "      <td>17215</td>\n",
       "      <td>3503.649208</td>\n",
       "      <td>15837.0</td>\n",
       "      <td>297.0</td>\n",
       "      <td>223.0</td>\n",
       "      <td>Email</td>\n",
       "      <td>India</td>\n",
       "      <td>Desktop</td>\n",
       "      <td>11</td>\n",
       "      <td>0.018754</td>\n",
       "      <td>0.750842</td>\n",
       "      <td>11.796799</td>\n",
       "      <td>221.231875</td>\n",
       "      <td>15.711431</td>\n",
       "      <td>36318.018142</td>\n",
       "      <td>9.365769</td>\n",
       "    </tr>\n",
       "  </tbody>\n",
       "</table>\n",
       "</div>"
      ],
      "text/plain": [
       "   Campaign_ID        Spend  Impressions  Clicks  Conversions Campaign_Type  \\\n",
       "0         6065  1267.852332      17642.0  3262.0        118.0       Display   \n",
       "1        17215  3503.649208      15837.0   297.0        223.0         Email   \n",
       "\n",
       "   Region Device_Type  Month       CTR  Conversion_Rate        CPC  \\\n",
       "0  Canada     Desktop      5  0.184900         0.036174   0.388673   \n",
       "1   India     Desktop     11  0.018754         0.750842  11.796799   \n",
       "\n",
       "          CPM        CPA       Revenue        ROI  \n",
       "0   71.865567  10.744511  16442.912417  11.969107  \n",
       "1  221.231875  15.711431  36318.018142   9.365769  "
      ]
     },
     "execution_count": 123,
     "metadata": {},
     "output_type": "execute_result"
    }
   ],
   "source": [
    "ad_opt.head(2)"
   ]
  },
  {
   "cell_type": "code",
   "execution_count": 124,
   "id": "11efef50-b4cc-4dba-bacf-8a60ae57fb66",
   "metadata": {},
   "outputs": [],
   "source": [
    "# Spend =\"3503.649208\"\n",
    "# Impressions = \"15837.0\"\n",
    "# Clicks = \"297.0\t\"\n",
    "# Conversions = \"223.0\"\n",
    "# Campaign_Type = \"Email\"\n",
    "# Device_Type = \"Desktop\"\n",
    "# Month = \"11\"\n",
    "# CTR = \"0.018754\"\n",
    "# Conversion_Rate = \"0.750842\"\n",
    "# CPC = \"11.796799\t\"\n",
    "# CPM = \"221.231875\"\n",
    "# CPA = \"15.711431\"\n",
    "# Revenue = \"36318.018142\""
   ]
  },
  {
   "cell_type": "code",
   "execution_count": 125,
   "id": "6ec2dda8-a5f2-403c-9820-ca8a9b3884a3",
   "metadata": {},
   "outputs": [
    {
     "ename": "IndexError",
     "evalue": "index 5 is out of bounds for axis 0 with size 5",
     "output_type": "error",
     "traceback": [
      "\u001b[0;31m---------------------------------------------------------------------------\u001b[0m",
      "\u001b[0;31mIndexError\u001b[0m                                Traceback (most recent call last)",
      "Cell \u001b[0;32mIn[125], line 7\u001b[0m\n\u001b[1;32m      5\u001b[0m test_array[\u001b[38;5;241m3\u001b[39m] \u001b[38;5;241m=\u001b[39m Conversions\n\u001b[1;32m      6\u001b[0m test_array[\u001b[38;5;241m4\u001b[39m] \u001b[38;5;241m=\u001b[39m project_data[\u001b[38;5;124m'\u001b[39m\u001b[38;5;124mCampaign_Type\u001b[39m\u001b[38;5;124m'\u001b[39m][Campaign_Type]\n\u001b[0;32m----> 7\u001b[0m test_array[\u001b[38;5;241m5\u001b[39m] \u001b[38;5;241m=\u001b[39m project_data[\u001b[38;5;124m'\u001b[39m\u001b[38;5;124mDevice_Type\u001b[39m\u001b[38;5;124m'\u001b[39m][Device_Type]\n\u001b[1;32m      8\u001b[0m test_array[\u001b[38;5;241m6\u001b[39m] \u001b[38;5;241m=\u001b[39m Month\n\u001b[1;32m      9\u001b[0m test_array[\u001b[38;5;241m7\u001b[39m] \u001b[38;5;241m=\u001b[39m CTR\n",
      "\u001b[0;31mIndexError\u001b[0m: index 5 is out of bounds for axis 0 with size 5"
     ]
    }
   ],
   "source": [
    "# test_array = np.zeros(x_train.shape[1])\n",
    "# test_array[0] = Spend\n",
    "# test_array[1] = Impressions\n",
    "# test_array[2] = Clicks\n",
    "# test_array[3] = Conversions\n",
    "# test_array[4] = project_data['Campaign_Type'][Campaign_Type]\n",
    "# test_array[5] = project_data['Device_Type'][Device_Type]\n",
    "# test_array[6] = Month\n",
    "# test_array[7] = CTR\n",
    "# test_array[8] = Conversion_Rate\n",
    "# test_array[9] = CPC\n",
    "# test_array[10] = CPM\n",
    "# test_array[11] = CPA\t\n",
    "# test_array[12] = Revenue\n",
    "\n"
   ]
  },
  {
   "cell_type": "code",
   "execution_count": 126,
   "id": "ca24c36e-cd16-4a5b-9d64-f76c1f18ce55",
   "metadata": {},
   "outputs": [],
   "source": [
    "# X_train_columns = x_train.columns  \n",
    "\n",
    "# # Convert test array/list to DataFrame\n",
    "# test_df = pd.DataFrame([test_array], columns=X_train_columns)\n",
    "# result = lr.predict(test_df)[0]"
   ]
  },
  {
   "cell_type": "code",
   "execution_count": 127,
   "id": "aaccc495-cb10-490a-8b3c-37bdff19c180",
   "metadata": {},
   "outputs": [
    {
     "name": "stdout",
     "output_type": "stream",
     "text": [
      "Add Budget is : $. -1449.61\n"
     ]
    }
   ],
   "source": [
    "# result = lr.predict([test_array])[0]\n",
    "# print(f'Add Budget is : $. {round(result,2)}')"
   ]
  },
  {
   "cell_type": "code",
   "execution_count": 111,
   "id": "a332afd4-c506-4009-b92e-5d98b4c44a7a",
   "metadata": {},
   "outputs": [],
   "source": [
    "# import pickle\n",
    "# import json\n",
    "\n",
    "# with open('Ad_budget_opti.pkl','wb')as f:\n",
    "#     pickle.dump(lr,f)"
   ]
  },
  {
   "cell_type": "code",
   "execution_count": 112,
   "id": "1ec0e97b-6c15-45f0-8651-033c11f720fc",
   "metadata": {},
   "outputs": [],
   "source": [
    "# with open('project_data.json','w') as f:\n",
    "#         json.dump(project_data,f)"
   ]
  },
  {
   "cell_type": "code",
   "execution_count": 113,
   "id": "3e79dd64-61be-487f-8f2b-ac33ca65bb34",
   "metadata": {},
   "outputs": [
    {
     "data": {
      "text/plain": [
       "array([0., 0., 0., 0., 0., 0., 0., 0., 0., 0., 0., 0., 0., 0., 0.])"
      ]
     },
     "execution_count": 113,
     "metadata": {},
     "output_type": "execute_result"
    }
   ],
   "source": [
    "test_array = np.zeros(x.shape[1])\n",
    "test_array"
   ]
  },
  {
   "cell_type": "code",
   "execution_count": 115,
   "id": "48f756a0-9c65-48ff-8dd0-9dcb0dea6db4",
   "metadata": {},
   "outputs": [
    {
     "name": "stdout",
     "output_type": "stream",
     "text": [
      "            Feature        VIF\n",
      "0             Spend  14.966809\n",
      "1       Impressions  11.506183\n",
      "2            Clicks  17.476766\n",
      "3       Conversions  20.811212\n",
      "4     Campaign_Type   2.908268\n",
      "5       Device_Type   2.432266\n",
      "6             Month   4.282294\n",
      "7               CTR  12.670789\n",
      "8   Conversion_Rate  12.443135\n",
      "9               CPC  13.157604\n",
      "10              CPM  13.273629\n",
      "11              CPA   8.154899\n",
      "12          Revenue   5.499761\n"
     ]
    },
    {
     "name": "stderr",
     "output_type": "stream",
     "text": [
      "Exception ignored in: <function ResourceTracker.__del__ at 0x10301dbc0>\n",
      "Traceback (most recent call last):\n",
      "  File \"/opt/anaconda3/lib/python3.13/multiprocessing/resource_tracker.py\", line 82, in __del__\n",
      "  File \"/opt/anaconda3/lib/python3.13/multiprocessing/resource_tracker.py\", line 91, in _stop\n",
      "  File \"/opt/anaconda3/lib/python3.13/multiprocessing/resource_tracker.py\", line 116, in _stop_locked\n",
      "ChildProcessError: [Errno 10] No child processes\n",
      "Exception ignored in: <function ResourceTracker.__del__ at 0x104921bc0>\n",
      "Traceback (most recent call last):\n",
      "  File \"/opt/anaconda3/lib/python3.13/multiprocessing/resource_tracker.py\", line 82, in __del__\n",
      "  File \"/opt/anaconda3/lib/python3.13/multiprocessing/resource_tracker.py\", line 91, in _stop\n",
      "  File \"/opt/anaconda3/lib/python3.13/multiprocessing/resource_tracker.py\", line 116, in _stop_locked\n",
      "ChildProcessError: [Errno 10] No child processes\n",
      "Exception ignored in: <function ResourceTracker.__del__ at 0x1042bdbc0>\n",
      "Traceback (most recent call last):\n",
      "  File \"/opt/anaconda3/lib/python3.13/multiprocessing/resource_tracker.py\", line 82, in __del__\n",
      "  File \"/opt/anaconda3/lib/python3.13/multiprocessing/resource_tracker.py\", line 91, in _stop\n",
      "  File \"/opt/anaconda3/lib/python3.13/multiprocessing/resource_tracker.py\", line 116, in _stop_locked\n",
      "ChildProcessError: [Errno 10] No child processes\n",
      "Exception ignored in: <function ResourceTracker.__del__ at 0x106f91bc0>\n",
      "Traceback (most recent call last):\n",
      "  File \"/opt/anaconda3/lib/python3.13/multiprocessing/resource_tracker.py\", line 82, in __del__\n",
      "  File \"/opt/anaconda3/lib/python3.13/multiprocessing/resource_tracker.py\", line 91, in _stop\n",
      "  File \"/opt/anaconda3/lib/python3.13/multiprocessing/resource_tracker.py\", line 116, in _stop_locked\n",
      "ChildProcessError: [Errno 10] No child processes\n",
      "Exception ignored in: <function ResourceTracker.__del__ at 0x104635bc0>\n",
      "Traceback (most recent call last):\n",
      "  File \"/opt/anaconda3/lib/python3.13/multiprocessing/resource_tracker.py\", line 82, in __del__\n",
      "  File \"/opt/anaconda3/lib/python3.13/multiprocessing/resource_tracker.py\", line 91, in _stop\n",
      "  File \"/opt/anaconda3/lib/python3.13/multiprocessing/resource_tracker.py\", line 116, in _stop_locked\n",
      "ChildProcessError: [Errno 10] No child processes\n",
      "Exception ignored in: <function ResourceTracker.__del__ at 0x1079e5bc0>\n",
      "Traceback (most recent call last):\n",
      "  File \"/opt/anaconda3/lib/python3.13/multiprocessing/resource_tracker.py\", line 82, in __del__\n",
      "  File \"/opt/anaconda3/lib/python3.13/multiprocessing/resource_tracker.py\", line 91, in _stop\n",
      "  File \"/opt/anaconda3/lib/python3.13/multiprocessing/resource_tracker.py\", line 116, in _stop_locked\n",
      "ChildProcessError: [Errno 10] No child processes\n",
      "Exception ignored in: <function ResourceTracker.__del__ at 0x103169bc0>\n",
      "Traceback (most recent call last):\n",
      "  File \"/opt/anaconda3/lib/python3.13/multiprocessing/resource_tracker.py\", line 82, in __del__\n",
      "  File \"/opt/anaconda3/lib/python3.13/multiprocessing/resource_tracker.py\", line 91, in _stop\n",
      "  File \"/opt/anaconda3/lib/python3.13/multiprocessing/resource_tracker.py\", line 116, in _stop_locked\n",
      "ChildProcessError: [Errno 10] No child processes\n",
      "Exception ignored in: <function ResourceTracker.__del__ at 0x1108adbc0>\n",
      "Traceback (most recent call last):\n",
      "  File \"/opt/anaconda3/lib/python3.13/multiprocessing/resource_tracker.py\", line 82, in __del__\n",
      "  File \"/opt/anaconda3/lib/python3.13/multiprocessing/resource_tracker.py\", line 91, in _stop\n",
      "  File \"/opt/anaconda3/lib/python3.13/multiprocessing/resource_tracker.py\", line 116, in _stop_locked\n",
      "ChildProcessError: [Errno 10] No child processes\n"
     ]
    }
   ],
   "source": [
    "import pandas as pd\n",
    "from statsmodels.stats.outliers_influence import variance_inflation_factor\n",
    "\n",
    "# Suppose you are using selected features\n",
    "features = ['Spend', 'Impressions', 'Clicks', 'Conversions', 'Campaign_Type',\n",
    "       'Device_Type', 'Month', 'CTR', 'Conversion_Rate', 'CPC', 'CPM', 'CPA',\n",
    "       'Revenue']\n",
    "\n",
    "X = x_train[features].copy()\n",
    "\n",
    "# Calculate VIF for each feature\n",
    "vif_data = pd.DataFrame()\n",
    "vif_data[\"Feature\"] = X.columns\n",
    "vif_data[\"VIF\"] = [variance_inflation_factor(X.values, i) for i in range(X.shape[1])]\n",
    "\n",
    "print(vif_data)\n",
    "\n"
   ]
  },
  {
   "cell_type": "code",
   "execution_count": null,
   "id": "b829ac20-33b3-4209-84f8-56cc55c68449",
   "metadata": {},
   "outputs": [],
   "source": [
    "'Spend', 'Impressions', 'Clicks', 'Conversions', \n",
    "       'CTR', 'Conversion_Rate', 'CPC', 'CPM', \n",
    "       "
   ]
  },
  {
   "cell_type": "code",
   "execution_count": 114,
   "id": "5f86a0ac-27b8-4e40-b8d9-786c3399f55d",
   "metadata": {},
   "outputs": [
    {
     "data": {
      "text/plain": [
       "Index(['Spend', 'Impressions', 'Clicks', 'Conversions', 'Campaign_Type',\n",
       "       'Device_Type', 'Month', 'CTR', 'Conversion_Rate', 'CPC', 'CPM', 'CPA',\n",
       "       'Revenue'],\n",
       "      dtype='object')"
      ]
     },
     "execution_count": 114,
     "metadata": {},
     "output_type": "execute_result"
    }
   ],
   "source": [
    "x_train.columns"
   ]
  },
  {
   "cell_type": "code",
   "execution_count": 128,
   "id": "a3a0a783-b16e-4964-89de-ad5565ca1dc3",
   "metadata": {},
   "outputs": [
    {
     "data": {
      "text/html": [
       "<style>#sk-container-id-3 {\n",
       "  /* Definition of color scheme common for light and dark mode */\n",
       "  --sklearn-color-text: #000;\n",
       "  --sklearn-color-text-muted: #666;\n",
       "  --sklearn-color-line: gray;\n",
       "  /* Definition of color scheme for unfitted estimators */\n",
       "  --sklearn-color-unfitted-level-0: #fff5e6;\n",
       "  --sklearn-color-unfitted-level-1: #f6e4d2;\n",
       "  --sklearn-color-unfitted-level-2: #ffe0b3;\n",
       "  --sklearn-color-unfitted-level-3: chocolate;\n",
       "  /* Definition of color scheme for fitted estimators */\n",
       "  --sklearn-color-fitted-level-0: #f0f8ff;\n",
       "  --sklearn-color-fitted-level-1: #d4ebff;\n",
       "  --sklearn-color-fitted-level-2: #b3dbfd;\n",
       "  --sklearn-color-fitted-level-3: cornflowerblue;\n",
       "\n",
       "  /* Specific color for light theme */\n",
       "  --sklearn-color-text-on-default-background: var(--sg-text-color, var(--theme-code-foreground, var(--jp-content-font-color1, black)));\n",
       "  --sklearn-color-background: var(--sg-background-color, var(--theme-background, var(--jp-layout-color0, white)));\n",
       "  --sklearn-color-border-box: var(--sg-text-color, var(--theme-code-foreground, var(--jp-content-font-color1, black)));\n",
       "  --sklearn-color-icon: #696969;\n",
       "\n",
       "  @media (prefers-color-scheme: dark) {\n",
       "    /* Redefinition of color scheme for dark theme */\n",
       "    --sklearn-color-text-on-default-background: var(--sg-text-color, var(--theme-code-foreground, var(--jp-content-font-color1, white)));\n",
       "    --sklearn-color-background: var(--sg-background-color, var(--theme-background, var(--jp-layout-color0, #111)));\n",
       "    --sklearn-color-border-box: var(--sg-text-color, var(--theme-code-foreground, var(--jp-content-font-color1, white)));\n",
       "    --sklearn-color-icon: #878787;\n",
       "  }\n",
       "}\n",
       "\n",
       "#sk-container-id-3 {\n",
       "  color: var(--sklearn-color-text);\n",
       "}\n",
       "\n",
       "#sk-container-id-3 pre {\n",
       "  padding: 0;\n",
       "}\n",
       "\n",
       "#sk-container-id-3 input.sk-hidden--visually {\n",
       "  border: 0;\n",
       "  clip: rect(1px 1px 1px 1px);\n",
       "  clip: rect(1px, 1px, 1px, 1px);\n",
       "  height: 1px;\n",
       "  margin: -1px;\n",
       "  overflow: hidden;\n",
       "  padding: 0;\n",
       "  position: absolute;\n",
       "  width: 1px;\n",
       "}\n",
       "\n",
       "#sk-container-id-3 div.sk-dashed-wrapped {\n",
       "  border: 1px dashed var(--sklearn-color-line);\n",
       "  margin: 0 0.4em 0.5em 0.4em;\n",
       "  box-sizing: border-box;\n",
       "  padding-bottom: 0.4em;\n",
       "  background-color: var(--sklearn-color-background);\n",
       "}\n",
       "\n",
       "#sk-container-id-3 div.sk-container {\n",
       "  /* jupyter's `normalize.less` sets `[hidden] { display: none; }`\n",
       "     but bootstrap.min.css set `[hidden] { display: none !important; }`\n",
       "     so we also need the `!important` here to be able to override the\n",
       "     default hidden behavior on the sphinx rendered scikit-learn.org.\n",
       "     See: https://github.com/scikit-learn/scikit-learn/issues/21755 */\n",
       "  display: inline-block !important;\n",
       "  position: relative;\n",
       "}\n",
       "\n",
       "#sk-container-id-3 div.sk-text-repr-fallback {\n",
       "  display: none;\n",
       "}\n",
       "\n",
       "div.sk-parallel-item,\n",
       "div.sk-serial,\n",
       "div.sk-item {\n",
       "  /* draw centered vertical line to link estimators */\n",
       "  background-image: linear-gradient(var(--sklearn-color-text-on-default-background), var(--sklearn-color-text-on-default-background));\n",
       "  background-size: 2px 100%;\n",
       "  background-repeat: no-repeat;\n",
       "  background-position: center center;\n",
       "}\n",
       "\n",
       "/* Parallel-specific style estimator block */\n",
       "\n",
       "#sk-container-id-3 div.sk-parallel-item::after {\n",
       "  content: \"\";\n",
       "  width: 100%;\n",
       "  border-bottom: 2px solid var(--sklearn-color-text-on-default-background);\n",
       "  flex-grow: 1;\n",
       "}\n",
       "\n",
       "#sk-container-id-3 div.sk-parallel {\n",
       "  display: flex;\n",
       "  align-items: stretch;\n",
       "  justify-content: center;\n",
       "  background-color: var(--sklearn-color-background);\n",
       "  position: relative;\n",
       "}\n",
       "\n",
       "#sk-container-id-3 div.sk-parallel-item {\n",
       "  display: flex;\n",
       "  flex-direction: column;\n",
       "}\n",
       "\n",
       "#sk-container-id-3 div.sk-parallel-item:first-child::after {\n",
       "  align-self: flex-end;\n",
       "  width: 50%;\n",
       "}\n",
       "\n",
       "#sk-container-id-3 div.sk-parallel-item:last-child::after {\n",
       "  align-self: flex-start;\n",
       "  width: 50%;\n",
       "}\n",
       "\n",
       "#sk-container-id-3 div.sk-parallel-item:only-child::after {\n",
       "  width: 0;\n",
       "}\n",
       "\n",
       "/* Serial-specific style estimator block */\n",
       "\n",
       "#sk-container-id-3 div.sk-serial {\n",
       "  display: flex;\n",
       "  flex-direction: column;\n",
       "  align-items: center;\n",
       "  background-color: var(--sklearn-color-background);\n",
       "  padding-right: 1em;\n",
       "  padding-left: 1em;\n",
       "}\n",
       "\n",
       "\n",
       "/* Toggleable style: style used for estimator/Pipeline/ColumnTransformer box that is\n",
       "clickable and can be expanded/collapsed.\n",
       "- Pipeline and ColumnTransformer use this feature and define the default style\n",
       "- Estimators will overwrite some part of the style using the `sk-estimator` class\n",
       "*/\n",
       "\n",
       "/* Pipeline and ColumnTransformer style (default) */\n",
       "\n",
       "#sk-container-id-3 div.sk-toggleable {\n",
       "  /* Default theme specific background. It is overwritten whether we have a\n",
       "  specific estimator or a Pipeline/ColumnTransformer */\n",
       "  background-color: var(--sklearn-color-background);\n",
       "}\n",
       "\n",
       "/* Toggleable label */\n",
       "#sk-container-id-3 label.sk-toggleable__label {\n",
       "  cursor: pointer;\n",
       "  display: flex;\n",
       "  width: 100%;\n",
       "  margin-bottom: 0;\n",
       "  padding: 0.5em;\n",
       "  box-sizing: border-box;\n",
       "  text-align: center;\n",
       "  align-items: start;\n",
       "  justify-content: space-between;\n",
       "  gap: 0.5em;\n",
       "}\n",
       "\n",
       "#sk-container-id-3 label.sk-toggleable__label .caption {\n",
       "  font-size: 0.6rem;\n",
       "  font-weight: lighter;\n",
       "  color: var(--sklearn-color-text-muted);\n",
       "}\n",
       "\n",
       "#sk-container-id-3 label.sk-toggleable__label-arrow:before {\n",
       "  /* Arrow on the left of the label */\n",
       "  content: \"▸\";\n",
       "  float: left;\n",
       "  margin-right: 0.25em;\n",
       "  color: var(--sklearn-color-icon);\n",
       "}\n",
       "\n",
       "#sk-container-id-3 label.sk-toggleable__label-arrow:hover:before {\n",
       "  color: var(--sklearn-color-text);\n",
       "}\n",
       "\n",
       "/* Toggleable content - dropdown */\n",
       "\n",
       "#sk-container-id-3 div.sk-toggleable__content {\n",
       "  max-height: 0;\n",
       "  max-width: 0;\n",
       "  overflow: hidden;\n",
       "  text-align: left;\n",
       "  /* unfitted */\n",
       "  background-color: var(--sklearn-color-unfitted-level-0);\n",
       "}\n",
       "\n",
       "#sk-container-id-3 div.sk-toggleable__content.fitted {\n",
       "  /* fitted */\n",
       "  background-color: var(--sklearn-color-fitted-level-0);\n",
       "}\n",
       "\n",
       "#sk-container-id-3 div.sk-toggleable__content pre {\n",
       "  margin: 0.2em;\n",
       "  border-radius: 0.25em;\n",
       "  color: var(--sklearn-color-text);\n",
       "  /* unfitted */\n",
       "  background-color: var(--sklearn-color-unfitted-level-0);\n",
       "}\n",
       "\n",
       "#sk-container-id-3 div.sk-toggleable__content.fitted pre {\n",
       "  /* unfitted */\n",
       "  background-color: var(--sklearn-color-fitted-level-0);\n",
       "}\n",
       "\n",
       "#sk-container-id-3 input.sk-toggleable__control:checked~div.sk-toggleable__content {\n",
       "  /* Expand drop-down */\n",
       "  max-height: 200px;\n",
       "  max-width: 100%;\n",
       "  overflow: auto;\n",
       "}\n",
       "\n",
       "#sk-container-id-3 input.sk-toggleable__control:checked~label.sk-toggleable__label-arrow:before {\n",
       "  content: \"▾\";\n",
       "}\n",
       "\n",
       "/* Pipeline/ColumnTransformer-specific style */\n",
       "\n",
       "#sk-container-id-3 div.sk-label input.sk-toggleable__control:checked~label.sk-toggleable__label {\n",
       "  color: var(--sklearn-color-text);\n",
       "  background-color: var(--sklearn-color-unfitted-level-2);\n",
       "}\n",
       "\n",
       "#sk-container-id-3 div.sk-label.fitted input.sk-toggleable__control:checked~label.sk-toggleable__label {\n",
       "  background-color: var(--sklearn-color-fitted-level-2);\n",
       "}\n",
       "\n",
       "/* Estimator-specific style */\n",
       "\n",
       "/* Colorize estimator box */\n",
       "#sk-container-id-3 div.sk-estimator input.sk-toggleable__control:checked~label.sk-toggleable__label {\n",
       "  /* unfitted */\n",
       "  background-color: var(--sklearn-color-unfitted-level-2);\n",
       "}\n",
       "\n",
       "#sk-container-id-3 div.sk-estimator.fitted input.sk-toggleable__control:checked~label.sk-toggleable__label {\n",
       "  /* fitted */\n",
       "  background-color: var(--sklearn-color-fitted-level-2);\n",
       "}\n",
       "\n",
       "#sk-container-id-3 div.sk-label label.sk-toggleable__label,\n",
       "#sk-container-id-3 div.sk-label label {\n",
       "  /* The background is the default theme color */\n",
       "  color: var(--sklearn-color-text-on-default-background);\n",
       "}\n",
       "\n",
       "/* On hover, darken the color of the background */\n",
       "#sk-container-id-3 div.sk-label:hover label.sk-toggleable__label {\n",
       "  color: var(--sklearn-color-text);\n",
       "  background-color: var(--sklearn-color-unfitted-level-2);\n",
       "}\n",
       "\n",
       "/* Label box, darken color on hover, fitted */\n",
       "#sk-container-id-3 div.sk-label.fitted:hover label.sk-toggleable__label.fitted {\n",
       "  color: var(--sklearn-color-text);\n",
       "  background-color: var(--sklearn-color-fitted-level-2);\n",
       "}\n",
       "\n",
       "/* Estimator label */\n",
       "\n",
       "#sk-container-id-3 div.sk-label label {\n",
       "  font-family: monospace;\n",
       "  font-weight: bold;\n",
       "  display: inline-block;\n",
       "  line-height: 1.2em;\n",
       "}\n",
       "\n",
       "#sk-container-id-3 div.sk-label-container {\n",
       "  text-align: center;\n",
       "}\n",
       "\n",
       "/* Estimator-specific */\n",
       "#sk-container-id-3 div.sk-estimator {\n",
       "  font-family: monospace;\n",
       "  border: 1px dotted var(--sklearn-color-border-box);\n",
       "  border-radius: 0.25em;\n",
       "  box-sizing: border-box;\n",
       "  margin-bottom: 0.5em;\n",
       "  /* unfitted */\n",
       "  background-color: var(--sklearn-color-unfitted-level-0);\n",
       "}\n",
       "\n",
       "#sk-container-id-3 div.sk-estimator.fitted {\n",
       "  /* fitted */\n",
       "  background-color: var(--sklearn-color-fitted-level-0);\n",
       "}\n",
       "\n",
       "/* on hover */\n",
       "#sk-container-id-3 div.sk-estimator:hover {\n",
       "  /* unfitted */\n",
       "  background-color: var(--sklearn-color-unfitted-level-2);\n",
       "}\n",
       "\n",
       "#sk-container-id-3 div.sk-estimator.fitted:hover {\n",
       "  /* fitted */\n",
       "  background-color: var(--sklearn-color-fitted-level-2);\n",
       "}\n",
       "\n",
       "/* Specification for estimator info (e.g. \"i\" and \"?\") */\n",
       "\n",
       "/* Common style for \"i\" and \"?\" */\n",
       "\n",
       ".sk-estimator-doc-link,\n",
       "a:link.sk-estimator-doc-link,\n",
       "a:visited.sk-estimator-doc-link {\n",
       "  float: right;\n",
       "  font-size: smaller;\n",
       "  line-height: 1em;\n",
       "  font-family: monospace;\n",
       "  background-color: var(--sklearn-color-background);\n",
       "  border-radius: 1em;\n",
       "  height: 1em;\n",
       "  width: 1em;\n",
       "  text-decoration: none !important;\n",
       "  margin-left: 0.5em;\n",
       "  text-align: center;\n",
       "  /* unfitted */\n",
       "  border: var(--sklearn-color-unfitted-level-1) 1pt solid;\n",
       "  color: var(--sklearn-color-unfitted-level-1);\n",
       "}\n",
       "\n",
       ".sk-estimator-doc-link.fitted,\n",
       "a:link.sk-estimator-doc-link.fitted,\n",
       "a:visited.sk-estimator-doc-link.fitted {\n",
       "  /* fitted */\n",
       "  border: var(--sklearn-color-fitted-level-1) 1pt solid;\n",
       "  color: var(--sklearn-color-fitted-level-1);\n",
       "}\n",
       "\n",
       "/* On hover */\n",
       "div.sk-estimator:hover .sk-estimator-doc-link:hover,\n",
       ".sk-estimator-doc-link:hover,\n",
       "div.sk-label-container:hover .sk-estimator-doc-link:hover,\n",
       ".sk-estimator-doc-link:hover {\n",
       "  /* unfitted */\n",
       "  background-color: var(--sklearn-color-unfitted-level-3);\n",
       "  color: var(--sklearn-color-background);\n",
       "  text-decoration: none;\n",
       "}\n",
       "\n",
       "div.sk-estimator.fitted:hover .sk-estimator-doc-link.fitted:hover,\n",
       ".sk-estimator-doc-link.fitted:hover,\n",
       "div.sk-label-container:hover .sk-estimator-doc-link.fitted:hover,\n",
       ".sk-estimator-doc-link.fitted:hover {\n",
       "  /* fitted */\n",
       "  background-color: var(--sklearn-color-fitted-level-3);\n",
       "  color: var(--sklearn-color-background);\n",
       "  text-decoration: none;\n",
       "}\n",
       "\n",
       "/* Span, style for the box shown on hovering the info icon */\n",
       ".sk-estimator-doc-link span {\n",
       "  display: none;\n",
       "  z-index: 9999;\n",
       "  position: relative;\n",
       "  font-weight: normal;\n",
       "  right: .2ex;\n",
       "  padding: .5ex;\n",
       "  margin: .5ex;\n",
       "  width: min-content;\n",
       "  min-width: 20ex;\n",
       "  max-width: 50ex;\n",
       "  color: var(--sklearn-color-text);\n",
       "  box-shadow: 2pt 2pt 4pt #999;\n",
       "  /* unfitted */\n",
       "  background: var(--sklearn-color-unfitted-level-0);\n",
       "  border: .5pt solid var(--sklearn-color-unfitted-level-3);\n",
       "}\n",
       "\n",
       ".sk-estimator-doc-link.fitted span {\n",
       "  /* fitted */\n",
       "  background: var(--sklearn-color-fitted-level-0);\n",
       "  border: var(--sklearn-color-fitted-level-3);\n",
       "}\n",
       "\n",
       ".sk-estimator-doc-link:hover span {\n",
       "  display: block;\n",
       "}\n",
       "\n",
       "/* \"?\"-specific style due to the `<a>` HTML tag */\n",
       "\n",
       "#sk-container-id-3 a.estimator_doc_link {\n",
       "  float: right;\n",
       "  font-size: 1rem;\n",
       "  line-height: 1em;\n",
       "  font-family: monospace;\n",
       "  background-color: var(--sklearn-color-background);\n",
       "  border-radius: 1rem;\n",
       "  height: 1rem;\n",
       "  width: 1rem;\n",
       "  text-decoration: none;\n",
       "  /* unfitted */\n",
       "  color: var(--sklearn-color-unfitted-level-1);\n",
       "  border: var(--sklearn-color-unfitted-level-1) 1pt solid;\n",
       "}\n",
       "\n",
       "#sk-container-id-3 a.estimator_doc_link.fitted {\n",
       "  /* fitted */\n",
       "  border: var(--sklearn-color-fitted-level-1) 1pt solid;\n",
       "  color: var(--sklearn-color-fitted-level-1);\n",
       "}\n",
       "\n",
       "/* On hover */\n",
       "#sk-container-id-3 a.estimator_doc_link:hover {\n",
       "  /* unfitted */\n",
       "  background-color: var(--sklearn-color-unfitted-level-3);\n",
       "  color: var(--sklearn-color-background);\n",
       "  text-decoration: none;\n",
       "}\n",
       "\n",
       "#sk-container-id-3 a.estimator_doc_link.fitted:hover {\n",
       "  /* fitted */\n",
       "  background-color: var(--sklearn-color-fitted-level-3);\n",
       "}\n",
       "</style><div id=\"sk-container-id-3\" class=\"sk-top-container\"><div class=\"sk-text-repr-fallback\"><pre>RandomForestRegressor(min_samples_leaf=2, min_samples_split=5, n_estimators=300,\n",
       "                      n_jobs=-1, random_state=42)</pre><b>In a Jupyter environment, please rerun this cell to show the HTML representation or trust the notebook. <br />On GitHub, the HTML representation is unable to render, please try loading this page with nbviewer.org.</b></div><div class=\"sk-container\" hidden><div class=\"sk-item\"><div class=\"sk-estimator fitted sk-toggleable\"><input class=\"sk-toggleable__control sk-hidden--visually\" id=\"sk-estimator-id-3\" type=\"checkbox\" checked><label for=\"sk-estimator-id-3\" class=\"sk-toggleable__label fitted sk-toggleable__label-arrow\"><div><div>RandomForestRegressor</div></div><div><a class=\"sk-estimator-doc-link fitted\" rel=\"noreferrer\" target=\"_blank\" href=\"https://scikit-learn.org/1.6/modules/generated/sklearn.ensemble.RandomForestRegressor.html\">?<span>Documentation for RandomForestRegressor</span></a><span class=\"sk-estimator-doc-link fitted\">i<span>Fitted</span></span></div></label><div class=\"sk-toggleable__content fitted\"><pre>RandomForestRegressor(min_samples_leaf=2, min_samples_split=5, n_estimators=300,\n",
       "                      n_jobs=-1, random_state=42)</pre></div> </div></div></div></div>"
      ],
      "text/plain": [
       "RandomForestRegressor(min_samples_leaf=2, min_samples_split=5, n_estimators=300,\n",
       "                      n_jobs=-1, random_state=42)"
      ]
     },
     "execution_count": 128,
     "metadata": {},
     "output_type": "execute_result"
    }
   ],
   "source": [
    "from sklearn.ensemble import RandomForestRegressor  \n",
    "lr = RandomForestRegressor(\n",
    "    n_estimators=300,\n",
    "    max_depth=None,\n",
    "    min_samples_split=5,\n",
    "    min_samples_leaf=2,\n",
    "    n_jobs=-1,\n",
    "    random_state=42\n",
    ")\n",
    "lr.fit(x_train, y_train)\n"
   ]
  },
  {
   "cell_type": "code",
   "execution_count": 136,
   "id": "54a299ac-87b4-41ec-8485-d3351f8e68e2",
   "metadata": {},
   "outputs": [
    {
     "name": "stdout",
     "output_type": "stream",
     "text": [
      "----- Training Performance -----\n",
      "Mean Squared Error (Train): 5.444785423650121\n",
      "Root Mean Squared Error (Train): 2.3334063991619893\n",
      "Mean Absolute Error (Train): 1.3931419156267468\n",
      "R-Squared Value (Train): 0.9716227001918661\n",
      "Adj-R-Squared Value (Train): 0.9716138731109254\n",
      "\n",
      "----- Testing Performance -----\n",
      "Mean Squared Error (Test): 21.904828602256323\n",
      "Root Mean Squared Error (Test): 4.680259458860836\n",
      "Mean Absolute Error (Test): 2.972876089173457\n",
      "R-Squared Value (Test): 0.892350613692047\n",
      "Adj-R-Squared Value (Test): 0.8922165212825952\n"
     ]
    }
   ],
   "source": [
    "from sklearn.metrics import mean_squared_error, mean_absolute_error, r2_score\n",
    "import numpy as np\n",
    "\n",
    "# ---------- Train Predictions ----------\n",
    "y_train_pred = lr.predict(x_train)\n",
    "\n",
    "mse_train = mean_squared_error(y_train, y_train_pred)\n",
    "rmse_train = np.sqrt(mse_train)\n",
    "mae_train = mean_absolute_error(y_train, y_train_pred)\n",
    "r2_train = r2_score(y_train, y_train_pred)\n",
    "adj_r2_train = 1 - (((1 - r2_train) * (y_train.shape[0] - 1)) / (y_train.shape[0] - x_train.shape[1] - 1))\n",
    "\n",
    "print(\"----- Training Performance -----\")\n",
    "print(\"Mean Squared Error (Train):\", mse_train)\n",
    "print(\"Root Mean Squared Error (Train):\", rmse_train)\n",
    "print(\"Mean Absolute Error (Train):\", mae_train)\n",
    "print(\"R-Squared Value (Train):\", r2_train)\n",
    "print(\"Adj-R-Squared Value (Train):\", adj_r2_train)\n",
    "\n",
    "# ---------- Test Predictions ----------\n",
    "y_test_pred = lr.predict(x_test)\n",
    "\n",
    "mse_test = mean_squared_error(y_test, y_test_pred)\n",
    "rmse_test = np.sqrt(mse_test)\n",
    "mae_test = mean_absolute_error(y_test, y_test_pred)\n",
    "r2_test = r2_score(y_test, y_test_pred)\n",
    "adj_r2_test = 1 - (((1 - r2_test) * (y_test.shape[0] - 1)) / (y_test.shape[0] - x_test.shape[1] - 1))\n",
    "\n",
    "print(\"\\n----- Testing Performance -----\")\n",
    "print(\"Mean Squared Error (Test):\", mse_test)\n",
    "print(\"Root Mean Squared Error (Test):\", rmse_test)\n",
    "print(\"Mean Absolute Error (Test):\", mae_test)\n",
    "print(\"R-Squared Value (Test):\", r2_test)\n",
    "print(\"Adj-R-Squared Value (Test):\", adj_r2_test)\n"
   ]
  },
  {
   "cell_type": "code",
   "execution_count": 134,
   "id": "08440b8e-2862-48e8-a679-c179acc258cd",
   "metadata": {},
   "outputs": [],
   "source": [
    "Spend =\"3503.649208\"\n",
    "Impressions = \"15837.0\"\n",
    "Clicks = \"297.0\t\"\n",
    "Conversions = \"223.0\"\n",
    "Campaign_Type = \"Email\"\n",
    "Device_Type = \"Desktop\"\n",
    "Month = \"11\"\n",
    "CTR = \"0.018754\"\n",
    "Conversion_Rate = \"0.750842\"\n",
    "CPC = \"11.796799\t\"\n",
    "CPM = \"221.231875\"\n",
    "CPA = \"15.711431\"\n",
    "Revenue = \"36318.018142\""
   ]
  },
  {
   "cell_type": "code",
   "execution_count": 133,
   "id": "bf4d868c-f730-4055-b4f0-f7e1774718d8",
   "metadata": {},
   "outputs": [],
   "source": [
    "test_array = np.zeros(x_train.shape[1])\n",
    "# test_array[0] = Spend\n",
    "# test_array[1] = Impressions\n",
    "# test_array[2] = Clicks\n",
    "# test_array[3] = Conversions\n",
    "test_array[0] = project_data['Campaign_Type'][Campaign_Type]\n",
    "test_array[1] = project_data['Device_Type'][Device_Type]\n",
    "test_array[2] = Month\n",
    "# test_array[7] = CTR\n",
    "# test_array[8] = Conversion_Rate\n",
    "# test_array[9] = CPC\n",
    "# test_array[10] = CPM\n",
    "test_array[3] = CPA\t\n",
    "test_array[4] = Revenue"
   ]
  },
  {
   "cell_type": "code",
   "execution_count": 135,
   "id": "5c37d81b-285d-45ea-90f1-52dc1e457585",
   "metadata": {},
   "outputs": [
    {
     "name": "stdout",
     "output_type": "stream",
     "text": [
      "Add Budget is : $. 9.19\n"
     ]
    },
    {
     "name": "stderr",
     "output_type": "stream",
     "text": [
      "Exception ignored in: <function ResourceTracker.__del__ at 0x102d31bc0>\n",
      "Traceback (most recent call last):\n",
      "  File \"/opt/anaconda3/lib/python3.13/multiprocessing/resource_tracker.py\", line 82, in __del__\n",
      "  File \"/opt/anaconda3/lib/python3.13/multiprocessing/resource_tracker.py\", line 91, in _stop\n",
      "  File \"/opt/anaconda3/lib/python3.13/multiprocessing/resource_tracker.py\", line 116, in _stop_locked\n",
      "ChildProcessError: [Errno 10] No child processes\n",
      "Exception ignored in: <function ResourceTracker.__del__ at 0x103df5bc0>\n",
      "Traceback (most recent call last):\n",
      "  File \"/opt/anaconda3/lib/python3.13/multiprocessing/resource_tracker.py\", line 82, in __del__\n",
      "  File \"/opt/anaconda3/lib/python3.13/multiprocessing/resource_tracker.py\", line 91, in _stop\n",
      "  File \"/opt/anaconda3/lib/python3.13/multiprocessing/resource_tracker.py\", line 116, in _stop_locked\n",
      "ChildProcessError: [Errno 10] No child processes\n",
      "Exception ignored in: <function ResourceTracker.__del__ at 0x103391bc0>\n",
      "Traceback (most recent call last):\n",
      "  File \"/opt/anaconda3/lib/python3.13/multiprocessing/resource_tracker.py\", line 82, in __del__\n",
      "  File \"/opt/anaconda3/lib/python3.13/multiprocessing/resource_tracker.py\", line 91, in _stop\n",
      "  File \"/opt/anaconda3/lib/python3.13/multiprocessing/resource_tracker.py\", line 116, in _stop_locked\n",
      "ChildProcessError: [Errno 10] No child processes\n",
      "Exception ignored in: <function ResourceTracker.__del__ at 0x10285dbc0>\n",
      "Traceback (most recent call last):\n",
      "  File \"/opt/anaconda3/lib/python3.13/multiprocessing/resource_tracker.py\", line 82, in __del__\n",
      "  File \"/opt/anaconda3/lib/python3.13/multiprocessing/resource_tracker.py\", line 91, in _stop\n",
      "  File \"/opt/anaconda3/lib/python3.13/multiprocessing/resource_tracker.py\", line 116, in _stop_locked\n",
      "ChildProcessError: [Errno 10] No child processes\n",
      "Exception ignored in: <function ResourceTracker.__del__ at 0x106dbdbc0>\n",
      "Traceback (most recent call last):\n",
      "  File \"/opt/anaconda3/lib/python3.13/multiprocessing/resource_tracker.py\", line 82, in __del__\n",
      "  File \"/opt/anaconda3/lib/python3.13/multiprocessing/resource_tracker.py\", line 91, in _stop\n",
      "  File \"/opt/anaconda3/lib/python3.13/multiprocessing/resource_tracker.py\", line 116, in _stop_locked\n",
      "ChildProcessError: [Errno 10] No child processes\n",
      "Exception ignored in: <function ResourceTracker.__del__ at 0x105395bc0>\n",
      "Traceback (most recent call last):\n",
      "  File \"/opt/anaconda3/lib/python3.13/multiprocessing/resource_tracker.py\", line 82, in __del__\n",
      "  File \"/opt/anaconda3/lib/python3.13/multiprocessing/resource_tracker.py\", line 91, in _stop\n",
      "  File \"/opt/anaconda3/lib/python3.13/multiprocessing/resource_tracker.py\", line 116, in _stop_locked\n",
      "ChildProcessError: [Errno 10] No child processes\n",
      "Exception ignored in: <function ResourceTracker.__del__ at 0x1064bdbc0>\n",
      "Traceback (most recent call last):\n",
      "  File \"/opt/anaconda3/lib/python3.13/multiprocessing/resource_tracker.py\", line 82, in __del__\n",
      "  File \"/opt/anaconda3/lib/python3.13/multiprocessing/resource_tracker.py\", line 91, in _stop\n",
      "  File \"/opt/anaconda3/lib/python3.13/multiprocessing/resource_tracker.py\", line 116, in _stop_locked\n",
      "ChildProcessError: [Errno 10] No child processes\n",
      "Exception ignored in: <function ResourceTracker.__del__ at 0x102dc1bc0>\n",
      "Traceback (most recent call last):\n",
      "  File \"/opt/anaconda3/lib/python3.13/multiprocessing/resource_tracker.py\", line 82, in __del__\n",
      "  File \"/opt/anaconda3/lib/python3.13/multiprocessing/resource_tracker.py\", line 91, in _stop\n",
      "  File \"/opt/anaconda3/lib/python3.13/multiprocessing/resource_tracker.py\", line 116, in _stop_locked\n",
      "ChildProcessError: [Errno 10] No child processes\n"
     ]
    }
   ],
   "source": [
    "result = lr.predict([test_array])[0]\n",
    "print(f'Add Budget is : $. {round(result,2)}')"
   ]
  },
  {
   "cell_type": "code",
   "execution_count": 132,
   "id": "f630bf9e-492f-495d-84d5-b44c6adbb937",
   "metadata": {},
   "outputs": [
    {
     "data": {
      "text/html": [
       "<div>\n",
       "<style scoped>\n",
       "    .dataframe tbody tr th:only-of-type {\n",
       "        vertical-align: middle;\n",
       "    }\n",
       "\n",
       "    .dataframe tbody tr th {\n",
       "        vertical-align: top;\n",
       "    }\n",
       "\n",
       "    .dataframe thead th {\n",
       "        text-align: right;\n",
       "    }\n",
       "</style>\n",
       "<table border=\"1\" class=\"dataframe\">\n",
       "  <thead>\n",
       "    <tr style=\"text-align: right;\">\n",
       "      <th></th>\n",
       "      <th>Campaign_Type</th>\n",
       "      <th>Device_Type</th>\n",
       "      <th>Month</th>\n",
       "      <th>CPA</th>\n",
       "      <th>Revenue</th>\n",
       "    </tr>\n",
       "  </thead>\n",
       "  <tbody>\n",
       "    <tr>\n",
       "      <th>3479</th>\n",
       "      <td>0</td>\n",
       "      <td>0</td>\n",
       "      <td>1</td>\n",
       "      <td>12.719880</td>\n",
       "      <td>31337.691517</td>\n",
       "    </tr>\n",
       "    <tr>\n",
       "      <th>12264</th>\n",
       "      <td>2</td>\n",
       "      <td>1</td>\n",
       "      <td>8</td>\n",
       "      <td>10.598365</td>\n",
       "      <td>38815.860051</td>\n",
       "    </tr>\n",
       "    <tr>\n",
       "      <th>7070</th>\n",
       "      <td>3</td>\n",
       "      <td>1</td>\n",
       "      <td>8</td>\n",
       "      <td>9.020530</td>\n",
       "      <td>17393.172671</td>\n",
       "    </tr>\n",
       "    <tr>\n",
       "      <th>720</th>\n",
       "      <td>1</td>\n",
       "      <td>2</td>\n",
       "      <td>3</td>\n",
       "      <td>5.116408</td>\n",
       "      <td>8675.941277</td>\n",
       "    </tr>\n",
       "    <tr>\n",
       "      <th>11883</th>\n",
       "      <td>2</td>\n",
       "      <td>1</td>\n",
       "      <td>12</td>\n",
       "      <td>15.204619</td>\n",
       "      <td>21826.072264</td>\n",
       "    </tr>\n",
       "    <tr>\n",
       "      <th>...</th>\n",
       "      <td>...</td>\n",
       "      <td>...</td>\n",
       "      <td>...</td>\n",
       "      <td>...</td>\n",
       "      <td>...</td>\n",
       "    </tr>\n",
       "    <tr>\n",
       "      <th>11284</th>\n",
       "      <td>0</td>\n",
       "      <td>0</td>\n",
       "      <td>5</td>\n",
       "      <td>10.704355</td>\n",
       "      <td>10239.559249</td>\n",
       "    </tr>\n",
       "    <tr>\n",
       "      <th>11964</th>\n",
       "      <td>0</td>\n",
       "      <td>2</td>\n",
       "      <td>11</td>\n",
       "      <td>5.404421</td>\n",
       "      <td>51655.447168</td>\n",
       "    </tr>\n",
       "    <tr>\n",
       "      <th>5390</th>\n",
       "      <td>3</td>\n",
       "      <td>1</td>\n",
       "      <td>12</td>\n",
       "      <td>24.291666</td>\n",
       "      <td>4237.287090</td>\n",
       "    </tr>\n",
       "    <tr>\n",
       "      <th>860</th>\n",
       "      <td>3</td>\n",
       "      <td>1</td>\n",
       "      <td>1</td>\n",
       "      <td>23.091515</td>\n",
       "      <td>2870.068955</td>\n",
       "    </tr>\n",
       "    <tr>\n",
       "      <th>15795</th>\n",
       "      <td>4</td>\n",
       "      <td>1</td>\n",
       "      <td>11</td>\n",
       "      <td>0.775236</td>\n",
       "      <td>36357.046995</td>\n",
       "    </tr>\n",
       "  </tbody>\n",
       "</table>\n",
       "<p>16080 rows × 5 columns</p>\n",
       "</div>"
      ],
      "text/plain": [
       "       Campaign_Type  Device_Type  Month        CPA       Revenue\n",
       "3479               0            0      1  12.719880  31337.691517\n",
       "12264              2            1      8  10.598365  38815.860051\n",
       "7070               3            1      8   9.020530  17393.172671\n",
       "720                1            2      3   5.116408   8675.941277\n",
       "11883              2            1     12  15.204619  21826.072264\n",
       "...              ...          ...    ...        ...           ...\n",
       "11284              0            0      5  10.704355  10239.559249\n",
       "11964              0            2     11   5.404421  51655.447168\n",
       "5390               3            1     12  24.291666   4237.287090\n",
       "860                3            1      1  23.091515   2870.068955\n",
       "15795              4            1     11   0.775236  36357.046995\n",
       "\n",
       "[16080 rows x 5 columns]"
      ]
     },
     "execution_count": 132,
     "metadata": {},
     "output_type": "execute_result"
    }
   ],
   "source": [
    "x_train"
   ]
  },
  {
   "cell_type": "code",
   "execution_count": 139,
   "id": "7dc0ae5e-f6e4-46f4-95c2-4322843e109b",
   "metadata": {},
   "outputs": [],
   "source": [
    "import pickle\n",
    "import json\n",
    "\n",
    "with open('Ad_budget_opti.pkl','wb')as f:\n",
    "    pickle.dump(lr,f)\n",
    "\n",
    "with open('project_data.json','w') as f:\n",
    "    json.dump(project_data,f)"
   ]
  },
  {
   "cell_type": "code",
   "execution_count": null,
   "id": "93b1107d-fb5d-4d92-9bb6-535a2ef45070",
   "metadata": {},
   "outputs": [],
   "source": []
  },
  {
   "cell_type": "code",
   "execution_count": null,
   "id": "ac549c7c-a952-478b-b1bd-4c47d62c4550",
   "metadata": {},
   "outputs": [],
   "source": []
  }
 ],
 "metadata": {
  "kernelspec": {
   "display_name": "Python 3 (ipykernel)",
   "language": "python",
   "name": "python3"
  },
  "language_info": {
   "codemirror_mode": {
    "name": "ipython",
    "version": 3
   },
   "file_extension": ".py",
   "mimetype": "text/x-python",
   "name": "python",
   "nbconvert_exporter": "python",
   "pygments_lexer": "ipython3",
   "version": "3.13.5"
  },
  "vscode": {
   "interpreter": {
    "hash": "0388c4bcee771405f7a46bedf0cfb3b73545e7a8cae76060323b3caf3bb183d8"
   }
  }
 },
 "nbformat": 4,
 "nbformat_minor": 5
}

{
 "cells": [
  {
   "cell_type": "markdown",
   "id": "7b7a2e0d-56cb-4b91-acea-069785498348",
   "metadata": {},
   "source": [
    "### Problem Statement"
   ]
  },
  {
   "cell_type": "markdown",
   "id": "f7bc1685-7035-489a-a0f4-2ba6169e9c8b",
   "metadata": {},
   "source": [
    "Digital marketers often struggle to identify which customers are most likely to engage with online ads \n",
    "(clicks, conversions, or purchases). Predicting ad engagement can help companies optimize ad spend, \n",
    "personalize campaigns, and increase ROI."
   ]
  },
  {
   "cell_type": "markdown",
   "id": "8133b28c-a870-4c90-b967-a612eb27a462",
   "metadata": {},
   "source": [
    "Build an ML model that predicts whether a user will engage (click/purchase) with a digital ad based on \n",
    "historical ad campaign data and user behavior."
   ]
  },
  {
   "cell_type": "code",
   "execution_count": 1,
   "id": "50c5e245-4f69-40e8-8d98-a2008f313414",
   "metadata": {},
   "outputs": [],
   "source": [
    "import numpy as np\n",
    "import pandas as pd\n",
    "import matplotlib.pyplot as plt\n",
    "import seaborn as sns\n",
    "from sklearn.impute import KNNImputer\n",
    "from sklearn.model_selection import train_test_split\n",
    "from sklearn.linear_model import LogisticRegression\n",
    "from sklearn.tree import DecisionTreeClassifier, DecisionTreeRegressor"
   ]
  },
  {
   "cell_type": "markdown",
   "id": "14a72fec-92bd-4e51-8a32-dacb4a006a2a",
   "metadata": {},
   "source": [
    "### Data Gathering"
   ]
  },
  {
   "cell_type": "code",
   "execution_count": 2,
   "id": "8203d831-1e21-48cf-9d5a-f332867b9379",
   "metadata": {},
   "outputs": [
    {
     "data": {
      "text/html": [
       "<div>\n",
       "<style scoped>\n",
       "    .dataframe tbody tr th:only-of-type {\n",
       "        vertical-align: middle;\n",
       "    }\n",
       "\n",
       "    .dataframe tbody tr th {\n",
       "        vertical-align: top;\n",
       "    }\n",
       "\n",
       "    .dataframe thead th {\n",
       "        text-align: right;\n",
       "    }\n",
       "</style>\n",
       "<table border=\"1\" class=\"dataframe\">\n",
       "  <thead>\n",
       "    <tr style=\"text-align: right;\">\n",
       "      <th></th>\n",
       "      <th>Campaign_ID</th>\n",
       "      <th>Spend</th>\n",
       "      <th>Impressions</th>\n",
       "      <th>Clicks</th>\n",
       "      <th>Conversions</th>\n",
       "      <th>Campaign_Type</th>\n",
       "      <th>Region</th>\n",
       "      <th>Device_Type</th>\n",
       "      <th>Month</th>\n",
       "      <th>CTR</th>\n",
       "      <th>Conversion_Rate</th>\n",
       "      <th>CPC</th>\n",
       "      <th>CPM</th>\n",
       "      <th>CPA</th>\n",
       "      <th>Revenue</th>\n",
       "      <th>ROI</th>\n",
       "    </tr>\n",
       "  </thead>\n",
       "  <tbody>\n",
       "    <tr>\n",
       "      <th>0</th>\n",
       "      <td>6065</td>\n",
       "      <td>1267.852332</td>\n",
       "      <td>17642.0</td>\n",
       "      <td>3262.0</td>\n",
       "      <td>118.0</td>\n",
       "      <td>Display</td>\n",
       "      <td>Canada</td>\n",
       "      <td>Desktop</td>\n",
       "      <td>5</td>\n",
       "      <td>0.184900</td>\n",
       "      <td>0.036174</td>\n",
       "      <td>0.388673</td>\n",
       "      <td>71.865567</td>\n",
       "      <td>10.744511</td>\n",
       "      <td>16442.912417</td>\n",
       "      <td>11.969107</td>\n",
       "    </tr>\n",
       "    <tr>\n",
       "      <th>1</th>\n",
       "      <td>17215</td>\n",
       "      <td>3503.649208</td>\n",
       "      <td>15837.0</td>\n",
       "      <td>297.0</td>\n",
       "      <td>223.0</td>\n",
       "      <td>Email</td>\n",
       "      <td>India</td>\n",
       "      <td>Desktop</td>\n",
       "      <td>11</td>\n",
       "      <td>0.018754</td>\n",
       "      <td>0.750842</td>\n",
       "      <td>11.796799</td>\n",
       "      <td>221.231875</td>\n",
       "      <td>15.711431</td>\n",
       "      <td>36318.018142</td>\n",
       "      <td>9.365769</td>\n",
       "    </tr>\n",
       "    <tr>\n",
       "      <th>2</th>\n",
       "      <td>9542</td>\n",
       "      <td>1795.152638</td>\n",
       "      <td>98219.0</td>\n",
       "      <td>1023.0</td>\n",
       "      <td>429.0</td>\n",
       "      <td>Display</td>\n",
       "      <td>India</td>\n",
       "      <td>Mobile</td>\n",
       "      <td>2</td>\n",
       "      <td>0.010416</td>\n",
       "      <td>0.419355</td>\n",
       "      <td>1.754792</td>\n",
       "      <td>18.277040</td>\n",
       "      <td>4.184505</td>\n",
       "      <td>54813.630280</td>\n",
       "      <td>29.534245</td>\n",
       "    </tr>\n",
       "    <tr>\n",
       "      <th>3</th>\n",
       "      <td>15636</td>\n",
       "      <td>227.683641</td>\n",
       "      <td>12849.0</td>\n",
       "      <td>3397.0</td>\n",
       "      <td>112.0</td>\n",
       "      <td>Meta Ads</td>\n",
       "      <td>UK</td>\n",
       "      <td>Mobile</td>\n",
       "      <td>9</td>\n",
       "      <td>0.264379</td>\n",
       "      <td>0.032970</td>\n",
       "      <td>0.067025</td>\n",
       "      <td>17.719950</td>\n",
       "      <td>2.032890</td>\n",
       "      <td>8605.263792</td>\n",
       "      <td>36.794827</td>\n",
       "    </tr>\n",
       "    <tr>\n",
       "      <th>4</th>\n",
       "      <td>18487</td>\n",
       "      <td>1005.997237</td>\n",
       "      <td>66945.0</td>\n",
       "      <td>4202.0</td>\n",
       "      <td>44.0</td>\n",
       "      <td>LinkedIn</td>\n",
       "      <td>Canada</td>\n",
       "      <td>Tablet</td>\n",
       "      <td>2</td>\n",
       "      <td>0.062768</td>\n",
       "      <td>0.010471</td>\n",
       "      <td>0.239409</td>\n",
       "      <td>15.027220</td>\n",
       "      <td>22.863573</td>\n",
       "      <td>5996.434087</td>\n",
       "      <td>4.960686</td>\n",
       "    </tr>\n",
       "    <tr>\n",
       "      <th>5</th>\n",
       "      <td>18021</td>\n",
       "      <td>2432.282246</td>\n",
       "      <td>30374.0</td>\n",
       "      <td>1800.0</td>\n",
       "      <td>383.0</td>\n",
       "      <td>Display</td>\n",
       "      <td>UK</td>\n",
       "      <td>Desktop</td>\n",
       "      <td>1</td>\n",
       "      <td>0.059261</td>\n",
       "      <td>0.212778</td>\n",
       "      <td>1.351268</td>\n",
       "      <td>80.077772</td>\n",
       "      <td>6.350606</td>\n",
       "      <td>64903.903188</td>\n",
       "      <td>25.684363</td>\n",
       "    </tr>\n",
       "    <tr>\n",
       "      <th>6</th>\n",
       "      <td>18936</td>\n",
       "      <td>3828.770466</td>\n",
       "      <td>85066.0</td>\n",
       "      <td>4765.0</td>\n",
       "      <td>96.0</td>\n",
       "      <td>Display</td>\n",
       "      <td>India</td>\n",
       "      <td>Mobile</td>\n",
       "      <td>1</td>\n",
       "      <td>0.056015</td>\n",
       "      <td>0.020147</td>\n",
       "      <td>0.803520</td>\n",
       "      <td>45.009410</td>\n",
       "      <td>39.883025</td>\n",
       "      <td>6406.041477</td>\n",
       "      <td>0.673133</td>\n",
       "    </tr>\n",
       "    <tr>\n",
       "      <th>7</th>\n",
       "      <td>12368</td>\n",
       "      <td>1841.702372</td>\n",
       "      <td>72164.0</td>\n",
       "      <td>4693.0</td>\n",
       "      <td>166.0</td>\n",
       "      <td>LinkedIn</td>\n",
       "      <td>Canada</td>\n",
       "      <td>Tablet</td>\n",
       "      <td>9</td>\n",
       "      <td>0.065032</td>\n",
       "      <td>0.035372</td>\n",
       "      <td>0.392436</td>\n",
       "      <td>25.521068</td>\n",
       "      <td>11.094593</td>\n",
       "      <td>9913.631923</td>\n",
       "      <td>4.382863</td>\n",
       "    </tr>\n",
       "    <tr>\n",
       "      <th>8</th>\n",
       "      <td>5012</td>\n",
       "      <td>3562.360232</td>\n",
       "      <td>33165.0</td>\n",
       "      <td>NaN</td>\n",
       "      <td>392.0</td>\n",
       "      <td>Email</td>\n",
       "      <td>Australia</td>\n",
       "      <td>Tablet</td>\n",
       "      <td>9</td>\n",
       "      <td>0.060455</td>\n",
       "      <td>0.195511</td>\n",
       "      <td>1.776738</td>\n",
       "      <td>107.413244</td>\n",
       "      <td>9.087654</td>\n",
       "      <td>43488.892107</td>\n",
       "      <td>11.207887</td>\n",
       "    </tr>\n",
       "    <tr>\n",
       "      <th>9</th>\n",
       "      <td>11527</td>\n",
       "      <td>641.838017</td>\n",
       "      <td>28664.0</td>\n",
       "      <td>787.0</td>\n",
       "      <td>50.0</td>\n",
       "      <td>Email</td>\n",
       "      <td>India</td>\n",
       "      <td>Desktop</td>\n",
       "      <td>2</td>\n",
       "      <td>0.027456</td>\n",
       "      <td>0.063532</td>\n",
       "      <td>0.815550</td>\n",
       "      <td>22.391781</td>\n",
       "      <td>12.836760</td>\n",
       "      <td>9899.958071</td>\n",
       "      <td>14.424387</td>\n",
       "    </tr>\n",
       "  </tbody>\n",
       "</table>\n",
       "</div>"
      ],
      "text/plain": [
       "   Campaign_ID        Spend  Impressions  Clicks  Conversions Campaign_Type  \\\n",
       "0         6065  1267.852332      17642.0  3262.0        118.0       Display   \n",
       "1        17215  3503.649208      15837.0   297.0        223.0         Email   \n",
       "2         9542  1795.152638      98219.0  1023.0        429.0       Display   \n",
       "3        15636   227.683641      12849.0  3397.0        112.0      Meta Ads   \n",
       "4        18487  1005.997237      66945.0  4202.0         44.0      LinkedIn   \n",
       "5        18021  2432.282246      30374.0  1800.0        383.0       Display   \n",
       "6        18936  3828.770466      85066.0  4765.0         96.0       Display   \n",
       "7        12368  1841.702372      72164.0  4693.0        166.0      LinkedIn   \n",
       "8         5012  3562.360232      33165.0     NaN        392.0         Email   \n",
       "9        11527   641.838017      28664.0   787.0         50.0         Email   \n",
       "\n",
       "      Region Device_Type  Month       CTR  Conversion_Rate        CPC  \\\n",
       "0     Canada     Desktop      5  0.184900         0.036174   0.388673   \n",
       "1      India     Desktop     11  0.018754         0.750842  11.796799   \n",
       "2      India      Mobile      2  0.010416         0.419355   1.754792   \n",
       "3         UK      Mobile      9  0.264379         0.032970   0.067025   \n",
       "4     Canada      Tablet      2  0.062768         0.010471   0.239409   \n",
       "5         UK     Desktop      1  0.059261         0.212778   1.351268   \n",
       "6      India      Mobile      1  0.056015         0.020147   0.803520   \n",
       "7     Canada      Tablet      9  0.065032         0.035372   0.392436   \n",
       "8  Australia      Tablet      9  0.060455         0.195511   1.776738   \n",
       "9      India     Desktop      2  0.027456         0.063532   0.815550   \n",
       "\n",
       "          CPM        CPA       Revenue        ROI  \n",
       "0   71.865567  10.744511  16442.912417  11.969107  \n",
       "1  221.231875  15.711431  36318.018142   9.365769  \n",
       "2   18.277040   4.184505  54813.630280  29.534245  \n",
       "3   17.719950   2.032890   8605.263792  36.794827  \n",
       "4   15.027220  22.863573   5996.434087   4.960686  \n",
       "5   80.077772   6.350606  64903.903188  25.684363  \n",
       "6   45.009410  39.883025   6406.041477   0.673133  \n",
       "7   25.521068  11.094593   9913.631923   4.382863  \n",
       "8  107.413244   9.087654  43488.892107  11.207887  \n",
       "9   22.391781  12.836760   9899.958071  14.424387  "
      ]
     },
     "execution_count": 2,
     "metadata": {},
     "output_type": "execute_result"
    }
   ],
   "source": [
    "ad = pd.read_csv('digital_marketing_roi_dataset.csv')\n",
    "ad.head(10)"
   ]
  },
  {
   "cell_type": "code",
   "execution_count": 3,
   "id": "45022554-5712-4998-ad0e-b5c51575f24c",
   "metadata": {},
   "outputs": [
    {
     "name": "stdout",
     "output_type": "stream",
     "text": [
      "<class 'pandas.core.frame.DataFrame'>\n",
      "RangeIndex: 20100 entries, 0 to 20099\n",
      "Data columns (total 16 columns):\n",
      " #   Column           Non-Null Count  Dtype  \n",
      "---  ------           --------------  -----  \n",
      " 0   Campaign_ID      20100 non-null  int64  \n",
      " 1   Spend            19900 non-null  float64\n",
      " 2   Impressions      19899 non-null  float64\n",
      " 3   Clicks           19900 non-null  float64\n",
      " 4   Conversions      19900 non-null  float64\n",
      " 5   Campaign_Type    20100 non-null  object \n",
      " 6   Region           20100 non-null  object \n",
      " 7   Device_Type      20100 non-null  object \n",
      " 8   Month            20100 non-null  int64  \n",
      " 9   CTR              20100 non-null  float64\n",
      " 10  Conversion_Rate  20100 non-null  float64\n",
      " 11  CPC              20100 non-null  float64\n",
      " 12  CPM              20100 non-null  float64\n",
      " 13  CPA              20100 non-null  float64\n",
      " 14  Revenue          19899 non-null  float64\n",
      " 15  ROI              20100 non-null  float64\n",
      "dtypes: float64(11), int64(2), object(3)\n",
      "memory usage: 2.5+ MB\n"
     ]
    }
   ],
   "source": [
    "ad.info()"
   ]
  },
  {
   "cell_type": "markdown",
   "id": "ff742f57-2de7-42c3-a78d-1022e69ed55f",
   "metadata": {},
   "source": [
    "### Train Test Split"
   ]
  },
  {
   "cell_type": "code",
   "execution_count": 4,
   "id": "6ea403e2-b954-47ea-9cca-d7997748392d",
   "metadata": {},
   "outputs": [],
   "source": [
    "#first split of whole data\n",
    "train_data, test_data = train_test_split(ad, test_size=0.2, random_state= 42) \n",
    "\n",
    "x = train_data.drop(\"CTR\", axis=1)\n",
    "y = train_data[\"CTR\"]\n",
    "#split train_data again into train and test\n",
    "x_train, x_test, y_train, y_test  = train_test_split(x, y, test_size=0.2, random_state= 42)\n"
   ]
  },
  {
   "cell_type": "code",
   "execution_count": 5,
   "id": "ea76a73e-b159-4501-82e2-b39cb73a84dd",
   "metadata": {},
   "outputs": [
    {
     "data": {
      "text/html": [
       "<div>\n",
       "<style scoped>\n",
       "    .dataframe tbody tr th:only-of-type {\n",
       "        vertical-align: middle;\n",
       "    }\n",
       "\n",
       "    .dataframe tbody tr th {\n",
       "        vertical-align: top;\n",
       "    }\n",
       "\n",
       "    .dataframe thead th {\n",
       "        text-align: right;\n",
       "    }\n",
       "</style>\n",
       "<table border=\"1\" class=\"dataframe\">\n",
       "  <thead>\n",
       "    <tr style=\"text-align: right;\">\n",
       "      <th></th>\n",
       "      <th>Campaign_ID</th>\n",
       "      <th>Spend</th>\n",
       "      <th>Impressions</th>\n",
       "      <th>Clicks</th>\n",
       "      <th>Conversions</th>\n",
       "      <th>Campaign_Type</th>\n",
       "      <th>Region</th>\n",
       "      <th>Device_Type</th>\n",
       "      <th>Month</th>\n",
       "      <th>Conversion_Rate</th>\n",
       "      <th>CPC</th>\n",
       "      <th>CPM</th>\n",
       "      <th>CPA</th>\n",
       "      <th>Revenue</th>\n",
       "      <th>ROI</th>\n",
       "    </tr>\n",
       "  </thead>\n",
       "  <tbody>\n",
       "    <tr>\n",
       "      <th>100</th>\n",
       "      <td>2208</td>\n",
       "      <td>4305.874216</td>\n",
       "      <td>35096.0</td>\n",
       "      <td>4040.0</td>\n",
       "      <td>200.0</td>\n",
       "      <td>Google Search</td>\n",
       "      <td>Canada</td>\n",
       "      <td>Tablet</td>\n",
       "      <td>9</td>\n",
       "      <td>0.049505</td>\n",
       "      <td>1.065810</td>\n",
       "      <td>122.688461</td>\n",
       "      <td>21.529371</td>\n",
       "      <td>26845.133143</td>\n",
       "      <td>5.234537</td>\n",
       "    </tr>\n",
       "    <tr>\n",
       "      <th>6212</th>\n",
       "      <td>9704</td>\n",
       "      <td>4020.266599</td>\n",
       "      <td>88426.0</td>\n",
       "      <td>4025.0</td>\n",
       "      <td>382.0</td>\n",
       "      <td>Email</td>\n",
       "      <td>US</td>\n",
       "      <td>Mobile</td>\n",
       "      <td>8</td>\n",
       "      <td>0.094907</td>\n",
       "      <td>0.998824</td>\n",
       "      <td>45.464757</td>\n",
       "      <td>10.524258</td>\n",
       "      <td>27277.566707</td>\n",
       "      <td>5.785014</td>\n",
       "    </tr>\n",
       "    <tr>\n",
       "      <th>16404</th>\n",
       "      <td>8872</td>\n",
       "      <td>756.476847</td>\n",
       "      <td>63570.0</td>\n",
       "      <td>3976.0</td>\n",
       "      <td>78.0</td>\n",
       "      <td>Email</td>\n",
       "      <td>India</td>\n",
       "      <td>Mobile</td>\n",
       "      <td>8</td>\n",
       "      <td>0.019618</td>\n",
       "      <td>0.190261</td>\n",
       "      <td>11.899903</td>\n",
       "      <td>9.698421</td>\n",
       "      <td>14861.414938</td>\n",
       "      <td>18.645565</td>\n",
       "    </tr>\n",
       "    <tr>\n",
       "      <th>8907</th>\n",
       "      <td>9242</td>\n",
       "      <td>3507.893450</td>\n",
       "      <td>4411.0</td>\n",
       "      <td>3291.0</td>\n",
       "      <td>362.0</td>\n",
       "      <td>Meta Ads</td>\n",
       "      <td>UK</td>\n",
       "      <td>Desktop</td>\n",
       "      <td>11</td>\n",
       "      <td>0.109997</td>\n",
       "      <td>1.065905</td>\n",
       "      <td>795.260360</td>\n",
       "      <td>9.690313</td>\n",
       "      <td>23021.042014</td>\n",
       "      <td>5.562640</td>\n",
       "    </tr>\n",
       "    <tr>\n",
       "      <th>14848</th>\n",
       "      <td>5542</td>\n",
       "      <td>3282.824433</td>\n",
       "      <td>35134.0</td>\n",
       "      <td>4686.0</td>\n",
       "      <td>386.0</td>\n",
       "      <td>Meta Ads</td>\n",
       "      <td>India</td>\n",
       "      <td>Mobile</td>\n",
       "      <td>1</td>\n",
       "      <td>0.082373</td>\n",
       "      <td>0.700560</td>\n",
       "      <td>93.437253</td>\n",
       "      <td>8.504726</td>\n",
       "      <td>52829.757758</td>\n",
       "      <td>15.092776</td>\n",
       "    </tr>\n",
       "  </tbody>\n",
       "</table>\n",
       "</div>"
      ],
      "text/plain": [
       "       Campaign_ID        Spend  Impressions  Clicks  Conversions  \\\n",
       "100           2208  4305.874216      35096.0  4040.0        200.0   \n",
       "6212          9704  4020.266599      88426.0  4025.0        382.0   \n",
       "16404         8872   756.476847      63570.0  3976.0         78.0   \n",
       "8907          9242  3507.893450       4411.0  3291.0        362.0   \n",
       "14848         5542  3282.824433      35134.0  4686.0        386.0   \n",
       "\n",
       "       Campaign_Type  Region Device_Type  Month  Conversion_Rate       CPC  \\\n",
       "100    Google Search  Canada      Tablet      9         0.049505  1.065810   \n",
       "6212           Email      US      Mobile      8         0.094907  0.998824   \n",
       "16404          Email   India      Mobile      8         0.019618  0.190261   \n",
       "8907        Meta Ads      UK     Desktop     11         0.109997  1.065905   \n",
       "14848       Meta Ads   India      Mobile      1         0.082373  0.700560   \n",
       "\n",
       "              CPM        CPA       Revenue        ROI  \n",
       "100    122.688461  21.529371  26845.133143   5.234537  \n",
       "6212    45.464757  10.524258  27277.566707   5.785014  \n",
       "16404   11.899903   9.698421  14861.414938  18.645565  \n",
       "8907   795.260360   9.690313  23021.042014   5.562640  \n",
       "14848   93.437253   8.504726  52829.757758  15.092776  "
      ]
     },
     "execution_count": 5,
     "metadata": {},
     "output_type": "execute_result"
    }
   ],
   "source": [
    "x_train.head()"
   ]
  },
  {
   "cell_type": "code",
   "execution_count": 6,
   "id": "296c8ac5-7ce5-40f3-897b-f774b310b5fd",
   "metadata": {},
   "outputs": [
    {
     "data": {
      "text/plain": [
       "100      0.115113\n",
       "6212     0.045518\n",
       "16404    0.062545\n",
       "8907     0.746089\n",
       "14848    0.133375\n",
       "Name: CTR, dtype: float64"
      ]
     },
     "execution_count": 6,
     "metadata": {},
     "output_type": "execute_result"
    }
   ],
   "source": [
    "y_train.head()"
   ]
  },
  {
   "cell_type": "markdown",
   "id": "dc08c306-880e-4448-a174-943e2f526e6c",
   "metadata": {},
   "source": [
    "## EDA(Exploratory Data Analysis)"
   ]
  },
  {
   "cell_type": "code",
   "execution_count": 7,
   "id": "4acaa53f-5369-4284-8343-be047ba49b83",
   "metadata": {},
   "outputs": [
    {
     "name": "stdout",
     "output_type": "stream",
     "text": [
      "<class 'pandas.core.frame.DataFrame'>\n",
      "Index: 12864 entries, 100 to 3515\n",
      "Data columns (total 15 columns):\n",
      " #   Column           Non-Null Count  Dtype  \n",
      "---  ------           --------------  -----  \n",
      " 0   Campaign_ID      12864 non-null  int64  \n",
      " 1   Spend            12738 non-null  float64\n",
      " 2   Impressions      12730 non-null  float64\n",
      " 3   Clicks           12732 non-null  float64\n",
      " 4   Conversions      12739 non-null  float64\n",
      " 5   Campaign_Type    12864 non-null  object \n",
      " 6   Region           12864 non-null  object \n",
      " 7   Device_Type      12864 non-null  object \n",
      " 8   Month            12864 non-null  int64  \n",
      " 9   Conversion_Rate  12864 non-null  float64\n",
      " 10  CPC              12864 non-null  float64\n",
      " 11  CPM              12864 non-null  float64\n",
      " 12  CPA              12864 non-null  float64\n",
      " 13  Revenue          12738 non-null  float64\n",
      " 14  ROI              12864 non-null  float64\n",
      "dtypes: float64(10), int64(2), object(3)\n",
      "memory usage: 1.6+ MB\n"
     ]
    }
   ],
   "source": [
    "x_train.info()"
   ]
  },
  {
   "cell_type": "code",
   "execution_count": 8,
   "id": "9eecd127-e5b9-419a-afe6-52d1118409a0",
   "metadata": {},
   "outputs": [
    {
     "data": {
      "text/plain": [
       "np.int64(50)"
      ]
     },
     "execution_count": 8,
     "metadata": {},
     "output_type": "execute_result"
    }
   ],
   "source": [
    "x_train.duplicated().sum()"
   ]
  },
  {
   "cell_type": "code",
   "execution_count": 9,
   "id": "3aed346e-7933-4e15-bce4-945b796806ec",
   "metadata": {},
   "outputs": [
    {
     "data": {
      "text/plain": [
       "Campaign_ID          0\n",
       "Spend              126\n",
       "Impressions        134\n",
       "Clicks             132\n",
       "Conversions        125\n",
       "Campaign_Type        0\n",
       "Region               0\n",
       "Device_Type          0\n",
       "Month                0\n",
       "Conversion_Rate      0\n",
       "CPC                  0\n",
       "CPM                  0\n",
       "CPA                  0\n",
       "Revenue            126\n",
       "ROI                  0\n",
       "dtype: int64"
      ]
     },
     "execution_count": 9,
     "metadata": {},
     "output_type": "execute_result"
    }
   ],
   "source": [
    "x_train.isna().sum()"
   ]
  },
  {
   "cell_type": "code",
   "execution_count": 10,
   "id": "845e831d-8c9e-4486-8e6c-d7c9c91a4da8",
   "metadata": {},
   "outputs": [],
   "source": [
    "#if data contain nan value then fill with KNN imputer\n",
    "\n",
    "col_names = [\"Spend\", \"Impressions\", \"Clicks\", \"Conversions\", \"Revenue\"]\n",
    "imputer = KNNImputer(n_neighbors=5)\n",
    "x_train[col_names] = imputer.fit_transform(x_train[col_names])"
   ]
  },
  {
   "cell_type": "code",
   "execution_count": 11,
   "id": "69b0037c-5814-4a4e-9634-78c82497dea7",
   "metadata": {},
   "outputs": [
    {
     "data": {
      "text/plain": [
       "Campaign_ID        0\n",
       "Spend              0\n",
       "Impressions        0\n",
       "Clicks             0\n",
       "Conversions        0\n",
       "Campaign_Type      0\n",
       "Region             0\n",
       "Device_Type        0\n",
       "Month              0\n",
       "Conversion_Rate    0\n",
       "CPC                0\n",
       "CPM                0\n",
       "CPA                0\n",
       "Revenue            0\n",
       "ROI                0\n",
       "dtype: int64"
      ]
     },
     "execution_count": 11,
     "metadata": {},
     "output_type": "execute_result"
    }
   ],
   "source": [
    "x_train.isna().sum()"
   ]
  },
  {
   "cell_type": "code",
   "execution_count": 12,
   "id": "31b27005-0a6b-4c8e-82a3-c725f7b92be3",
   "metadata": {},
   "outputs": [
    {
     "name": "stdout",
     "output_type": "stream",
     "text": [
      "<class 'pandas.core.frame.DataFrame'>\n",
      "Index: 3216 entries, 10316 to 19182\n",
      "Data columns (total 15 columns):\n",
      " #   Column           Non-Null Count  Dtype  \n",
      "---  ------           --------------  -----  \n",
      " 0   Campaign_ID      3216 non-null   int64  \n",
      " 1   Spend            3175 non-null   float64\n",
      " 2   Impressions      3185 non-null   float64\n",
      " 3   Clicks           3180 non-null   float64\n",
      " 4   Conversions      3181 non-null   float64\n",
      " 5   Campaign_Type    3216 non-null   object \n",
      " 6   Region           3216 non-null   object \n",
      " 7   Device_Type      3216 non-null   object \n",
      " 8   Month            3216 non-null   int64  \n",
      " 9   Conversion_Rate  3216 non-null   float64\n",
      " 10  CPC              3216 non-null   float64\n",
      " 11  CPM              3216 non-null   float64\n",
      " 12  CPA              3216 non-null   float64\n",
      " 13  Revenue          3184 non-null   float64\n",
      " 14  ROI              3216 non-null   float64\n",
      "dtypes: float64(10), int64(2), object(3)\n",
      "memory usage: 402.0+ KB\n"
     ]
    }
   ],
   "source": [
    "x_test.info()"
   ]
  },
  {
   "cell_type": "code",
   "execution_count": 13,
   "id": "d06eef6b-fd81-4454-bde9-7a53d959d73b",
   "metadata": {},
   "outputs": [
    {
     "data": {
      "text/plain": [
       "Campaign_ID         0\n",
       "Spend              41\n",
       "Impressions        31\n",
       "Clicks             36\n",
       "Conversions        35\n",
       "Campaign_Type       0\n",
       "Region              0\n",
       "Device_Type         0\n",
       "Month               0\n",
       "Conversion_Rate     0\n",
       "CPC                 0\n",
       "CPM                 0\n",
       "CPA                 0\n",
       "Revenue            32\n",
       "ROI                 0\n",
       "dtype: int64"
      ]
     },
     "execution_count": 13,
     "metadata": {},
     "output_type": "execute_result"
    }
   ],
   "source": [
    "x_test.isna().sum()"
   ]
  },
  {
   "cell_type": "code",
   "execution_count": 14,
   "id": "ad16b1f1-7671-4e2f-a42d-790e74da3f05",
   "metadata": {},
   "outputs": [],
   "source": [
    "col_names = [\"Spend\", \"Impressions\", \"Clicks\", \"Conversions\", \"Revenue\"]\n",
    "imputer = KNNImputer(n_neighbors= 5)\n",
    "x_test[col_names] = imputer.fit_transform(x_test[col_names])"
   ]
  },
  {
   "cell_type": "code",
   "execution_count": 15,
   "id": "607617ba-918a-4697-8c12-6e74b10d3f79",
   "metadata": {},
   "outputs": [
    {
     "data": {
      "text/plain": [
       "Campaign_ID        0\n",
       "Spend              0\n",
       "Impressions        0\n",
       "Clicks             0\n",
       "Conversions        0\n",
       "Campaign_Type      0\n",
       "Region             0\n",
       "Device_Type        0\n",
       "Month              0\n",
       "Conversion_Rate    0\n",
       "CPC                0\n",
       "CPM                0\n",
       "CPA                0\n",
       "Revenue            0\n",
       "ROI                0\n",
       "dtype: int64"
      ]
     },
     "execution_count": 15,
     "metadata": {},
     "output_type": "execute_result"
    }
   ],
   "source": [
    "x_test.isna().sum()"
   ]
  },
  {
   "cell_type": "markdown",
   "id": "9873094b-67d6-4dcc-b3d9-86423d5281a8",
   "metadata": {},
   "source": [
    "### 1. Campaign_ID"
   ]
  },
  {
   "cell_type": "code",
   "execution_count": 16,
   "id": "6c63c864-f72f-4f8f-944f-af8bea5c7596",
   "metadata": {},
   "outputs": [],
   "source": [
    "x_train.drop(columns = [\"Campaign_ID\"], inplace = True)"
   ]
  },
  {
   "cell_type": "code",
   "execution_count": 17,
   "id": "40746656-ac46-407a-b296-4f8bc9dea556",
   "metadata": {},
   "outputs": [
    {
     "data": {
      "text/plain": [
       "Index(['Spend', 'Impressions', 'Clicks', 'Conversions', 'Campaign_Type',\n",
       "       'Region', 'Device_Type', 'Month', 'Conversion_Rate', 'CPC', 'CPM',\n",
       "       'CPA', 'Revenue', 'ROI'],\n",
       "      dtype='object')"
      ]
     },
     "execution_count": 17,
     "metadata": {},
     "output_type": "execute_result"
    }
   ],
   "source": [
    "x_train.columns"
   ]
  },
  {
   "cell_type": "code",
   "execution_count": 18,
   "id": "1aff7c02-3ac9-437a-8949-068fac4517e0",
   "metadata": {},
   "outputs": [],
   "source": [
    "x_test.drop(columns=[\"Campaign_ID\"], inplace = True)"
   ]
  },
  {
   "cell_type": "markdown",
   "id": "792448fc-1103-4f6a-a474-3e8cd0c4ff99",
   "metadata": {},
   "source": [
    "### 2. Spend"
   ]
  },
  {
   "cell_type": "code",
   "execution_count": 19,
   "id": "fe07acfa-5bee-402e-a116-bef74a362bdb",
   "metadata": {},
   "outputs": [
    {
     "name": "stdout",
     "output_type": "stream",
     "text": [
      "<class 'pandas.core.series.Series'>\n",
      "Index: 12864 entries, 100 to 3515\n",
      "Series name: Spend\n",
      "Non-Null Count  Dtype  \n",
      "--------------  -----  \n",
      "12864 non-null  float64\n",
      "dtypes: float64(1)\n",
      "memory usage: 201.0 KB\n"
     ]
    }
   ],
   "source": [
    "x_train['Spend'].info()"
   ]
  },
  {
   "cell_type": "code",
   "execution_count": 20,
   "id": "aecd25a0-cf31-416e-99d9-0e4fe30db53b",
   "metadata": {},
   "outputs": [
    {
     "data": {
      "text/plain": [
       "np.int64(50)"
      ]
     },
     "execution_count": 20,
     "metadata": {},
     "output_type": "execute_result"
    }
   ],
   "source": [
    "x_train['Spend'].duplicated().sum()"
   ]
  },
  {
   "cell_type": "code",
   "execution_count": 21,
   "id": "51c87aa8-bf81-475e-a1c3-46e50906bbc0",
   "metadata": {},
   "outputs": [
    {
     "data": {
      "text/plain": [
       "<Axes: ylabel='Spend'>"
      ]
     },
     "execution_count": 21,
     "metadata": {},
     "output_type": "execute_result"
    },
    {
     "data": {
      "image/png": "[encoded data removed]",
      "text/plain": [
       "<Figure size 640x480 with 1 Axes>"
      ]
     },
     "metadata": {},
     "output_type": "display_data"
    }
   ],
   "source": [
    "sns.boxplot(x_train['Spend'])"
   ]
  },
  {
   "cell_type": "code",
   "execution_count": 22,
   "id": "776f80f6-1faf-4f4d-bb45-576e8bbb282b",
   "metadata": {},
   "outputs": [],
   "source": [
    "def impute_outliers(feature):\n",
    "    q1 = feature.quantile(0.25)\n",
    "    q3 = feature.quantile(0.75)\n",
    "    iqr = q3-q1\n",
    "\n",
    "    upper_tail = q3 + 1.5 * iqr\n",
    "    lower_tail = q1 - 1.5 * iqr\n",
    "\n",
    "    feature = feature.clip(lower = lower_tail, upper = upper_tail)\n",
    "    return feature\n",
    "\n",
    "x_train[\"Spend\"] = impute_outliers(x_train[\"Spend\"])"
   ]
  },
  {
   "cell_type": "code",
   "execution_count": 23,
   "id": "4f44af3a-2ca3-4db7-8425-23d9fd9854fd",
   "metadata": {},
   "outputs": [
    {
     "data": {
      "text/plain": [
       "<Axes: ylabel='Spend'>"
      ]
     },
     "execution_count": 23,
     "metadata": {},
     "output_type": "execute_result"
    },
    {
     "data": {
      "image/png": "[encoded data removed]",
      "text/plain": [
       "<Figure size 640x480 with 1 Axes>"
      ]
     },
     "metadata": {},
     "output_type": "display_data"
    }
   ],
   "source": [
    "sns.boxplot(x_train[\"Spend\"])"
   ]
  },
  {
   "cell_type": "code",
   "execution_count": 24,
   "id": "245f1584-c487-413f-92fc-485429d9b252",
   "metadata": {},
   "outputs": [
    {
     "data": {
      "text/plain": [
       "<Axes: xlabel='Spend', ylabel='Density'>"
      ]
     },
     "execution_count": 24,
     "metadata": {},
     "output_type": "execute_result"
    },
    {
     "data": {
      "image/png": "[encoded data removed]",
      "text/plain": [
       "<Figure size 640x480 with 1 Axes>"
      ]
     },
     "metadata": {},
     "output_type": "display_data"
    }
   ],
   "source": [
    "sns.kdeplot(x_train[\"Spend\"])"
   ]
  },
  {
   "cell_type": "code",
   "execution_count": 25,
   "id": "e67afaff-9dd8-4d93-99f1-141e777413e7",
   "metadata": {},
   "outputs": [
    {
     "data": {
      "text/plain": [
       "10316    4811.564242\n",
       "3460     3307.159118\n",
       "10048    1324.350580\n",
       "2975      747.836462\n",
       "612      4542.677192\n",
       "            ...     \n",
       "7192     4817.564916\n",
       "9505     4582.726534\n",
       "11109    4073.020635\n",
       "15856    4564.317145\n",
       "19182    3328.618852\n",
       "Name: Spend, Length: 3216, dtype: float64"
      ]
     },
     "execution_count": 25,
     "metadata": {},
     "output_type": "execute_result"
    }
   ],
   "source": [
    "x_test[\"Spend\"]"
   ]
  },
  {
   "cell_type": "code",
   "execution_count": 26,
   "id": "62830b85-b7c1-4875-914c-b3b7f044a609",
   "metadata": {},
   "outputs": [
    {
     "data": {
      "text/plain": [
       "<Axes: ylabel='Spend'>"
      ]
     },
     "execution_count": 26,
     "metadata": {},
     "output_type": "execute_result"
    },
    {
     "data": {
      "image/png": "[encoded data removed]",
      "text/plain": [
       "<Figure size 640x480 with 1 Axes>"
      ]
     },
     "metadata": {},
     "output_type": "display_data"
    }
   ],
   "source": [
    "sns.boxplot(x_test[\"Spend\"])"
   ]
  },
  {
   "cell_type": "code",
   "execution_count": 27,
   "id": "54486999-468d-476c-9cad-79c37904aae6",
   "metadata": {},
   "outputs": [
    {
     "data": {
      "text/plain": [
       "<Axes: xlabel='Spend', ylabel='Density'>"
      ]
     },
     "execution_count": 27,
     "metadata": {},
     "output_type": "execute_result"
    },
    {
     "data": {
      "image/png": "[encoded data removed]",
      "text/plain": [
       "<Figure size 640x480 with 1 Axes>"
      ]
     },
     "metadata": {},
     "output_type": "display_data"
    }
   ],
   "source": [
    "sns.kdeplot(x_test[\"Spend\"])"
   ]
  },
  {
   "cell_type": "code",
   "execution_count": 28,
   "id": "a0ceeb5a-03da-40da-8872-1ba27112d1e9",
   "metadata": {},
   "outputs": [],
   "source": [
    "x_test[\"Spend\"] = impute_outliers(x_test[\"Spend\"])"
   ]
  },
  {
   "cell_type": "code",
   "execution_count": 29,
   "id": "788e383f-59ed-4823-9d4d-1fdadc75fb53",
   "metadata": {},
   "outputs": [
    {
     "data": {
      "text/plain": [
       "<Axes: ylabel='Spend'>"
      ]
     },
     "execution_count": 29,
     "metadata": {},
     "output_type": "execute_result"
    },
    {
     "data": {
      "image/png": "[encoded data removed]",
      "text/plain": [
       "<Figure size 640x480 with 1 Axes>"
      ]
     },
     "metadata": {},
     "output_type": "display_data"
    }
   ],
   "source": [
    "sns.boxplot(x_test[\"Spend\"])"
   ]
  },
  {
   "cell_type": "markdown",
   "id": "20cf07fc-434b-4ba6-be29-205d1dd1ed6f",
   "metadata": {},
   "source": [
    "### 3. Impressions"
   ]
  },
  {
   "cell_type": "code",
   "execution_count": 30,
   "id": "6f01f53f-6a3e-4b1f-9343-940626d1963c",
   "metadata": {},
   "outputs": [
    {
     "data": {
      "text/plain": [
       "100      35096.0\n",
       "6212     88426.0\n",
       "16404    63570.0\n",
       "8907      4411.0\n",
       "14848    35134.0\n",
       "          ...   \n",
       "7718     88178.0\n",
       "19828    21398.0\n",
       "19234    35073.0\n",
       "3444     18013.0\n",
       "3515     13631.0\n",
       "Name: Impressions, Length: 12864, dtype: float64"
      ]
     },
     "execution_count": 30,
     "metadata": {},
     "output_type": "execute_result"
    }
   ],
   "source": [
    "x_train['Impressions']"
   ]
  },
  {
   "cell_type": "code",
   "execution_count": 31,
   "id": "466c2828-947a-4fd2-aa07-f6920e7d9b58",
   "metadata": {},
   "outputs": [
    {
     "data": {
      "text/plain": [
       "<Axes: ylabel='Impressions'>"
      ]
     },
     "execution_count": 31,
     "metadata": {},
     "output_type": "execute_result"
    },
    {
     "data": {
      "image/png": "[encoded data removed]",
      "text/plain": [
       "<Figure size 640x480 with 1 Axes>"
      ]
     },
     "metadata": {},
     "output_type": "display_data"
    }
   ],
   "source": [
    "sns.boxplot(x_train['Impressions'])"
   ]
  },
  {
   "cell_type": "code",
   "execution_count": 32,
   "id": "a64d616b-5491-4e02-b14c-36f827ccdec3",
   "metadata": {},
   "outputs": [
    {
     "data": {
      "text/plain": [
       "<Axes: ylabel='Impressions'>"
      ]
     },
     "execution_count": 32,
     "metadata": {},
     "output_type": "execute_result"
    },
    {
     "data": {
      "image/png": "[encoded data removed]",
      "text/plain": [
       "<Figure size 640x480 with 1 Axes>"
      ]
     },
     "metadata": {},
     "output_type": "display_data"
    }
   ],
   "source": [
    "sns.boxplot(x_test['Impressions'])"
   ]
  },
  {
   "cell_type": "markdown",
   "id": "2706833c-9c0e-4c02-882f-45cfcf7a390e",
   "metadata": {},
   "source": [
    "### 4. Clicks"
   ]
  },
  {
   "cell_type": "code",
   "execution_count": 33,
   "id": "a3001395-718d-4187-b56e-f868dbaceee1",
   "metadata": {},
   "outputs": [
    {
     "data": {
      "text/plain": [
       "100      4040.0\n",
       "6212     4025.0\n",
       "16404    3976.0\n",
       "8907     3291.0\n",
       "14848    4686.0\n",
       "          ...  \n",
       "7718     3505.0\n",
       "19828    1359.0\n",
       "19234    2497.0\n",
       "3444     1144.0\n",
       "3515     1185.0\n",
       "Name: Clicks, Length: 12864, dtype: float64"
      ]
     },
     "execution_count": 33,
     "metadata": {},
     "output_type": "execute_result"
    }
   ],
   "source": [
    "x_train[\"Clicks\"]"
   ]
  },
  {
   "cell_type": "code",
   "execution_count": 34,
   "id": "3b19e3ba-4157-4236-bf86-072cbb70f4b9",
   "metadata": {},
   "outputs": [
    {
     "data": {
      "text/plain": [
       "<Axes: ylabel='Clicks'>"
      ]
     },
     "execution_count": 34,
     "metadata": {},
     "output_type": "execute_result"
    },
    {
     "data": {
      "image/png": "[encoded data removed]",
      "text/plain": [
       "<Figure size 640x480 with 1 Axes>"
      ]
     },
     "metadata": {},
     "output_type": "display_data"
    }
   ],
   "source": [
    "sns.boxplot(x_train[\"Clicks\"])"
   ]
  },
  {
   "cell_type": "code",
   "execution_count": 35,
   "id": "14001dc4-613b-481d-8262-5af1e1bd53fd",
   "metadata": {},
   "outputs": [
    {
     "data": {
      "text/plain": [
       "<Axes: xlabel='Clicks', ylabel='Density'>"
      ]
     },
     "execution_count": 35,
     "metadata": {},
     "output_type": "execute_result"
    },
    {
     "data": {
      "image/png": "[encoded data removed]",
      "text/plain": [
       "<Figure size 640x480 with 1 Axes>"
      ]
     },
     "metadata": {},
     "output_type": "display_data"
    }
   ],
   "source": [
    "sns.kdeplot(x_train[\"Clicks\"])"
   ]
  },
  {
   "cell_type": "markdown",
   "id": "cde8ddde-cfe5-4d08-a3dc-88aa8272efab",
   "metadata": {},
   "source": [
    "### 5. Conversions"
   ]
  },
  {
   "cell_type": "code",
   "execution_count": 36,
   "id": "27b2b4ba-c74a-4b20-989d-8ca311c6ce6d",
   "metadata": {},
   "outputs": [
    {
     "data": {
      "text/plain": [
       "100      200.0\n",
       "6212     382.0\n",
       "16404     78.0\n",
       "8907     362.0\n",
       "14848    386.0\n",
       "         ...  \n",
       "7718      53.0\n",
       "19828     55.0\n",
       "19234    149.0\n",
       "3444     279.0\n",
       "3515     127.0\n",
       "Name: Conversions, Length: 12864, dtype: float64"
      ]
     },
     "execution_count": 36,
     "metadata": {},
     "output_type": "execute_result"
    }
   ],
   "source": [
    "x_train['Conversions']"
   ]
  },
  {
   "cell_type": "code",
   "execution_count": 37,
   "id": "af2fc6c3-4443-4513-9097-d0be7e273e16",
   "metadata": {},
   "outputs": [
    {
     "data": {
      "text/plain": [
       "<Axes: xlabel='Conversions', ylabel='Density'>"
      ]
     },
     "execution_count": 37,
     "metadata": {},
     "output_type": "execute_result"
    },
    {
     "data": {
      "image/png": "[encoded data removed]",
      "text/plain": [
       "<Figure size 640x480 with 1 Axes>"
      ]
     },
     "metadata": {},
     "output_type": "display_data"
    }
   ],
   "source": [
    "sns.kdeplot(x_train['Conversions'])"
   ]
  },
  {
   "cell_type": "code",
   "execution_count": 38,
   "id": "cbccc1e5-c4b8-4937-8317-7db915274369",
   "metadata": {},
   "outputs": [
    {
     "data": {
      "text/plain": [
       "<Axes: ylabel='Conversions'>"
      ]
     },
     "execution_count": 38,
     "metadata": {},
     "output_type": "execute_result"
    },
    {
     "data": {
      "image/png": "[encoded data removed]",
      "text/plain": [
       "<Figure size 640x480 with 1 Axes>"
      ]
     },
     "metadata": {},
     "output_type": "display_data"
    }
   ],
   "source": [
    "sns.boxplot(x_train['Conversions'])"
   ]
  },
  {
   "cell_type": "markdown",
   "id": "d3b55626-4a58-40cb-b3e9-88f67bc549bc",
   "metadata": {},
   "source": [
    "### 6. Campaign_Type"
   ]
  },
  {
   "cell_type": "code",
   "execution_count": 39,
   "id": "c40695d0-6751-4e1e-a612-a25e31a70a3f",
   "metadata": {},
   "outputs": [
    {
     "data": {
      "text/plain": [
       "100      Google Search\n",
       "6212             Email\n",
       "16404            Email\n",
       "8907          Meta Ads\n",
       "14848         Meta Ads\n",
       "             ...      \n",
       "7718     Google Search\n",
       "19828         Meta Ads\n",
       "19234    Google Search\n",
       "3444          Meta Ads\n",
       "3515          LinkedIn\n",
       "Name: Campaign_Type, Length: 12864, dtype: object"
      ]
     },
     "execution_count": 39,
     "metadata": {},
     "output_type": "execute_result"
    }
   ],
   "source": [
    "x_train['Campaign_Type']"
   ]
  },
  {
   "cell_type": "code",
   "execution_count": 40,
   "id": "bb04a1f5-90eb-4c48-8969-7c7d1c9a1791",
   "metadata": {},
   "outputs": [
    {
     "data": {
      "text/plain": [
       "Campaign_Type\n",
       "Google Search    2625\n",
       "Display          2620\n",
       "Meta Ads         2574\n",
       "LinkedIn         2570\n",
       "Email            2475\n",
       "Name: count, dtype: int64"
      ]
     },
     "execution_count": 40,
     "metadata": {},
     "output_type": "execute_result"
    }
   ],
   "source": [
    "x_train['Campaign_Type'].value_counts()"
   ]
  },
  {
   "cell_type": "code",
   "execution_count": 41,
   "id": "32ea92f5-fba1-4960-bc9c-ee47232d0282",
   "metadata": {},
   "outputs": [],
   "source": [
    "#converting it by using Frequency / Count Encoding\n",
    "\n",
    "x_train['Campaign_Type'] = x_train['Campaign_Type'].map({\n",
    "    \"Google Search\" : 1,\n",
    "    \"Display\" : 2,\n",
    "    \"Meta Ads\" : 3,\n",
    "    \"LinkedIn\" : 4,\n",
    "    \"Email\": 5\n",
    "    \n",
    "})"
   ]
  },
  {
   "cell_type": "code",
   "execution_count": 42,
   "id": "2227f238-a5fe-4c92-a4d1-53787f387b8f",
   "metadata": {},
   "outputs": [
    {
     "data": {
      "text/plain": [
       "Campaign_Type\n",
       "1    2625\n",
       "2    2620\n",
       "3    2574\n",
       "4    2570\n",
       "5    2475\n",
       "Name: count, dtype: int64"
      ]
     },
     "execution_count": 42,
     "metadata": {},
     "output_type": "execute_result"
    }
   ],
   "source": [
    "x_train['Campaign_Type'].value_counts()"
   ]
  },
  {
   "cell_type": "code",
   "execution_count": 43,
   "id": "53a6c188-4636-4f40-9a18-4887b1a0d4d7",
   "metadata": {},
   "outputs": [],
   "source": [
    "x_test['Campaign_Type'] = x_test['Campaign_Type'].map({\n",
    "    \"Google Search\" : 1,\n",
    "    \"Display\" : 2,\n",
    "    \"Meta Ads\" : 3,\n",
    "    \"LinkedIn\" : 4,\n",
    "    \"Email\": 5\n",
    "    \n",
    "})"
   ]
  },
  {
   "cell_type": "code",
   "execution_count": 44,
   "id": "375b00ee-c866-45b2-aa7f-11490f1f307c",
   "metadata": {},
   "outputs": [
    {
     "data": {
      "text/plain": [
       "Campaign_Type\n",
       "1    661\n",
       "5    653\n",
       "3    644\n",
       "4    634\n",
       "2    624\n",
       "Name: count, dtype: int64"
      ]
     },
     "execution_count": 44,
     "metadata": {},
     "output_type": "execute_result"
    }
   ],
   "source": [
    "x_test['Campaign_Type'].value_counts()"
   ]
  },
  {
   "cell_type": "markdown",
   "id": "365e82e8-f345-4851-bd43-a5357805fca3",
   "metadata": {},
   "source": [
    "### 7. Device_Type"
   ]
  },
  {
   "cell_type": "code",
   "execution_count": 45,
   "id": "5ff7ceb4-255d-464c-8bd4-238779725f62",
   "metadata": {},
   "outputs": [
    {
     "data": {
      "text/plain": [
       "100       Tablet\n",
       "6212      Mobile\n",
       "16404     Mobile\n",
       "8907     Desktop\n",
       "14848     Mobile\n",
       "          ...   \n",
       "7718      Mobile\n",
       "19828    Desktop\n",
       "19234     Tablet\n",
       "3444      Mobile\n",
       "3515      Mobile\n",
       "Name: Device_Type, Length: 12864, dtype: object"
      ]
     },
     "execution_count": 45,
     "metadata": {},
     "output_type": "execute_result"
    }
   ],
   "source": [
    "x_train['Device_Type']"
   ]
  },
  {
   "cell_type": "code",
   "execution_count": 46,
   "id": "60da116a-7fbd-4ea4-834a-d1a06d3a8cbd",
   "metadata": {},
   "outputs": [
    {
     "data": {
      "text/plain": [
       "Device_Type\n",
       "Mobile     4350\n",
       "Desktop    4269\n",
       "Tablet     4245\n",
       "Name: count, dtype: int64"
      ]
     },
     "execution_count": 46,
     "metadata": {},
     "output_type": "execute_result"
    }
   ],
   "source": [
    "x_train['Device_Type'].value_counts()"
   ]
  },
  {
   "cell_type": "code",
   "execution_count": 47,
   "id": "58e58c0c-27ba-411d-abac-dea8bc2a270f",
   "metadata": {},
   "outputs": [],
   "source": [
    "x_train['Device_Type'] = x_train['Device_Type'].map({\n",
    "    \"Mobile\" : 1,\n",
    "    \"Desktop\" : 2,\n",
    "    \"Tablet\" : 3\n",
    "})"
   ]
  },
  {
   "cell_type": "code",
   "execution_count": 48,
   "id": "47663b3f-473f-44b1-9ccd-f714e6beb336",
   "metadata": {},
   "outputs": [
    {
     "data": {
      "text/plain": [
       "Device_Type\n",
       "1    4350\n",
       "2    4269\n",
       "3    4245\n",
       "Name: count, dtype: int64"
      ]
     },
     "execution_count": 48,
     "metadata": {},
     "output_type": "execute_result"
    }
   ],
   "source": [
    "x_train['Device_Type'].value_counts()"
   ]
  },
  {
   "cell_type": "code",
   "execution_count": 49,
   "id": "5004d80e-659c-40c2-8c22-f2d815f7f2d4",
   "metadata": {},
   "outputs": [],
   "source": [
    "x_test['Device_Type'] = x_test['Device_Type'].map({\n",
    "    \"Mobile\" : 1,\n",
    "    \"Desktop\" : 2,\n",
    "    \"Tablet\" : 3\n",
    "})"
   ]
  },
  {
   "cell_type": "code",
   "execution_count": 50,
   "id": "a89c8fef-0ef2-451b-be3b-b7f0c3f17919",
   "metadata": {},
   "outputs": [
    {
     "data": {
      "text/plain": [
       "Device_Type\n",
       "3    1104\n",
       "2    1087\n",
       "1    1025\n",
       "Name: count, dtype: int64"
      ]
     },
     "execution_count": 50,
     "metadata": {},
     "output_type": "execute_result"
    }
   ],
   "source": [
    "x_test['Device_Type'].value_counts()"
   ]
  },
  {
   "cell_type": "markdown",
   "id": "01f11592-d24a-44d5-bf0d-ac97c2f0f288",
   "metadata": {},
   "source": [
    "### 8. Month"
   ]
  },
  {
   "cell_type": "code",
   "execution_count": 51,
   "id": "85072395-7d7a-4f47-8836-e2ce75b4003b",
   "metadata": {},
   "outputs": [
    {
     "data": {
      "text/plain": [
       "100       9\n",
       "6212      8\n",
       "16404     8\n",
       "8907     11\n",
       "14848     1\n",
       "         ..\n",
       "7718      5\n",
       "19828     6\n",
       "19234     2\n",
       "3444     11\n",
       "3515     12\n",
       "Name: Month, Length: 12864, dtype: int64"
      ]
     },
     "execution_count": 51,
     "metadata": {},
     "output_type": "execute_result"
    }
   ],
   "source": [
    "x_train['Month']"
   ]
  },
  {
   "cell_type": "code",
   "execution_count": 52,
   "id": "6c1b8b4d-3772-4fa6-9cc7-0c976fbb238f",
   "metadata": {},
   "outputs": [
    {
     "data": {
      "text/plain": [
       "Month\n",
       "10    1124\n",
       "8     1107\n",
       "5     1090\n",
       "2     1085\n",
       "12    1075\n",
       "11    1073\n",
       "4     1070\n",
       "1     1068\n",
       "7     1062\n",
       "6     1059\n",
       "9     1040\n",
       "3     1011\n",
       "Name: count, dtype: int64"
      ]
     },
     "execution_count": 52,
     "metadata": {},
     "output_type": "execute_result"
    }
   ],
   "source": [
    "x_train['Month'].value_counts()"
   ]
  },
  {
   "cell_type": "markdown",
   "id": "136d7aec-cda9-4b27-8b67-cd44ffb52575",
   "metadata": {},
   "source": [
    "### 9. ROI"
   ]
  },
  {
   "cell_type": "code",
   "execution_count": 53,
   "id": "19cf1cda-ed1c-4c04-a98f-310e84611970",
   "metadata": {},
   "outputs": [
    {
     "data": {
      "text/plain": [
       "100       5.234537\n",
       "6212      5.785014\n",
       "16404    18.645565\n",
       "8907      5.562640\n",
       "14848    15.092776\n",
       "           ...    \n",
       "7718     11.926882\n",
       "19828    -0.236552\n",
       "19234     2.237161\n",
       "3444      8.798104\n",
       "3515      0.968928\n",
       "Name: ROI, Length: 12864, dtype: float64"
      ]
     },
     "execution_count": 53,
     "metadata": {},
     "output_type": "execute_result"
    }
   ],
   "source": [
    "x_train['ROI']"
   ]
  },
  {
   "cell_type": "code",
   "execution_count": 54,
   "id": "1c5ecd94-bc23-4b8d-aa2c-b1772b449829",
   "metadata": {},
   "outputs": [
    {
     "data": {
      "text/plain": [
       "<Axes: ylabel='ROI'>"
      ]
     },
     "execution_count": 54,
     "metadata": {},
     "output_type": "execute_result"
    },
    {
     "data": {
      "image/png": "[encoded data removed]",
      "text/plain": [
       "<Figure size 640x480 with 1 Axes>"
      ]
     },
     "metadata": {},
     "output_type": "display_data"
    }
   ],
   "source": [
    "sns.boxplot(x_train['ROI'])"
   ]
  },
  {
   "cell_type": "code",
   "execution_count": 55,
   "id": "d54fae17-10a0-443c-b988-05e888970f6b",
   "metadata": {},
   "outputs": [],
   "source": [
    "x_train['ROI'] = impute_outliers(x_train['ROI'])"
   ]
  },
  {
   "cell_type": "code",
   "execution_count": 56,
   "id": "ddebe9cf-2773-48b5-8cca-b3879f3948c1",
   "metadata": {},
   "outputs": [
    {
     "data": {
      "text/plain": [
       "<Axes: ylabel='ROI'>"
      ]
     },
     "execution_count": 56,
     "metadata": {},
     "output_type": "execute_result"
    },
    {
     "data": {
      "image/png": "[encoded data removed]",
      "text/plain": [
       "<Figure size 640x480 with 1 Axes>"
      ]
     },
     "metadata": {},
     "output_type": "display_data"
    }
   ],
   "source": [
    "sns.boxplot(x_train['ROI'])"
   ]
  },
  {
   "cell_type": "code",
   "execution_count": 57,
   "id": "db809b16-d540-4a3c-b831-9e0789a6600c",
   "metadata": {},
   "outputs": [
    {
     "data": {
      "text/plain": [
       "10316    12.685827\n",
       "3460     12.785443\n",
       "10048     1.253722\n",
       "2975     60.134157\n",
       "612       3.613756\n",
       "           ...    \n",
       "7192      3.358717\n",
       "9505      9.027216\n",
       "11109     7.931371\n",
       "15856    10.947409\n",
       "19182     9.248479\n",
       "Name: ROI, Length: 3216, dtype: float64"
      ]
     },
     "execution_count": 57,
     "metadata": {},
     "output_type": "execute_result"
    }
   ],
   "source": [
    "x_test[\"ROI\"]"
   ]
  },
  {
   "cell_type": "code",
   "execution_count": 58,
   "id": "7d1328a3-1d57-4ec8-9b6d-1e1b01bd7fe2",
   "metadata": {},
   "outputs": [
    {
     "data": {
      "text/plain": [
       "<Axes: ylabel='ROI'>"
      ]
     },
     "execution_count": 58,
     "metadata": {},
     "output_type": "execute_result"
    },
    {
     "data": {
      "image/png": "[encoded data removed]",
      "text/plain": [
       "<Figure size 640x480 with 1 Axes>"
      ]
     },
     "metadata": {},
     "output_type": "display_data"
    }
   ],
   "source": [
    "sns.boxplot(x_test[\"ROI\"])"
   ]
  },
  {
   "cell_type": "code",
   "execution_count": 59,
   "id": "c7e9c051-af14-4a21-9869-5dd708d3bf50",
   "metadata": {},
   "outputs": [],
   "source": [
    "x_test[\"ROI\"] = impute_outliers(x_test[\"ROI\"])"
   ]
  },
  {
   "cell_type": "code",
   "execution_count": 60,
   "id": "384de435-0b44-4e5c-ba33-bd762bd5fc6d",
   "metadata": {},
   "outputs": [
    {
     "data": {
      "text/plain": [
       "<Axes: ylabel='ROI'>"
      ]
     },
     "execution_count": 60,
     "metadata": {},
     "output_type": "execute_result"
    },
    {
     "data": {
      "image/png": "[encoded data removed]",
      "text/plain": [
       "<Figure size 640x480 with 1 Axes>"
      ]
     },
     "metadata": {},
     "output_type": "display_data"
    }
   ],
   "source": [
    "sns.boxplot(x_test[\"ROI\"])"
   ]
  },
  {
   "cell_type": "markdown",
   "id": "abef8c26-323f-4a51-8949-deb722f7dbcf",
   "metadata": {},
   "source": [
    "### 10. Conversion_Rate"
   ]
  },
  {
   "cell_type": "code",
   "execution_count": 61,
   "id": "39c53b61-edb4-469e-b250-3b224a9289a2",
   "metadata": {},
   "outputs": [
    {
     "data": {
      "text/plain": [
       "100      0.049505\n",
       "6212     0.094907\n",
       "16404    0.019618\n",
       "8907     0.109997\n",
       "14848    0.082373\n",
       "           ...   \n",
       "7718     0.015121\n",
       "19828    0.040471\n",
       "19234    0.059672\n",
       "3444     0.243881\n",
       "3515     0.107173\n",
       "Name: Conversion_Rate, Length: 12864, dtype: float64"
      ]
     },
     "execution_count": 61,
     "metadata": {},
     "output_type": "execute_result"
    }
   ],
   "source": [
    "x_train['Conversion_Rate']"
   ]
  },
  {
   "cell_type": "code",
   "execution_count": 62,
   "id": "8bf49e57-0863-4a46-a945-12c732b95c04",
   "metadata": {},
   "outputs": [
    {
     "data": {
      "text/plain": [
       "<Axes: xlabel='Conversion_Rate', ylabel='Density'>"
      ]
     },
     "execution_count": 62,
     "metadata": {},
     "output_type": "execute_result"
    },
    {
     "data": {
      "image/png": "[encoded data removed]",
      "text/plain": [
       "<Figure size 640x480 with 1 Axes>"
      ]
     },
     "metadata": {},
     "output_type": "display_data"
    }
   ],
   "source": [
    "sns.kdeplot(x_train['Conversion_Rate'])"
   ]
  },
  {
   "cell_type": "code",
   "execution_count": 63,
   "id": "267b7ad0-0f2a-47c7-96c1-94096e7019ae",
   "metadata": {},
   "outputs": [],
   "source": [
    "x_train['Conversion_Rate'] = impute_outliers(x_train['Conversion_Rate'])"
   ]
  },
  {
   "cell_type": "code",
   "execution_count": 64,
   "id": "560e24de-b287-4566-bd4b-dceb09a4b363",
   "metadata": {},
   "outputs": [
    {
     "data": {
      "text/plain": [
       "<Axes: ylabel='Conversion_Rate'>"
      ]
     },
     "execution_count": 64,
     "metadata": {},
     "output_type": "execute_result"
    },
    {
     "data": {
      "image/png": "[encoded data removed]",
      "text/plain": [
       "<Figure size 640x480 with 1 Axes>"
      ]
     },
     "metadata": {},
     "output_type": "display_data"
    }
   ],
   "source": [
    "sns.boxplot(x_train['Conversion_Rate'])"
   ]
  },
  {
   "cell_type": "code",
   "execution_count": 65,
   "id": "97d7851e-7acc-4b91-9889-191c94472e16",
   "metadata": {},
   "outputs": [
    {
     "data": {
      "text/plain": [
       "10316    0.301504\n",
       "3460     0.245556\n",
       "10048    0.022667\n",
       "2975     0.387779\n",
       "612      3.477778\n",
       "           ...   \n",
       "7192     0.314307\n",
       "9505     0.082619\n",
       "11109    0.112049\n",
       "15856    0.064701\n",
       "19182    0.332707\n",
       "Name: Conversion_Rate, Length: 3216, dtype: float64"
      ]
     },
     "execution_count": 65,
     "metadata": {},
     "output_type": "execute_result"
    }
   ],
   "source": [
    "x_test['Conversion_Rate']"
   ]
  },
  {
   "cell_type": "code",
   "execution_count": 66,
   "id": "f475c0c2-98f4-4a97-93f2-2cd3b0cb3b88",
   "metadata": {},
   "outputs": [
    {
     "data": {
      "text/plain": [
       "<Axes: ylabel='Conversion_Rate'>"
      ]
     },
     "execution_count": 66,
     "metadata": {},
     "output_type": "execute_result"
    },
    {
     "data": {
      "image/png": "[encoded data removed]",
      "text/plain": [
       "<Figure size 640x480 with 1 Axes>"
      ]
     },
     "metadata": {},
     "output_type": "display_data"
    }
   ],
   "source": [
    "sns.boxplot(x_test['Conversion_Rate'])"
   ]
  },
  {
   "cell_type": "code",
   "execution_count": 67,
   "id": "b96d2a9e-b9c2-4693-9ce4-53adc28b4f53",
   "metadata": {},
   "outputs": [],
   "source": [
    "x_test['Conversion_Rate'] = impute_outliers(x_test['Conversion_Rate'])"
   ]
  },
  {
   "cell_type": "code",
   "execution_count": 68,
   "id": "4aade2f3-4bc6-44a4-9b00-304125db2e89",
   "metadata": {},
   "outputs": [
    {
     "data": {
      "text/plain": [
       "<Axes: ylabel='Conversion_Rate'>"
      ]
     },
     "execution_count": 68,
     "metadata": {},
     "output_type": "execute_result"
    },
    {
     "data": {
      "image/png": "[encoded data removed]",
      "text/plain": [
       "<Figure size 640x480 with 1 Axes>"
      ]
     },
     "metadata": {},
     "output_type": "display_data"
    }
   ],
   "source": [
    "sns.boxplot(x_test['Conversion_Rate'])"
   ]
  },
  {
   "cell_type": "markdown",
   "id": "03e9bb11-567c-4a21-9880-66610fa02efd",
   "metadata": {},
   "source": [
    "### 11. CPC"
   ]
  },
  {
   "cell_type": "code",
   "execution_count": 69,
   "id": "199dc50b-bd32-4308-b353-749ac304b892",
   "metadata": {},
   "outputs": [
    {
     "data": {
      "text/plain": [
       "100      1.065810\n",
       "6212     0.998824\n",
       "16404    0.190261\n",
       "8907     1.065905\n",
       "14848    0.700560\n",
       "           ...   \n",
       "7718     0.100837\n",
       "19828    1.897331\n",
       "19234    1.512130\n",
       "3444     4.340496\n",
       "3515     2.181091\n",
       "Name: CPC, Length: 12864, dtype: float64"
      ]
     },
     "execution_count": 69,
     "metadata": {},
     "output_type": "execute_result"
    }
   ],
   "source": [
    "x_train[\"CPC\"]"
   ]
  },
  {
   "cell_type": "code",
   "execution_count": 70,
   "id": "1586252c-3754-45cd-b11b-b2de810ee10b",
   "metadata": {},
   "outputs": [
    {
     "data": {
      "text/plain": [
       "<Axes: ylabel='CPC'>"
      ]
     },
     "execution_count": 70,
     "metadata": {},
     "output_type": "execute_result"
    },
    {
     "data": {
      "image/png": "[encoded data removed]",
      "text/plain": [
       "<Figure size 640x480 with 1 Axes>"
      ]
     },
     "metadata": {},
     "output_type": "display_data"
    }
   ],
   "source": [
    "sns.boxplot(x_train[\"CPC\"])"
   ]
  },
  {
   "cell_type": "code",
   "execution_count": 71,
   "id": "1a39bb7d-3350-49c5-a8d2-4e26115cb34a",
   "metadata": {},
   "outputs": [],
   "source": [
    "x_train[\"CPC\"] = impute_outliers(x_train[\"CPC\"])"
   ]
  },
  {
   "cell_type": "code",
   "execution_count": 72,
   "id": "99455e4a-3148-4883-a86a-18ed7281c045",
   "metadata": {},
   "outputs": [
    {
     "data": {
      "text/plain": [
       "<Axes: ylabel='CPC'>"
      ]
     },
     "execution_count": 72,
     "metadata": {},
     "output_type": "execute_result"
    },
    {
     "data": {
      "image/png": "[encoded data removed]",
      "text/plain": [
       "<Figure size 640x480 with 1 Axes>"
      ]
     },
     "metadata": {},
     "output_type": "display_data"
    }
   ],
   "source": [
    "sns.boxplot(x_train[\"CPC\"])"
   ]
  },
  {
   "cell_type": "code",
   "execution_count": 73,
   "id": "c034517f-aaff-4b4c-9225-f54a66aad193",
   "metadata": {},
   "outputs": [
    {
     "data": {
      "text/plain": [
       "10316     3.146870\n",
       "3460      1.837311\n",
       "10048     0.270441\n",
       "2975      0.878774\n",
       "612      50.474190\n",
       "           ...    \n",
       "7192      3.666336\n",
       "9505      1.402303\n",
       "11109     0.954763\n",
       "15856     0.968247\n",
       "19182     6.256802\n",
       "Name: CPC, Length: 3216, dtype: float64"
      ]
     },
     "execution_count": 73,
     "metadata": {},
     "output_type": "execute_result"
    }
   ],
   "source": [
    "x_test['CPC']"
   ]
  },
  {
   "cell_type": "code",
   "execution_count": 74,
   "id": "8907c883-d4a7-43cc-9e8e-213ea7f27947",
   "metadata": {},
   "outputs": [
    {
     "data": {
      "text/plain": [
       "<Axes: ylabel='CPC'>"
      ]
     },
     "execution_count": 74,
     "metadata": {},
     "output_type": "execute_result"
    },
    {
     "data": {
      "image/png": "[encoded data removed]",
      "text/plain": [
       "<Figure size 640x480 with 1 Axes>"
      ]
     },
     "metadata": {},
     "output_type": "display_data"
    }
   ],
   "source": [
    "sns.boxplot(x_test['CPC'])"
   ]
  },
  {
   "cell_type": "code",
   "execution_count": 75,
   "id": "171ab712-1a12-47a7-9757-8a027011d0a4",
   "metadata": {},
   "outputs": [],
   "source": [
    "x_test['CPC'] = impute_outliers(x_test['CPC'])"
   ]
  },
  {
   "cell_type": "code",
   "execution_count": 76,
   "id": "54a7534f-6ea2-49a4-91b4-f020fc33baf5",
   "metadata": {},
   "outputs": [
    {
     "data": {
      "text/plain": [
       "<Axes: ylabel='CPC'>"
      ]
     },
     "execution_count": 76,
     "metadata": {},
     "output_type": "execute_result"
    },
    {
     "data": {
      "image/png": "[encoded data removed]",
      "text/plain": [
       "<Figure size 640x480 with 1 Axes>"
      ]
     },
     "metadata": {},
     "output_type": "display_data"
    }
   ],
   "source": [
    "sns.boxplot(x_test['CPC'])"
   ]
  },
  {
   "cell_type": "markdown",
   "id": "d36d17e3-91b9-49a8-847b-7d9c2095c0da",
   "metadata": {},
   "source": [
    "### 12. CPM"
   ]
  },
  {
   "cell_type": "code",
   "execution_count": 77,
   "id": "a6895327-9638-497b-b61f-8114ce96052f",
   "metadata": {},
   "outputs": [
    {
     "data": {
      "text/plain": [
       "100      122.688461\n",
       "6212      45.464757\n",
       "16404     11.899903\n",
       "8907     795.260360\n",
       "14848     93.437253\n",
       "            ...    \n",
       "7718       4.008169\n",
       "19828    120.500624\n",
       "19234    107.655122\n",
       "3444     275.663549\n",
       "3515     189.611347\n",
       "Name: CPM, Length: 12864, dtype: float64"
      ]
     },
     "execution_count": 77,
     "metadata": {},
     "output_type": "execute_result"
    }
   ],
   "source": [
    "x_train['CPM']"
   ]
  },
  {
   "cell_type": "code",
   "execution_count": 78,
   "id": "fab6f449-1c93-48b2-94b6-31277bc9ff12",
   "metadata": {},
   "outputs": [
    {
     "data": {
      "text/plain": [
       "<Axes: ylabel='CPM'>"
      ]
     },
     "execution_count": 78,
     "metadata": {},
     "output_type": "execute_result"
    },
    {
     "data": {
      "image/png": "[encoded data removed]",
      "text/plain": [
       "<Figure size 640x480 with 1 Axes>"
      ]
     },
     "metadata": {},
     "output_type": "display_data"
    }
   ],
   "source": [
    "sns.boxplot(x_train['CPM'])"
   ]
  },
  {
   "cell_type": "code",
   "execution_count": 79,
   "id": "521a8bf8-7238-40a4-9839-4ff3eb0e301a",
   "metadata": {},
   "outputs": [],
   "source": [
    "x_train['CPM'] = impute_outliers(x_train['CPM'])"
   ]
  },
  {
   "cell_type": "code",
   "execution_count": 80,
   "id": "a87260f9-bc99-48c1-992e-e40cf01e1caa",
   "metadata": {},
   "outputs": [
    {
     "data": {
      "text/plain": [
       "<Axes: ylabel='CPM'>"
      ]
     },
     "execution_count": 80,
     "metadata": {},
     "output_type": "execute_result"
    },
    {
     "data": {
      "image/png": "[encoded data removed]",
      "text/plain": [
       "<Figure size 640x480 with 1 Axes>"
      ]
     },
     "metadata": {},
     "output_type": "display_data"
    }
   ],
   "source": [
    "sns.boxplot(x_train['CPM'])"
   ]
  },
  {
   "cell_type": "code",
   "execution_count": 81,
   "id": "18322289-aa94-416f-855b-a6f9c320cdec",
   "metadata": {},
   "outputs": [
    {
     "data": {
      "text/plain": [
       "10316    2348.249995\n",
       "3460      109.298669\n",
       "10048      48.566159\n",
       "2975        8.379120\n",
       "612        86.122001\n",
       "            ...     \n",
       "7192      137.573960\n",
       "9505      460.668128\n",
       "11109     778.036415\n",
       "15856     155.080088\n",
       "19182      37.197922\n",
       "Name: CPM, Length: 3216, dtype: float64"
      ]
     },
     "execution_count": 81,
     "metadata": {},
     "output_type": "execute_result"
    }
   ],
   "source": [
    "x_test['CPM']"
   ]
  },
  {
   "cell_type": "code",
   "execution_count": 82,
   "id": "64e35540-dd6e-4e7d-9414-357c41ac39af",
   "metadata": {},
   "outputs": [
    {
     "data": {
      "text/plain": [
       "<Axes: ylabel='CPM'>"
      ]
     },
     "execution_count": 82,
     "metadata": {},
     "output_type": "execute_result"
    },
    {
     "data": {
      "image/png": "[encoded data removed]",
      "text/plain": [
       "<Figure size 640x480 with 1 Axes>"
      ]
     },
     "metadata": {},
     "output_type": "display_data"
    }
   ],
   "source": [
    "sns.boxplot(x_test['CPM'])"
   ]
  },
  {
   "cell_type": "code",
   "execution_count": 83,
   "id": "4a23b773-3a69-427d-8fd2-dd0f65ae05ec",
   "metadata": {},
   "outputs": [],
   "source": [
    "x_test['CPM'] = impute_outliers(x_test['CPM'])"
   ]
  },
  {
   "cell_type": "code",
   "execution_count": 84,
   "id": "1cbddf38-fdf8-47ad-b5e9-cf324f92285a",
   "metadata": {},
   "outputs": [
    {
     "data": {
      "text/plain": [
       "<Axes: ylabel='CPM'>"
      ]
     },
     "execution_count": 84,
     "metadata": {},
     "output_type": "execute_result"
    },
    {
     "data": {
      "image/png": "[encoded data removed]",
      "text/plain": [
       "<Figure size 640x480 with 1 Axes>"
      ]
     },
     "metadata": {},
     "output_type": "display_data"
    }
   ],
   "source": [
    "sns.boxplot(x_test['CPM'])"
   ]
  },
  {
   "cell_type": "markdown",
   "id": "0635abe7-777a-4546-92ca-1d1e0e115ba6",
   "metadata": {},
   "source": [
    "### 13. CPA"
   ]
  },
  {
   "cell_type": "code",
   "execution_count": 85,
   "id": "e8dc7692-8beb-42d8-b781-71cec7d226a3",
   "metadata": {},
   "outputs": [
    {
     "data": {
      "text/plain": [
       "100      21.529371\n",
       "6212     10.524258\n",
       "16404     9.698421\n",
       "8907      9.690313\n",
       "14848     8.504726\n",
       "           ...    \n",
       "7718      6.668534\n",
       "19828    46.881315\n",
       "19234    25.340859\n",
       "3444     17.797590\n",
       "3515     20.351120\n",
       "Name: CPA, Length: 12864, dtype: float64"
      ]
     },
     "execution_count": 85,
     "metadata": {},
     "output_type": "execute_result"
    }
   ],
   "source": [
    "x_train['CPA']"
   ]
  },
  {
   "cell_type": "code",
   "execution_count": 86,
   "id": "bdbb369a-1ff8-42c3-b3af-f55f264e0f2d",
   "metadata": {},
   "outputs": [
    {
     "data": {
      "text/plain": [
       "<Axes: ylabel='CPA'>"
      ]
     },
     "execution_count": 86,
     "metadata": {},
     "output_type": "execute_result"
    },
    {
     "data": {
      "image/png": "[encoded data removed]",
      "text/plain": [
       "<Figure size 640x480 with 1 Axes>"
      ]
     },
     "metadata": {},
     "output_type": "display_data"
    }
   ],
   "source": [
    "sns.boxplot(x_train['CPA'])"
   ]
  },
  {
   "cell_type": "code",
   "execution_count": 87,
   "id": "4aead20d-4466-416b-8af7-b0e1d3a25f1e",
   "metadata": {},
   "outputs": [],
   "source": [
    "x_train['CPA'] = impute_outliers(x_train['CPA'])"
   ]
  },
  {
   "cell_type": "code",
   "execution_count": 88,
   "id": "7ca3fba2-e751-43a4-9b33-5e1bb3384c1d",
   "metadata": {},
   "outputs": [
    {
     "data": {
      "text/plain": [
       "<Axes: ylabel='CPA'>"
      ]
     },
     "execution_count": 88,
     "metadata": {},
     "output_type": "execute_result"
    },
    {
     "data": {
      "image/png": "[encoded data removed]",
      "text/plain": [
       "<Figure size 640x480 with 1 Axes>"
      ]
     },
     "metadata": {},
     "output_type": "display_data"
    }
   ],
   "source": [
    "sns.boxplot(x_train['CPA'])"
   ]
  },
  {
   "cell_type": "code",
   "execution_count": 89,
   "id": "31a8b917-4c71-4600-8b7d-b80855c0e159",
   "metadata": {},
   "outputs": [
    {
     "data": {
      "text/plain": [
       "10316    10.437233\n",
       "3460      7.482260\n",
       "10048    11.931086\n",
       "2975      2.266171\n",
       "612      14.513346\n",
       "           ...    \n",
       "7192     11.664806\n",
       "9505     16.973061\n",
       "11109     8.520964\n",
       "15856    14.964974\n",
       "19182    18.805756\n",
       "Name: CPA, Length: 3216, dtype: float64"
      ]
     },
     "execution_count": 89,
     "metadata": {},
     "output_type": "execute_result"
    }
   ],
   "source": [
    "x_test['CPA']"
   ]
  },
  {
   "cell_type": "code",
   "execution_count": 90,
   "id": "302a6e55-de8e-438b-aedf-da44c7d8a31e",
   "metadata": {},
   "outputs": [
    {
     "data": {
      "text/plain": [
       "<Axes: ylabel='CPA'>"
      ]
     },
     "execution_count": 90,
     "metadata": {},
     "output_type": "execute_result"
    },
    {
     "data": {
      "image/png": "[encoded data removed]",
      "text/plain": [
       "<Figure size 640x480 with 1 Axes>"
      ]
     },
     "metadata": {},
     "output_type": "display_data"
    }
   ],
   "source": [
    "sns.boxplot(x_test['CPA'])"
   ]
  },
  {
   "cell_type": "code",
   "execution_count": 91,
   "id": "67577315-3dec-4e46-b30d-8e5b3e9e43ee",
   "metadata": {},
   "outputs": [],
   "source": [
    "x_test['CPA'] = impute_outliers(x_test['CPA'])"
   ]
  },
  {
   "cell_type": "code",
   "execution_count": 92,
   "id": "b7ca8bd7-55f6-40de-9f7f-5c7554055b1b",
   "metadata": {},
   "outputs": [
    {
     "data": {
      "text/plain": [
       "<Axes: ylabel='CPA'>"
      ]
     },
     "execution_count": 92,
     "metadata": {},
     "output_type": "execute_result"
    },
    {
     "data": {
      "image/png": "[encoded data removed]",
      "text/plain": [
       "<Figure size 640x480 with 1 Axes>"
      ]
     },
     "metadata": {},
     "output_type": "display_data"
    }
   ],
   "source": [
    "sns.boxplot(x_test['CPA'])"
   ]
  },
  {
   "cell_type": "markdown",
   "id": "80f996ec-42f8-412a-9321-786d35060ca0",
   "metadata": {},
   "source": [
    "### 14. Revenue"
   ]
  },
  {
   "cell_type": "code",
   "execution_count": 93,
   "id": "b65a9bb7-c2f5-412f-a428-8bf260527c70",
   "metadata": {},
   "outputs": [
    {
     "data": {
      "text/plain": [
       "100      26845.133143\n",
       "6212     27277.566707\n",
       "16404    14861.414938\n",
       "8907     23021.042014\n",
       "14848    52829.757758\n",
       "             ...     \n",
       "7718      4568.777821\n",
       "19828     1968.529714\n",
       "19234    12222.834477\n",
       "3444     48652.754227\n",
       "3515      5088.875476\n",
       "Name: Revenue, Length: 12864, dtype: float64"
      ]
     },
     "execution_count": 93,
     "metadata": {},
     "output_type": "execute_result"
    }
   ],
   "source": [
    "x_train['Revenue']"
   ]
  },
  {
   "cell_type": "code",
   "execution_count": 94,
   "id": "7f02b1fb-1dd6-42da-8971-31ebeb9d00bd",
   "metadata": {},
   "outputs": [
    {
     "data": {
      "text/plain": [
       "<Axes: ylabel='Revenue'>"
      ]
     },
     "execution_count": 94,
     "metadata": {},
     "output_type": "execute_result"
    },
    {
     "data": {
      "image/png": "[encoded data removed]",
      "text/plain": [
       "<Figure size 640x480 with 1 Axes>"
      ]
     },
     "metadata": {},
     "output_type": "display_data"
    }
   ],
   "source": [
    "sns.boxplot(x_train['Revenue'])"
   ]
  },
  {
   "cell_type": "code",
   "execution_count": 95,
   "id": "0627043c-b77f-48eb-a75a-a8587446585b",
   "metadata": {},
   "outputs": [],
   "source": [
    "x_train['Revenue'] = impute_outliers(x_train['Revenue'])"
   ]
  },
  {
   "cell_type": "code",
   "execution_count": 96,
   "id": "5e5505ba-dad4-45b3-9357-f902a5f95e67",
   "metadata": {},
   "outputs": [
    {
     "data": {
      "text/plain": [
       "<Axes: ylabel='Revenue'>"
      ]
     },
     "execution_count": 96,
     "metadata": {},
     "output_type": "execute_result"
    },
    {
     "data": {
      "image/png": "[encoded data removed]",
      "text/plain": [
       "<Figure size 640x480 with 1 Axes>"
      ]
     },
     "metadata": {},
     "output_type": "display_data"
    }
   ],
   "source": [
    "sns.boxplot(x_train['Revenue'])"
   ]
  },
  {
   "cell_type": "code",
   "execution_count": 97,
   "id": "5c7f6eac-f0e9-44d5-ab24-711a2321ee5e",
   "metadata": {},
   "outputs": [
    {
     "data": {
      "text/plain": [
       "10316    65850.236953\n",
       "3460     45590.651968\n",
       "10048     2984.718185\n",
       "2975     45718.351361\n",
       "612      20958.804104\n",
       "             ...     \n",
       "7192     20998.402488\n",
       "9505     45951.990593\n",
       "11109    36377.658236\n",
       "15856    54531.762701\n",
       "19182    34113.281355\n",
       "Name: Revenue, Length: 3216, dtype: float64"
      ]
     },
     "execution_count": 97,
     "metadata": {},
     "output_type": "execute_result"
    }
   ],
   "source": [
    "x_test[\"Revenue\"]"
   ]
  },
  {
   "cell_type": "code",
   "execution_count": 98,
   "id": "56dbe668-fda7-4ca0-99d7-5fbcfe89dbf3",
   "metadata": {},
   "outputs": [
    {
     "data": {
      "text/plain": [
       "<Axes: ylabel='Revenue'>"
      ]
     },
     "execution_count": 98,
     "metadata": {},
     "output_type": "execute_result"
    },
    {
     "data": {
      "image/png": "[encoded data removed]",
      "text/plain": [
       "<Figure size 640x480 with 1 Axes>"
      ]
     },
     "metadata": {},
     "output_type": "display_data"
    }
   ],
   "source": [
    "sns.boxplot(x_test[\"Revenue\"])"
   ]
  },
  {
   "cell_type": "code",
   "execution_count": 99,
   "id": "cc021af2-f34c-429b-85e4-d79b1afbfd0f",
   "metadata": {},
   "outputs": [],
   "source": [
    "x_test[\"Revenue\"] = impute_outliers(x_test[\"Revenue\"])"
   ]
  },
  {
   "cell_type": "code",
   "execution_count": 100,
   "id": "d9bc5cd7-eced-4bb2-acbe-4744d6c57c0c",
   "metadata": {},
   "outputs": [
    {
     "data": {
      "text/plain": [
       "<Axes: ylabel='Revenue'>"
      ]
     },
     "execution_count": 100,
     "metadata": {},
     "output_type": "execute_result"
    },
    {
     "data": {
      "image/png": "[encoded data removed]",
      "text/plain": [
       "<Figure size 640x480 with 1 Axes>"
      ]
     },
     "metadata": {},
     "output_type": "display_data"
    }
   ],
   "source": [
    "sns.boxplot(x_test[\"Revenue\"])"
   ]
  },
  {
   "cell_type": "markdown",
   "id": "0a30f2f9-4e70-468c-ac01-d8dce16f22cc",
   "metadata": {},
   "source": [
    "### 15. Region"
   ]
  },
  {
   "cell_type": "code",
   "execution_count": 101,
   "id": "61a50cb0-7dba-4c80-830b-ee706adad6a8",
   "metadata": {},
   "outputs": [
    {
     "data": {
      "text/plain": [
       "100         Canada\n",
       "6212            US\n",
       "16404        India\n",
       "8907            UK\n",
       "14848        India\n",
       "           ...    \n",
       "7718         India\n",
       "19828    Australia\n",
       "19234    Australia\n",
       "3444            US\n",
       "3515     Australia\n",
       "Name: Region, Length: 12864, dtype: object"
      ]
     },
     "execution_count": 101,
     "metadata": {},
     "output_type": "execute_result"
    }
   ],
   "source": [
    "x_train['Region']"
   ]
  },
  {
   "cell_type": "code",
   "execution_count": 102,
   "id": "ed62dd95-230c-4ecc-acbb-b3ca35f18eb6",
   "metadata": {},
   "outputs": [
    {
     "data": {
      "text/plain": [
       "Region\n",
       "Australia    2645\n",
       "Canada       2601\n",
       "India        2565\n",
       "UK           2531\n",
       "US           2522\n",
       "Name: count, dtype: int64"
      ]
     },
     "execution_count": 102,
     "metadata": {},
     "output_type": "execute_result"
    }
   ],
   "source": [
    "x_train['Region'].value_counts()"
   ]
  },
  {
   "cell_type": "code",
   "execution_count": 104,
   "id": "7f87fdaf-42a5-4a07-9941-976c50aaee55",
   "metadata": {},
   "outputs": [],
   "source": [
    "x_train['Region'] = x_train['Region'].map({\n",
    "    \"Australia\" : 1,\n",
    "    \"Canada\" : 2,\n",
    "    \"India\" : 3,\n",
    "    \"UK\" : 4,\n",
    "    \"US\" : 5\n",
    "})"
   ]
  },
  {
   "cell_type": "code",
   "execution_count": 105,
   "id": "04a1f545-980e-4d85-ae98-8cfc2d21f420",
   "metadata": {},
   "outputs": [
    {
     "data": {
      "text/plain": [
       "100      2\n",
       "6212     5\n",
       "16404    3\n",
       "8907     4\n",
       "14848    3\n",
       "        ..\n",
       "7718     3\n",
       "19828    1\n",
       "19234    1\n",
       "3444     5\n",
       "3515     1\n",
       "Name: Region, Length: 12864, dtype: int64"
      ]
     },
     "execution_count": 105,
     "metadata": {},
     "output_type": "execute_result"
    }
   ],
   "source": [
    "x_train['Region'] "
   ]
  },
  {
   "cell_type": "code",
   "execution_count": 106,
   "id": "9b81966a-0023-4399-9775-7ea6b2a9383c",
   "metadata": {},
   "outputs": [],
   "source": [
    "x_test['Region'] = x_test['Region'].map({\n",
    "    \"Australia\" : 1,\n",
    "    \"Canada\" : 2,\n",
    "    \"India\" : 3,\n",
    "    \"UK\" : 4,\n",
    "    \"US\" : 5\n",
    "})"
   ]
  },
  {
   "cell_type": "code",
   "execution_count": 107,
   "id": "2085d498-caa5-4f3a-a595-36caaa6ff4fe",
   "metadata": {},
   "outputs": [
    {
     "data": {
      "text/plain": [
       "10316    3\n",
       "3460     3\n",
       "10048    1\n",
       "2975     4\n",
       "612      1\n",
       "        ..\n",
       "7192     4\n",
       "9505     3\n",
       "11109    2\n",
       "15856    5\n",
       "19182    5\n",
       "Name: Region, Length: 3216, dtype: int64"
      ]
     },
     "execution_count": 107,
     "metadata": {},
     "output_type": "execute_result"
    }
   ],
   "source": [
    "x_test['Region']"
   ]
  },
  {
   "cell_type": "markdown",
   "id": "12d9fb50-9085-49a1-b917-0712b6eb89e0",
   "metadata": {},
   "source": [
    "### 16. y_train"
   ]
  },
  {
   "cell_type": "code",
   "execution_count": 108,
   "id": "d82847e4-d54f-49af-a5a4-f0032ba145ad",
   "metadata": {},
   "outputs": [
    {
     "data": {
      "text/plain": [
       "100      0.115113\n",
       "6212     0.045518\n",
       "16404    0.062545\n",
       "8907     0.746089\n",
       "14848    0.133375\n",
       "           ...   \n",
       "7718     0.039749\n",
       "19828    0.063511\n",
       "19234    0.071194\n",
       "3444     0.063510\n",
       "3515     0.086934\n",
       "Name: CTR, Length: 12864, dtype: float64"
      ]
     },
     "execution_count": 108,
     "metadata": {},
     "output_type": "execute_result"
    }
   ],
   "source": [
    "y_train"
   ]
  },
  {
   "cell_type": "code",
   "execution_count": 109,
   "id": "d173db89-c048-4c40-87bf-c8d128fb01c9",
   "metadata": {},
   "outputs": [
    {
     "data": {
      "text/plain": [
       "<Axes: ylabel='CTR'>"
      ]
     },
     "execution_count": 109,
     "metadata": {},
     "output_type": "execute_result"
    },
    {
     "data": {
      "image/png": "[encoded data removed]",
      "text/plain": [
       "<Figure size 640x480 with 1 Axes>"
      ]
     },
     "metadata": {},
     "output_type": "display_data"
    }
   ],
   "source": [
    "sns.boxplot(y_train)"
   ]
  },
  {
   "cell_type": "code",
   "execution_count": 110,
   "id": "67a27860-16d8-4896-b47a-823626e8754f",
   "metadata": {},
   "outputs": [
    {
     "data": {
      "text/plain": [
       "10316    0.746218\n",
       "3460     0.059488\n",
       "10048    0.179581\n",
       "2975     0.009535\n",
       "612      0.001706\n",
       "           ...   \n",
       "7192     0.037524\n",
       "9505     0.328508\n",
       "11109    0.814900\n",
       "15856    0.160166\n",
       "19182    0.005945\n",
       "Name: CTR, Length: 3216, dtype: float64"
      ]
     },
     "execution_count": 110,
     "metadata": {},
     "output_type": "execute_result"
    }
   ],
   "source": [
    "y_test"
   ]
  },
  {
   "cell_type": "code",
   "execution_count": 111,
   "id": "7f4286b0-313c-40b3-891c-17b4f61c1702",
   "metadata": {},
   "outputs": [
    {
     "data": {
      "text/plain": [
       "<Axes: ylabel='CTR'>"
      ]
     },
     "execution_count": 111,
     "metadata": {},
     "output_type": "execute_result"
    },
    {
     "data": {
      "image/png": "[encoded data removed]",
      "text/plain": [
       "<Figure size 640x480 with 1 Axes>"
      ]
     },
     "metadata": {},
     "output_type": "display_data"
    }
   ],
   "source": [
    "sns.boxplot(y_test)"
   ]
  },
  {
   "cell_type": "code",
   "execution_count": 112,
   "id": "cabd1e07-c0b6-463f-b88e-0b2b02c300e9",
   "metadata": {},
   "outputs": [
    {
     "name": "stdout",
     "output_type": "stream",
     "text": [
      "<class 'pandas.core.frame.DataFrame'>\n",
      "Index: 12864 entries, 100 to 3515\n",
      "Data columns (total 14 columns):\n",
      " #   Column           Non-Null Count  Dtype  \n",
      "---  ------           --------------  -----  \n",
      " 0   Spend            12864 non-null  float64\n",
      " 1   Impressions      12864 non-null  float64\n",
      " 2   Clicks           12864 non-null  float64\n",
      " 3   Conversions      12864 non-null  float64\n",
      " 4   Campaign_Type    12864 non-null  int64  \n",
      " 5   Region           12864 non-null  int64  \n",
      " 6   Device_Type      12864 non-null  int64  \n",
      " 7   Month            12864 non-null  int64  \n",
      " 8   Conversion_Rate  12864 non-null  float64\n",
      " 9   CPC              12864 non-null  float64\n",
      " 10  CPM              12864 non-null  float64\n",
      " 11  CPA              12864 non-null  float64\n",
      " 12  Revenue          12864 non-null  float64\n",
      " 13  ROI              12864 non-null  float64\n",
      "dtypes: float64(10), int64(4)\n",
      "memory usage: 1.5 MB\n"
     ]
    }
   ],
   "source": [
    "x_train.info()"
   ]
  },
  {
   "cell_type": "code",
   "execution_count": 113,
   "id": "e653dd5d-623c-454b-8407-77d38beee6e9",
   "metadata": {},
   "outputs": [
    {
     "data": {
      "text/html": [
       "<div>\n",
       "<style scoped>\n",
       "    .dataframe tbody tr th:only-of-type {\n",
       "        vertical-align: middle;\n",
       "    }\n",
       "\n",
       "    .dataframe tbody tr th {\n",
       "        vertical-align: top;\n",
       "    }\n",
       "\n",
       "    .dataframe thead th {\n",
       "        text-align: right;\n",
       "    }\n",
       "</style>\n",
       "<table border=\"1\" class=\"dataframe\">\n",
       "  <thead>\n",
       "    <tr style=\"text-align: right;\">\n",
       "      <th></th>\n",
       "      <th>Spend</th>\n",
       "      <th>Impressions</th>\n",
       "      <th>Clicks</th>\n",
       "      <th>Conversions</th>\n",
       "      <th>Campaign_Type</th>\n",
       "      <th>Region</th>\n",
       "      <th>Device_Type</th>\n",
       "      <th>Month</th>\n",
       "      <th>Conversion_Rate</th>\n",
       "      <th>CPC</th>\n",
       "      <th>CPM</th>\n",
       "      <th>CPA</th>\n",
       "      <th>Revenue</th>\n",
       "      <th>ROI</th>\n",
       "    </tr>\n",
       "  </thead>\n",
       "  <tbody>\n",
       "    <tr>\n",
       "      <th>Spend</th>\n",
       "      <td>1.000000</td>\n",
       "      <td>-0.000035</td>\n",
       "      <td>-0.003174</td>\n",
       "      <td>0.009314</td>\n",
       "      <td>-0.016484</td>\n",
       "      <td>-0.003142</td>\n",
       "      <td>0.007864</td>\n",
       "      <td>-0.004425</td>\n",
       "      <td>0.004604</td>\n",
       "      <td>0.483353</td>\n",
       "      <td>0.474194</td>\n",
       "      <td>0.466960</td>\n",
       "      <td>0.009306</td>\n",
       "      <td>-0.597165</td>\n",
       "    </tr>\n",
       "    <tr>\n",
       "      <th>Impressions</th>\n",
       "      <td>-0.000035</td>\n",
       "      <td>1.000000</td>\n",
       "      <td>0.000416</td>\n",
       "      <td>-0.010034</td>\n",
       "      <td>0.008265</td>\n",
       "      <td>0.021196</td>\n",
       "      <td>0.012366</td>\n",
       "      <td>-0.001988</td>\n",
       "      <td>-0.003430</td>\n",
       "      <td>-0.003562</td>\n",
       "      <td>-0.730523</td>\n",
       "      <td>0.004031</td>\n",
       "      <td>0.003482</td>\n",
       "      <td>0.005230</td>\n",
       "    </tr>\n",
       "    <tr>\n",
       "      <th>Clicks</th>\n",
       "      <td>-0.003174</td>\n",
       "      <td>0.000416</td>\n",
       "      <td>1.000000</td>\n",
       "      <td>-0.005284</td>\n",
       "      <td>0.000629</td>\n",
       "      <td>0.004485</td>\n",
       "      <td>0.009400</td>\n",
       "      <td>-0.005806</td>\n",
       "      <td>-0.709871</td>\n",
       "      <td>-0.727766</td>\n",
       "      <td>0.002116</td>\n",
       "      <td>-0.004768</td>\n",
       "      <td>-0.010098</td>\n",
       "      <td>-0.006584</td>\n",
       "    </tr>\n",
       "    <tr>\n",
       "      <th>Conversions</th>\n",
       "      <td>0.009314</td>\n",
       "      <td>-0.010034</td>\n",
       "      <td>-0.005284</td>\n",
       "      <td>1.000000</td>\n",
       "      <td>0.009583</td>\n",
       "      <td>0.005102</td>\n",
       "      <td>-0.015196</td>\n",
       "      <td>-0.006647</td>\n",
       "      <td>0.520464</td>\n",
       "      <td>0.001498</td>\n",
       "      <td>0.004013</td>\n",
       "      <td>-0.730081</td>\n",
       "      <td>0.727241</td>\n",
       "      <td>0.482649</td>\n",
       "    </tr>\n",
       "    <tr>\n",
       "      <th>Campaign_Type</th>\n",
       "      <td>-0.016484</td>\n",
       "      <td>0.008265</td>\n",
       "      <td>0.000629</td>\n",
       "      <td>0.009583</td>\n",
       "      <td>1.000000</td>\n",
       "      <td>-0.008432</td>\n",
       "      <td>0.006552</td>\n",
       "      <td>-0.005237</td>\n",
       "      <td>0.002130</td>\n",
       "      <td>-0.011257</td>\n",
       "      <td>-0.015283</td>\n",
       "      <td>-0.018020</td>\n",
       "      <td>0.008175</td>\n",
       "      <td>0.019147</td>\n",
       "    </tr>\n",
       "    <tr>\n",
       "      <th>Region</th>\n",
       "      <td>-0.003142</td>\n",
       "      <td>0.021196</td>\n",
       "      <td>0.004485</td>\n",
       "      <td>0.005102</td>\n",
       "      <td>-0.008432</td>\n",
       "      <td>1.000000</td>\n",
       "      <td>-0.010651</td>\n",
       "      <td>0.003994</td>\n",
       "      <td>0.000776</td>\n",
       "      <td>-0.005714</td>\n",
       "      <td>-0.015742</td>\n",
       "      <td>-0.006777</td>\n",
       "      <td>0.006579</td>\n",
       "      <td>0.006472</td>\n",
       "    </tr>\n",
       "    <tr>\n",
       "      <th>Device_Type</th>\n",
       "      <td>0.007864</td>\n",
       "      <td>0.012366</td>\n",
       "      <td>0.009400</td>\n",
       "      <td>-0.015196</td>\n",
       "      <td>0.006552</td>\n",
       "      <td>-0.010651</td>\n",
       "      <td>1.000000</td>\n",
       "      <td>-0.007625</td>\n",
       "      <td>-0.013209</td>\n",
       "      <td>0.000914</td>\n",
       "      <td>-0.004220</td>\n",
       "      <td>0.013849</td>\n",
       "      <td>-0.011263</td>\n",
       "      <td>-0.013972</td>\n",
       "    </tr>\n",
       "    <tr>\n",
       "      <th>Month</th>\n",
       "      <td>-0.004425</td>\n",
       "      <td>-0.001988</td>\n",
       "      <td>-0.005806</td>\n",
       "      <td>-0.006647</td>\n",
       "      <td>-0.005237</td>\n",
       "      <td>0.003994</td>\n",
       "      <td>-0.007625</td>\n",
       "      <td>1.000000</td>\n",
       "      <td>0.003735</td>\n",
       "      <td>0.005714</td>\n",
       "      <td>-0.001450</td>\n",
       "      <td>0.005750</td>\n",
       "      <td>-0.004864</td>\n",
       "      <td>-0.001064</td>\n",
       "    </tr>\n",
       "    <tr>\n",
       "      <th>Conversion_Rate</th>\n",
       "      <td>0.004604</td>\n",
       "      <td>-0.003430</td>\n",
       "      <td>-0.709871</td>\n",
       "      <td>0.520464</td>\n",
       "      <td>0.002130</td>\n",
       "      <td>0.000776</td>\n",
       "      <td>-0.013209</td>\n",
       "      <td>0.003735</td>\n",
       "      <td>1.000000</td>\n",
       "      <td>0.633142</td>\n",
       "      <td>-0.000762</td>\n",
       "      <td>-0.404361</td>\n",
       "      <td>0.384114</td>\n",
       "      <td>0.261636</td>\n",
       "    </tr>\n",
       "    <tr>\n",
       "      <th>CPC</th>\n",
       "      <td>0.483353</td>\n",
       "      <td>-0.003562</td>\n",
       "      <td>-0.727766</td>\n",
       "      <td>0.001498</td>\n",
       "      <td>-0.011257</td>\n",
       "      <td>-0.005714</td>\n",
       "      <td>0.000914</td>\n",
       "      <td>0.005714</td>\n",
       "      <td>0.633142</td>\n",
       "      <td>1.000000</td>\n",
       "      <td>0.248382</td>\n",
       "      <td>0.250457</td>\n",
       "      <td>0.010600</td>\n",
       "      <td>-0.324666</td>\n",
       "    </tr>\n",
       "    <tr>\n",
       "      <th>CPM</th>\n",
       "      <td>0.474194</td>\n",
       "      <td>-0.730523</td>\n",
       "      <td>0.002116</td>\n",
       "      <td>0.004013</td>\n",
       "      <td>-0.015283</td>\n",
       "      <td>-0.015742</td>\n",
       "      <td>-0.004220</td>\n",
       "      <td>-0.001450</td>\n",
       "      <td>-0.000762</td>\n",
       "      <td>0.248382</td>\n",
       "      <td>1.000000</td>\n",
       "      <td>0.241349</td>\n",
       "      <td>-0.006655</td>\n",
       "      <td>-0.333211</td>\n",
       "    </tr>\n",
       "    <tr>\n",
       "      <th>CPA</th>\n",
       "      <td>0.466960</td>\n",
       "      <td>0.004031</td>\n",
       "      <td>-0.004768</td>\n",
       "      <td>-0.730081</td>\n",
       "      <td>-0.018020</td>\n",
       "      <td>-0.006777</td>\n",
       "      <td>0.013849</td>\n",
       "      <td>0.005750</td>\n",
       "      <td>-0.404361</td>\n",
       "      <td>0.250457</td>\n",
       "      <td>0.241349</td>\n",
       "      <td>1.000000</td>\n",
       "      <td>-0.527658</td>\n",
       "      <td>-0.667287</td>\n",
       "    </tr>\n",
       "    <tr>\n",
       "      <th>Revenue</th>\n",
       "      <td>0.009306</td>\n",
       "      <td>0.003482</td>\n",
       "      <td>-0.010098</td>\n",
       "      <td>0.727241</td>\n",
       "      <td>0.008175</td>\n",
       "      <td>0.006579</td>\n",
       "      <td>-0.011263</td>\n",
       "      <td>-0.004864</td>\n",
       "      <td>0.384114</td>\n",
       "      <td>0.010600</td>\n",
       "      <td>-0.006655</td>\n",
       "      <td>-0.527658</td>\n",
       "      <td>1.000000</td>\n",
       "      <td>0.614979</td>\n",
       "    </tr>\n",
       "    <tr>\n",
       "      <th>ROI</th>\n",
       "      <td>-0.597165</td>\n",
       "      <td>0.005230</td>\n",
       "      <td>-0.006584</td>\n",
       "      <td>0.482649</td>\n",
       "      <td>0.019147</td>\n",
       "      <td>0.006472</td>\n",
       "      <td>-0.013972</td>\n",
       "      <td>-0.001064</td>\n",
       "      <td>0.261636</td>\n",
       "      <td>-0.324666</td>\n",
       "      <td>-0.333211</td>\n",
       "      <td>-0.667287</td>\n",
       "      <td>0.614979</td>\n",
       "      <td>1.000000</td>\n",
       "    </tr>\n",
       "  </tbody>\n",
       "</table>\n",
       "</div>"
      ],
      "text/plain": [
       "                    Spend  Impressions    Clicks  Conversions  Campaign_Type  \\\n",
       "Spend            1.000000    -0.000035 -0.003174     0.009314      -0.016484   \n",
       "Impressions     -0.000035     1.000000  0.000416    -0.010034       0.008265   \n",
       "Clicks          -0.003174     0.000416  1.000000    -0.005284       0.000629   \n",
       "Conversions      0.009314    -0.010034 -0.005284     1.000000       0.009583   \n",
       "Campaign_Type   -0.016484     0.008265  0.000629     0.009583       1.000000   \n",
       "Region          -0.003142     0.021196  0.004485     0.005102      -0.008432   \n",
       "Device_Type      0.007864     0.012366  0.009400    -0.015196       0.006552   \n",
       "Month           -0.004425    -0.001988 -0.005806    -0.006647      -0.005237   \n",
       "Conversion_Rate  0.004604    -0.003430 -0.709871     0.520464       0.002130   \n",
       "CPC              0.483353    -0.003562 -0.727766     0.001498      -0.011257   \n",
       "CPM              0.474194    -0.730523  0.002116     0.004013      -0.015283   \n",
       "CPA              0.466960     0.004031 -0.004768    -0.730081      -0.018020   \n",
       "Revenue          0.009306     0.003482 -0.010098     0.727241       0.008175   \n",
       "ROI             -0.597165     0.005230 -0.006584     0.482649       0.019147   \n",
       "\n",
       "                   Region  Device_Type     Month  Conversion_Rate       CPC  \\\n",
       "Spend           -0.003142     0.007864 -0.004425         0.004604  0.483353   \n",
       "Impressions      0.021196     0.012366 -0.001988        -0.003430 -0.003562   \n",
       "Clicks           0.004485     0.009400 -0.005806        -0.709871 -0.727766   \n",
       "Conversions      0.005102    -0.015196 -0.006647         0.520464  0.001498   \n",
       "Campaign_Type   -0.008432     0.006552 -0.005237         0.002130 -0.011257   \n",
       "Region           1.000000    -0.010651  0.003994         0.000776 -0.005714   \n",
       "Device_Type     -0.010651     1.000000 -0.007625        -0.013209  0.000914   \n",
       "Month            0.003994    -0.007625  1.000000         0.003735  0.005714   \n",
       "Conversion_Rate  0.000776    -0.013209  0.003735         1.000000  0.633142   \n",
       "CPC             -0.005714     0.000914  0.005714         0.633142  1.000000   \n",
       "CPM             -0.015742    -0.004220 -0.001450        -0.000762  0.248382   \n",
       "CPA             -0.006777     0.013849  0.005750        -0.404361  0.250457   \n",
       "Revenue          0.006579    -0.011263 -0.004864         0.384114  0.010600   \n",
       "ROI              0.006472    -0.013972 -0.001064         0.261636 -0.324666   \n",
       "\n",
       "                      CPM       CPA   Revenue       ROI  \n",
       "Spend            0.474194  0.466960  0.009306 -0.597165  \n",
       "Impressions     -0.730523  0.004031  0.003482  0.005230  \n",
       "Clicks           0.002116 -0.004768 -0.010098 -0.006584  \n",
       "Conversions      0.004013 -0.730081  0.727241  0.482649  \n",
       "Campaign_Type   -0.015283 -0.018020  0.008175  0.019147  \n",
       "Region          -0.015742 -0.006777  0.006579  0.006472  \n",
       "Device_Type     -0.004220  0.013849 -0.011263 -0.013972  \n",
       "Month           -0.001450  0.005750 -0.004864 -0.001064  \n",
       "Conversion_Rate -0.000762 -0.404361  0.384114  0.261636  \n",
       "CPC              0.248382  0.250457  0.010600 -0.324666  \n",
       "CPM              1.000000  0.241349 -0.006655 -0.333211  \n",
       "CPA              0.241349  1.000000 -0.527658 -0.667287  \n",
       "Revenue         -0.006655 -0.527658  1.000000  0.614979  \n",
       "ROI             -0.333211 -0.667287  0.614979  1.000000  "
      ]
     },
     "execution_count": 113,
     "metadata": {},
     "output_type": "execute_result"
    }
   ],
   "source": [
    "corr = x_train.corr()\n",
    "corr"
   ]
  },
  {
   "cell_type": "code",
   "execution_count": 115,
   "id": "8514c150-1ac0-4d76-bedb-04d5039e82dc",
   "metadata": {},
   "outputs": [
    {
     "data": {
      "image/png": "[encoded data removed]",
      "text/plain": [
       "<Figure size 1200x800 with 2 Axes>"
      ]
     },
     "metadata": {},
     "output_type": "display_data"
    }
   ],
   "source": [
    "train_x_train = x_train.copy()\n",
    "train_x_train['CTR'] = y_train\n",
    "\n",
    "# Compute correlation matrixa\n",
    "corr_matrix = train_x_train.corr()\n",
    "\n",
    "# Plot heatmap\n",
    "plt.figure(figsize=(12,8))\n",
    "sns.heatmap(corr_matrix, annot=True, cmap=\"coolwarm\", fmt=\".2f\", cbar=True)\n",
    "plt.title(\"Correlation Heatmap (Train Data)\")\n",
    "plt.show()"
   ]
  },
  {
   "cell_type": "code",
   "execution_count": null,
   "id": "f324856a-9e2b-491d-b123-df0dc67d8ad1",
   "metadata": {},
   "outputs": [],
   "source": [
    "#the final feature set is\n",
    "#[‘Impressions’, ‘Clicks’, ‘CPM’, ‘Conversion_Rate’, ‘Campaign_Type’, ‘Region’, ‘Device_Type’, ‘Month’]"
   ]
  },
  {
   "cell_type": "code",
   "execution_count": 117,
   "id": "28b805db-0c5d-4fe0-8236-407bee861ca8",
   "metadata": {},
   "outputs": [],
   "source": [
    "x_train = x_train.drop(columns = ['Spend','Conversions','CPC','CPA','Revenue','ROI'])"
   ]
  },
  {
   "cell_type": "code",
   "execution_count": 118,
   "id": "57d3dec6-58f8-4ee9-bf34-b45ff93b28cf",
   "metadata": {},
   "outputs": [
    {
     "data": {
      "text/html": [
       "<style>#sk-container-id-1 {\n",
       "  /* Definition of color scheme common for light and dark mode */\n",
       "  --sklearn-color-text: #000;\n",
       "  --sklearn-color-text-muted: #666;\n",
       "  --sklearn-color-line: gray;\n",
       "  /* Definition of color scheme for unfitted estimators */\n",
       "  --sklearn-color-unfitted-level-0: #fff5e6;\n",
       "  --sklearn-color-unfitted-level-1: #f6e4d2;\n",
       "  --sklearn-color-unfitted-level-2: #ffe0b3;\n",
       "  --sklearn-color-unfitted-level-3: chocolate;\n",
       "  /* Definition of color scheme for fitted estimators */\n",
       "  --sklearn-color-fitted-level-0: #f0f8ff;\n",
       "  --sklearn-color-fitted-level-1: #d4ebff;\n",
       "  --sklearn-color-fitted-level-2: #b3dbfd;\n",
       "  --sklearn-color-fitted-level-3: cornflowerblue;\n",
       "\n",
       "  /* Specific color for light theme */\n",
       "  --sklearn-color-text-on-default-background: var(--sg-text-color, var(--theme-code-foreground, var(--jp-content-font-color1, black)));\n",
       "  --sklearn-color-background: var(--sg-background-color, var(--theme-background, var(--jp-layout-color0, white)));\n",
       "  --sklearn-color-border-box: var(--sg-text-color, var(--theme-code-foreground, var(--jp-content-font-color1, black)));\n",
       "  --sklearn-color-icon: #696969;\n",
       "\n",
       "  @media (prefers-color-scheme: dark) {\n",
       "    /* Redefinition of color scheme for dark theme */\n",
       "    --sklearn-color-text-on-default-background: var(--sg-text-color, var(--theme-code-foreground, var(--jp-content-font-color1, white)));\n",
       "    --sklearn-color-background: var(--sg-background-color, var(--theme-background, var(--jp-layout-color0, #111)));\n",
       "    --sklearn-color-border-box: var(--sg-text-color, var(--theme-code-foreground, var(--jp-content-font-color1, white)));\n",
       "    --sklearn-color-icon: #878787;\n",
       "  }\n",
       "}\n",
       "\n",
       "#sk-container-id-1 {\n",
       "  color: var(--sklearn-color-text);\n",
       "}\n",
       "\n",
       "#sk-container-id-1 pre {\n",
       "  padding: 0;\n",
       "}\n",
       "\n",
       "#sk-container-id-1 input.sk-hidden--visually {\n",
       "  border: 0;\n",
       "  clip: rect(1px 1px 1px 1px);\n",
       "  clip: rect(1px, 1px, 1px, 1px);\n",
       "  height: 1px;\n",
       "  margin: -1px;\n",
       "  overflow: hidden;\n",
       "  padding: 0;\n",
       "  position: absolute;\n",
       "  width: 1px;\n",
       "}\n",
       "\n",
       "#sk-container-id-1 div.sk-dashed-wrapped {\n",
       "  border: 1px dashed var(--sklearn-color-line);\n",
       "  margin: 0 0.4em 0.5em 0.4em;\n",
       "  box-sizing: border-box;\n",
       "  padding-bottom: 0.4em;\n",
       "  background-color: var(--sklearn-color-background);\n",
       "}\n",
       "\n",
       "#sk-container-id-1 div.sk-container {\n",
       "  /* jupyter's `normalize.less` sets `[hidden] { display: none; }`\n",
       "     but bootstrap.min.css set `[hidden] { display: none !important; }`\n",
       "     so we also need the `!important` here to be able to override the\n",
       "     default hidden behavior on the sphinx rendered scikit-learn.org.\n",
       "     See: https://github.com/scikit-learn/scikit-learn/issues/21755 */\n",
       "  display: inline-block !important;\n",
       "  position: relative;\n",
       "}\n",
       "\n",
       "#sk-container-id-1 div.sk-text-repr-fallback {\n",
       "  display: none;\n",
       "}\n",
       "\n",
       "div.sk-parallel-item,\n",
       "div.sk-serial,\n",
       "div.sk-item {\n",
       "  /* draw centered vertical line to link estimators */\n",
       "  background-image: linear-gradient(var(--sklearn-color-text-on-default-background), var(--sklearn-color-text-on-default-background));\n",
       "  background-size: 2px 100%;\n",
       "  background-repeat: no-repeat;\n",
       "  background-position: center center;\n",
       "}\n",
       "\n",
       "/* Parallel-specific style estimator block */\n",
       "\n",
       "#sk-container-id-1 div.sk-parallel-item::after {\n",
       "  content: \"\";\n",
       "  width: 100%;\n",
       "  border-bottom: 2px solid var(--sklearn-color-text-on-default-background);\n",
       "  flex-grow: 1;\n",
       "}\n",
       "\n",
       "#sk-container-id-1 div.sk-parallel {\n",
       "  display: flex;\n",
       "  align-items: stretch;\n",
       "  justify-content: center;\n",
       "  background-color: var(--sklearn-color-background);\n",
       "  position: relative;\n",
       "}\n",
       "\n",
       "#sk-container-id-1 div.sk-parallel-item {\n",
       "  display: flex;\n",
       "  flex-direction: column;\n",
       "}\n",
       "\n",
       "#sk-container-id-1 div.sk-parallel-item:first-child::after {\n",
       "  align-self: flex-end;\n",
       "  width: 50%;\n",
       "}\n",
       "\n",
       "#sk-container-id-1 div.sk-parallel-item:last-child::after {\n",
       "  align-self: flex-start;\n",
       "  width: 50%;\n",
       "}\n",
       "\n",
       "#sk-container-id-1 div.sk-parallel-item:only-child::after {\n",
       "  width: 0;\n",
       "}\n",
       "\n",
       "/* Serial-specific style estimator block */\n",
       "\n",
       "#sk-container-id-1 div.sk-serial {\n",
       "  display: flex;\n",
       "  flex-direction: column;\n",
       "  align-items: center;\n",
       "  background-color: var(--sklearn-color-background);\n",
       "  padding-right: 1em;\n",
       "  padding-left: 1em;\n",
       "}\n",
       "\n",
       "\n",
       "/* Toggleable style: style used for estimator/Pipeline/ColumnTransformer box that is\n",
       "clickable and can be expanded/collapsed.\n",
       "- Pipeline and ColumnTransformer use this feature and define the default style\n",
       "- Estimators will overwrite some part of the style using the `sk-estimator` class\n",
       "*/\n",
       "\n",
       "/* Pipeline and ColumnTransformer style (default) */\n",
       "\n",
       "#sk-container-id-1 div.sk-toggleable {\n",
       "  /* Default theme specific background. It is overwritten whether we have a\n",
       "  specific estimator or a Pipeline/ColumnTransformer */\n",
       "  background-color: var(--sklearn-color-background);\n",
       "}\n",
       "\n",
       "/* Toggleable label */\n",
       "#sk-container-id-1 label.sk-toggleable__label {\n",
       "  cursor: pointer;\n",
       "  display: flex;\n",
       "  width: 100%;\n",
       "  margin-bottom: 0;\n",
       "  padding: 0.5em;\n",
       "  box-sizing: border-box;\n",
       "  text-align: center;\n",
       "  align-items: start;\n",
       "  justify-content: space-between;\n",
       "  gap: 0.5em;\n",
       "}\n",
       "\n",
       "#sk-container-id-1 label.sk-toggleable__label .caption {\n",
       "  font-size: 0.6rem;\n",
       "  font-weight: lighter;\n",
       "  color: var(--sklearn-color-text-muted);\n",
       "}\n",
       "\n",
       "#sk-container-id-1 label.sk-toggleable__label-arrow:before {\n",
       "  /* Arrow on the left of the label */\n",
       "  content: \"▸\";\n",
       "  float: left;\n",
       "  margin-right: 0.25em;\n",
       "  color: var(--sklearn-color-icon);\n",
       "}\n",
       "\n",
       "#sk-container-id-1 label.sk-toggleable__label-arrow:hover:before {\n",
       "  color: var(--sklearn-color-text);\n",
       "}\n",
       "\n",
       "/* Toggleable content - dropdown */\n",
       "\n",
       "#sk-container-id-1 div.sk-toggleable__content {\n",
       "  display: none;\n",
       "  text-align: left;\n",
       "  /* unfitted */\n",
       "  background-color: var(--sklearn-color-unfitted-level-0);\n",
       "}\n",
       "\n",
       "#sk-container-id-1 div.sk-toggleable__content.fitted {\n",
       "  /* fitted */\n",
       "  background-color: var(--sklearn-color-fitted-level-0);\n",
       "}\n",
       "\n",
       "#sk-container-id-1 div.sk-toggleable__content pre {\n",
       "  margin: 0.2em;\n",
       "  border-radius: 0.25em;\n",
       "  color: var(--sklearn-color-text);\n",
       "  /* unfitted */\n",
       "  background-color: var(--sklearn-color-unfitted-level-0);\n",
       "}\n",
       "\n",
       "#sk-container-id-1 div.sk-toggleable__content.fitted pre {\n",
       "  /* unfitted */\n",
       "  background-color: var(--sklearn-color-fitted-level-0);\n",
       "}\n",
       "\n",
       "#sk-container-id-1 input.sk-toggleable__control:checked~div.sk-toggleable__content {\n",
       "  /* Expand drop-down */\n",
       "  display: block;\n",
       "  width: 100%;\n",
       "  overflow: visible;\n",
       "}\n",
       "\n",
       "#sk-container-id-1 input.sk-toggleable__control:checked~label.sk-toggleable__label-arrow:before {\n",
       "  content: \"▾\";\n",
       "}\n",
       "\n",
       "/* Pipeline/ColumnTransformer-specific style */\n",
       "\n",
       "#sk-container-id-1 div.sk-label input.sk-toggleable__control:checked~label.sk-toggleable__label {\n",
       "  color: var(--sklearn-color-text);\n",
       "  background-color: var(--sklearn-color-unfitted-level-2);\n",
       "}\n",
       "\n",
       "#sk-container-id-1 div.sk-label.fitted input.sk-toggleable__control:checked~label.sk-toggleable__label {\n",
       "  background-color: var(--sklearn-color-fitted-level-2);\n",
       "}\n",
       "\n",
       "/* Estimator-specific style */\n",
       "\n",
       "/* Colorize estimator box */\n",
       "#sk-container-id-1 div.sk-estimator input.sk-toggleable__control:checked~label.sk-toggleable__label {\n",
       "  /* unfitted */\n",
       "  background-color: var(--sklearn-color-unfitted-level-2);\n",
       "}\n",
       "\n",
       "#sk-container-id-1 div.sk-estimator.fitted input.sk-toggleable__control:checked~label.sk-toggleable__label {\n",
       "  /* fitted */\n",
       "  background-color: var(--sklearn-color-fitted-level-2);\n",
       "}\n",
       "\n",
       "#sk-container-id-1 div.sk-label label.sk-toggleable__label,\n",
       "#sk-container-id-1 div.sk-label label {\n",
       "  /* The background is the default theme color */\n",
       "  color: var(--sklearn-color-text-on-default-background);\n",
       "}\n",
       "\n",
       "/* On hover, darken the color of the background */\n",
       "#sk-container-id-1 div.sk-label:hover label.sk-toggleable__label {\n",
       "  color: var(--sklearn-color-text);\n",
       "  background-color: var(--sklearn-color-unfitted-level-2);\n",
       "}\n",
       "\n",
       "/* Label box, darken color on hover, fitted */\n",
       "#sk-container-id-1 div.sk-label.fitted:hover label.sk-toggleable__label.fitted {\n",
       "  color: var(--sklearn-color-text);\n",
       "  background-color: var(--sklearn-color-fitted-level-2);\n",
       "}\n",
       "\n",
       "/* Estimator label */\n",
       "\n",
       "#sk-container-id-1 div.sk-label label {\n",
       "  font-family: monospace;\n",
       "  font-weight: bold;\n",
       "  display: inline-block;\n",
       "  line-height: 1.2em;\n",
       "}\n",
       "\n",
       "#sk-container-id-1 div.sk-label-container {\n",
       "  text-align: center;\n",
       "}\n",
       "\n",
       "/* Estimator-specific */\n",
       "#sk-container-id-1 div.sk-estimator {\n",
       "  font-family: monospace;\n",
       "  border: 1px dotted var(--sklearn-color-border-box);\n",
       "  border-radius: 0.25em;\n",
       "  box-sizing: border-box;\n",
       "  margin-bottom: 0.5em;\n",
       "  /* unfitted */\n",
       "  background-color: var(--sklearn-color-unfitted-level-0);\n",
       "}\n",
       "\n",
       "#sk-container-id-1 div.sk-estimator.fitted {\n",
       "  /* fitted */\n",
       "  background-color: var(--sklearn-color-fitted-level-0);\n",
       "}\n",
       "\n",
       "/* on hover */\n",
       "#sk-container-id-1 div.sk-estimator:hover {\n",
       "  /* unfitted */\n",
       "  background-color: var(--sklearn-color-unfitted-level-2);\n",
       "}\n",
       "\n",
       "#sk-container-id-1 div.sk-estimator.fitted:hover {\n",
       "  /* fitted */\n",
       "  background-color: var(--sklearn-color-fitted-level-2);\n",
       "}\n",
       "\n",
       "/* Specification for estimator info (e.g. \"i\" and \"?\") */\n",
       "\n",
       "/* Common style for \"i\" and \"?\" */\n",
       "\n",
       ".sk-estimator-doc-link,\n",
       "a:link.sk-estimator-doc-link,\n",
       "a:visited.sk-estimator-doc-link {\n",
       "  float: right;\n",
       "  font-size: smaller;\n",
       "  line-height: 1em;\n",
       "  font-family: monospace;\n",
       "  background-color: var(--sklearn-color-background);\n",
       "  border-radius: 1em;\n",
       "  height: 1em;\n",
       "  width: 1em;\n",
       "  text-decoration: none !important;\n",
       "  margin-left: 0.5em;\n",
       "  text-align: center;\n",
       "  /* unfitted */\n",
       "  border: var(--sklearn-color-unfitted-level-1) 1pt solid;\n",
       "  color: var(--sklearn-color-unfitted-level-1);\n",
       "}\n",
       "\n",
       ".sk-estimator-doc-link.fitted,\n",
       "a:link.sk-estimator-doc-link.fitted,\n",
       "a:visited.sk-estimator-doc-link.fitted {\n",
       "  /* fitted */\n",
       "  border: var(--sklearn-color-fitted-level-1) 1pt solid;\n",
       "  color: var(--sklearn-color-fitted-level-1);\n",
       "}\n",
       "\n",
       "/* On hover */\n",
       "div.sk-estimator:hover .sk-estimator-doc-link:hover,\n",
       ".sk-estimator-doc-link:hover,\n",
       "div.sk-label-container:hover .sk-estimator-doc-link:hover,\n",
       ".sk-estimator-doc-link:hover {\n",
       "  /* unfitted */\n",
       "  background-color: var(--sklearn-color-unfitted-level-3);\n",
       "  color: var(--sklearn-color-background);\n",
       "  text-decoration: none;\n",
       "}\n",
       "\n",
       "div.sk-estimator.fitted:hover .sk-estimator-doc-link.fitted:hover,\n",
       ".sk-estimator-doc-link.fitted:hover,\n",
       "div.sk-label-container:hover .sk-estimator-doc-link.fitted:hover,\n",
       ".sk-estimator-doc-link.fitted:hover {\n",
       "  /* fitted */\n",
       "  background-color: var(--sklearn-color-fitted-level-3);\n",
       "  color: var(--sklearn-color-background);\n",
       "  text-decoration: none;\n",
       "}\n",
       "\n",
       "/* Span, style for the box shown on hovering the info icon */\n",
       ".sk-estimator-doc-link span {\n",
       "  display: none;\n",
       "  z-index: 9999;\n",
       "  position: relative;\n",
       "  font-weight: normal;\n",
       "  right: .2ex;\n",
       "  padding: .5ex;\n",
       "  margin: .5ex;\n",
       "  width: min-content;\n",
       "  min-width: 20ex;\n",
       "  max-width: 50ex;\n",
       "  color: var(--sklearn-color-text);\n",
       "  box-shadow: 2pt 2pt 4pt #999;\n",
       "  /* unfitted */\n",
       "  background: var(--sklearn-color-unfitted-level-0);\n",
       "  border: .5pt solid var(--sklearn-color-unfitted-level-3);\n",
       "}\n",
       "\n",
       ".sk-estimator-doc-link.fitted span {\n",
       "  /* fitted */\n",
       "  background: var(--sklearn-color-fitted-level-0);\n",
       "  border: var(--sklearn-color-fitted-level-3);\n",
       "}\n",
       "\n",
       ".sk-estimator-doc-link:hover span {\n",
       "  display: block;\n",
       "}\n",
       "\n",
       "/* \"?\"-specific style due to the `<a>` HTML tag */\n",
       "\n",
       "#sk-container-id-1 a.estimator_doc_link {\n",
       "  float: right;\n",
       "  font-size: 1rem;\n",
       "  line-height: 1em;\n",
       "  font-family: monospace;\n",
       "  background-color: var(--sklearn-color-background);\n",
       "  border-radius: 1rem;\n",
       "  height: 1rem;\n",
       "  width: 1rem;\n",
       "  text-decoration: none;\n",
       "  /* unfitted */\n",
       "  color: var(--sklearn-color-unfitted-level-1);\n",
       "  border: var(--sklearn-color-unfitted-level-1) 1pt solid;\n",
       "}\n",
       "\n",
       "#sk-container-id-1 a.estimator_doc_link.fitted {\n",
       "  /* fitted */\n",
       "  border: var(--sklearn-color-fitted-level-1) 1pt solid;\n",
       "  color: var(--sklearn-color-fitted-level-1);\n",
       "}\n",
       "\n",
       "/* On hover */\n",
       "#sk-container-id-1 a.estimator_doc_link:hover {\n",
       "  /* unfitted */\n",
       "  background-color: var(--sklearn-color-unfitted-level-3);\n",
       "  color: var(--sklearn-color-background);\n",
       "  text-decoration: none;\n",
       "}\n",
       "\n",
       "#sk-container-id-1 a.estimator_doc_link.fitted:hover {\n",
       "  /* fitted */\n",
       "  background-color: var(--sklearn-color-fitted-level-3);\n",
       "}\n",
       "\n",
       ".estimator-table summary {\n",
       "    padding: .5rem;\n",
       "    font-family: monospace;\n",
       "    cursor: pointer;\n",
       "}\n",
       "\n",
       ".estimator-table details[open] {\n",
       "    padding-left: 0.1rem;\n",
       "    padding-right: 0.1rem;\n",
       "    padding-bottom: 0.3rem;\n",
       "}\n",
       "\n",
       ".estimator-table .parameters-table {\n",
       "    margin-left: auto !important;\n",
       "    margin-right: auto !important;\n",
       "}\n",
       "\n",
       ".estimator-table .parameters-table tr:nth-child(odd) {\n",
       "    background-color: #fff;\n",
       "}\n",
       "\n",
       ".estimator-table .parameters-table tr:nth-child(even) {\n",
       "    background-color: #f6f6f6;\n",
       "}\n",
       "\n",
       ".estimator-table .parameters-table tr:hover {\n",
       "    background-color: #e0e0e0;\n",
       "}\n",
       "\n",
       ".estimator-table table td {\n",
       "    border: 1px solid rgba(106, 105, 104, 0.232);\n",
       "}\n",
       "\n",
       ".user-set td {\n",
       "    color:rgb(255, 94, 0);\n",
       "    text-align: left;\n",
       "}\n",
       "\n",
       ".user-set td.value pre {\n",
       "    color:rgb(255, 94, 0) !important;\n",
       "    background-color: transparent !important;\n",
       "}\n",
       "\n",
       ".default td {\n",
       "    color: black;\n",
       "    text-align: left;\n",
       "}\n",
       "\n",
       ".user-set td i,\n",
       ".default td i {\n",
       "    color: black;\n",
       "}\n",
       "\n",
       ".copy-paste-icon {\n",
       "    background-image: url(data:image/svg+xml;base64,PHN2ZyB4bWxucz0iaHR0cDovL3d3dy53My5vcmcvMjAwMC9zdmciIHZpZXdCb3g9IjAgMCA0NDggNTEyIj48IS0tIUZvbnQgQXdlc29tZSBGcmVlIDYuNy4yIGJ5IEBmb250YXdlc29tZSAtIGh0dHBzOi8vZm9udGF3ZXNvbWUuY29tIExpY2Vuc2UgLSBodHRwczovL2ZvbnRhd2Vzb21lLmNvbS9saWNlbnNlL2ZyZWUgQ29weXJpZ2h0IDIwMjUgRm9udGljb25zLCBJbmMuLS0+PHBhdGggZD0iTTIwOCAwTDMzMi4xIDBjMTIuNyAwIDI0LjkgNS4xIDMzLjkgMTQuMWw2Ny45IDY3LjljOSA5IDE0LjEgMjEuMiAxNC4xIDMzLjlMNDQ4IDMzNmMwIDI2LjUtMjEuNSA0OC00OCA0OGwtMTkyIDBjLTI2LjUgMC00OC0yMS41LTQ4LTQ4bDAtMjg4YzAtMjYuNSAyMS41LTQ4IDQ4LTQ4ek00OCAxMjhsODAgMCAwIDY0LTY0IDAgMCAyNTYgMTkyIDAgMC0zMiA2NCAwIDAgNDhjMCAyNi41LTIxLjUgNDgtNDggNDhMNDggNTEyYy0yNi41IDAtNDgtMjEuNS00OC00OEwwIDE3NmMwLTI2LjUgMjEuNS00OCA0OC00OHoiLz48L3N2Zz4=);\n",
       "    background-repeat: no-repeat;\n",
       "    background-size: 14px 14px;\n",
       "    background-position: 0;\n",
       "    display: inline-block;\n",
       "    width: 14px;\n",
       "    height: 14px;\n",
       "    cursor: pointer;\n",
       "}\n",
       "</style><body><div id=\"sk-container-id-1\" class=\"sk-top-container\"><div class=\"sk-text-repr-fallback\"><pre>DecisionTreeRegressor(max_depth=5, min_samples_split=10, random_state=42)</pre><b>In a Jupyter environment, please rerun this cell to show the HTML representation or trust the notebook. <br />On GitHub, the HTML representation is unable to render, please try loading this page with nbviewer.org.</b></div><div class=\"sk-container\" hidden><div class=\"sk-item\"><div class=\"sk-estimator fitted sk-toggleable\"><input class=\"sk-toggleable__control sk-hidden--visually\" id=\"sk-estimator-id-1\" type=\"checkbox\" checked><label for=\"sk-estimator-id-1\" class=\"sk-toggleable__label fitted sk-toggleable__label-arrow\"><div><div>DecisionTreeRegressor</div></div><div><a class=\"sk-estimator-doc-link fitted\" rel=\"noreferrer\" target=\"_blank\" href=\"https://scikit-learn.org/1.7/modules/generated/sklearn.tree.DecisionTreeRegressor.html\">?<span>Documentation for DecisionTreeRegressor</span></a><span class=\"sk-estimator-doc-link fitted\">i<span>Fitted</span></span></div></label><div class=\"sk-toggleable__content fitted\" data-param-prefix=\"\">\n",
       "        <div class=\"estimator-table\">\n",
       "            <details>\n",
       "                <summary>Parameters</summary>\n",
       "                <table class=\"parameters-table\">\n",
       "                  <tbody>\n",
       "                    \n",
       "        <tr class=\"default\">\n",
       "            <td><i class=\"copy-paste-icon\"\n",
       "                 onclick=\"copyToClipboard('criterion',\n",
       "                          this.parentElement.nextElementSibling)\"\n",
       "            ></i></td>\n",
       "            <td class=\"param\">criterion&nbsp;</td>\n",
       "            <td class=\"value\">&#x27;squared_error&#x27;</td>\n",
       "        </tr>\n",
       "    \n",
       "\n",
       "        <tr class=\"default\">\n",
       "            <td><i class=\"copy-paste-icon\"\n",
       "                 onclick=\"copyToClipboard('splitter',\n",
       "                          this.parentElement.nextElementSibling)\"\n",
       "            ></i></td>\n",
       "            <td class=\"param\">splitter&nbsp;</td>\n",
       "            <td class=\"value\">&#x27;best&#x27;</td>\n",
       "        </tr>\n",
       "    \n",
       "\n",
       "        <tr class=\"user-set\">\n",
       "            <td><i class=\"copy-paste-icon\"\n",
       "                 onclick=\"copyToClipboard('max_depth',\n",
       "                          this.parentElement.nextElementSibling)\"\n",
       "            ></i></td>\n",
       "            <td class=\"param\">max_depth&nbsp;</td>\n",
       "            <td class=\"value\">5</td>\n",
       "        </tr>\n",
       "    \n",
       "\n",
       "        <tr class=\"user-set\">\n",
       "            <td><i class=\"copy-paste-icon\"\n",
       "                 onclick=\"copyToClipboard('min_samples_split',\n",
       "                          this.parentElement.nextElementSibling)\"\n",
       "            ></i></td>\n",
       "            <td class=\"param\">min_samples_split&nbsp;</td>\n",
       "            <td class=\"value\">10</td>\n",
       "        </tr>\n",
       "    \n",
       "\n",
       "        <tr class=\"default\">\n",
       "            <td><i class=\"copy-paste-icon\"\n",
       "                 onclick=\"copyToClipboard('min_samples_leaf',\n",
       "                          this.parentElement.nextElementSibling)\"\n",
       "            ></i></td>\n",
       "            <td class=\"param\">min_samples_leaf&nbsp;</td>\n",
       "            <td class=\"value\">1</td>\n",
       "        </tr>\n",
       "    \n",
       "\n",
       "        <tr class=\"default\">\n",
       "            <td><i class=\"copy-paste-icon\"\n",
       "                 onclick=\"copyToClipboard('min_weight_fraction_leaf',\n",
       "                          this.parentElement.nextElementSibling)\"\n",
       "            ></i></td>\n",
       "            <td class=\"param\">min_weight_fraction_leaf&nbsp;</td>\n",
       "            <td class=\"value\">0.0</td>\n",
       "        </tr>\n",
       "    \n",
       "\n",
       "        <tr class=\"default\">\n",
       "            <td><i class=\"copy-paste-icon\"\n",
       "                 onclick=\"copyToClipboard('max_features',\n",
       "                          this.parentElement.nextElementSibling)\"\n",
       "            ></i></td>\n",
       "            <td class=\"param\">max_features&nbsp;</td>\n",
       "            <td class=\"value\">None</td>\n",
       "        </tr>\n",
       "    \n",
       "\n",
       "        <tr class=\"user-set\">\n",
       "            <td><i class=\"copy-paste-icon\"\n",
       "                 onclick=\"copyToClipboard('random_state',\n",
       "                          this.parentElement.nextElementSibling)\"\n",
       "            ></i></td>\n",
       "            <td class=\"param\">random_state&nbsp;</td>\n",
       "            <td class=\"value\">42</td>\n",
       "        </tr>\n",
       "    \n",
       "\n",
       "        <tr class=\"default\">\n",
       "            <td><i class=\"copy-paste-icon\"\n",
       "                 onclick=\"copyToClipboard('max_leaf_nodes',\n",
       "                          this.parentElement.nextElementSibling)\"\n",
       "            ></i></td>\n",
       "            <td class=\"param\">max_leaf_nodes&nbsp;</td>\n",
       "            <td class=\"value\">None</td>\n",
       "        </tr>\n",
       "    \n",
       "\n",
       "        <tr class=\"default\">\n",
       "            <td><i class=\"copy-paste-icon\"\n",
       "                 onclick=\"copyToClipboard('min_impurity_decrease',\n",
       "                          this.parentElement.nextElementSibling)\"\n",
       "            ></i></td>\n",
       "            <td class=\"param\">min_impurity_decrease&nbsp;</td>\n",
       "            <td class=\"value\">0.0</td>\n",
       "        </tr>\n",
       "    \n",
       "\n",
       "        <tr class=\"default\">\n",
       "            <td><i class=\"copy-paste-icon\"\n",
       "                 onclick=\"copyToClipboard('ccp_alpha',\n",
       "                          this.parentElement.nextElementSibling)\"\n",
       "            ></i></td>\n",
       "            <td class=\"param\">ccp_alpha&nbsp;</td>\n",
       "            <td class=\"value\">0.0</td>\n",
       "        </tr>\n",
       "    \n",
       "\n",
       "        <tr class=\"default\">\n",
       "            <td><i class=\"copy-paste-icon\"\n",
       "                 onclick=\"copyToClipboard('monotonic_cst',\n",
       "                          this.parentElement.nextElementSibling)\"\n",
       "            ></i></td>\n",
       "            <td class=\"param\">monotonic_cst&nbsp;</td>\n",
       "            <td class=\"value\">None</td>\n",
       "        </tr>\n",
       "    \n",
       "                  </tbody>\n",
       "                </table>\n",
       "            </details>\n",
       "        </div>\n",
       "    </div></div></div></div></div><script>function copyToClipboard(text, element) {\n",
       "    // Get the parameter prefix from the closest toggleable content\n",
       "    const toggleableContent = element.closest('.sk-toggleable__content');\n",
       "    const paramPrefix = toggleableContent ? toggleableContent.dataset.paramPrefix : '';\n",
       "    const fullParamName = paramPrefix ? `${paramPrefix}${text}` : text;\n",
       "\n",
       "    const originalStyle = element.style;\n",
       "    const computedStyle = window.getComputedStyle(element);\n",
       "    const originalWidth = computedStyle.width;\n",
       "    const originalHTML = element.innerHTML.replace('Copied!', '');\n",
       "\n",
       "    navigator.clipboard.writeText(fullParamName)\n",
       "        .then(() => {\n",
       "            element.style.width = originalWidth;\n",
       "            element.style.color = 'green';\n",
       "            element.innerHTML = \"Copied!\";\n",
       "\n",
       "            setTimeout(() => {\n",
       "                element.innerHTML = originalHTML;\n",
       "                element.style = originalStyle;\n",
       "            }, 2000);\n",
       "        })\n",
       "        .catch(err => {\n",
       "            console.error('Failed to copy:', err);\n",
       "            element.style.color = 'red';\n",
       "            element.innerHTML = \"Failed!\";\n",
       "            setTimeout(() => {\n",
       "                element.innerHTML = originalHTML;\n",
       "                element.style = originalStyle;\n",
       "            }, 2000);\n",
       "        });\n",
       "    return false;\n",
       "}\n",
       "\n",
       "document.querySelectorAll('.fa-regular.fa-copy').forEach(function(element) {\n",
       "    const toggleableContent = element.closest('.sk-toggleable__content');\n",
       "    const paramPrefix = toggleableContent ? toggleableContent.dataset.paramPrefix : '';\n",
       "    const paramName = element.parentElement.nextElementSibling.textContent.trim();\n",
       "    const fullParamName = paramPrefix ? `${paramPrefix}${paramName}` : paramName;\n",
       "\n",
       "    element.setAttribute('title', fullParamName);\n",
       "});\n",
       "</script></body>"
      ],
      "text/plain": [
       "DecisionTreeRegressor(max_depth=5, min_samples_split=10, random_state=42)"
      ]
     },
     "execution_count": 118,
     "metadata": {},
     "output_type": "execute_result"
    }
   ],
   "source": [
    "model = DecisionTreeRegressor(\n",
    "    criterion='squared_error',\n",
    "    max_depth=5,\n",
    "    min_samples_split=10,\n",
    "    random_state=42\n",
    ")\n",
    "\n",
    "model.fit(x_train, y_train)"
   ]
  },
  {
   "cell_type": "code",
   "execution_count": null,
   "id": "5e548c17-a1c1-4e57-b152-8abbe29d578e",
   "metadata": {},
   "outputs": [],
   "source": []
  },
  {
   "cell_type": "code",
   "execution_count": null,
   "id": "08f30dd6-0212-4448-bc44-b715ec205159",
   "metadata": {},
   "outputs": [],
   "source": []
  },
  {
   "cell_type": "code",
   "execution_count": null,
   "id": "89b98791-408c-4ae3-8361-4d4049d559a5",
   "metadata": {},
   "outputs": [],
   "source": []
  },
  {
   "cell_type": "code",
   "execution_count": null,
   "id": "14ce93ab-2777-4d1c-8b8d-73ee3a5ecb74",
   "metadata": {},
   "outputs": [],
   "source": []
  },
  {
   "cell_type": "code",
   "execution_count": null,
   "id": "d688833b-610e-416d-83eb-ab8d9ee03862",
   "metadata": {},
   "outputs": [],
   "source": []
  },
  {
   "cell_type": "code",
   "execution_count": null,
   "id": "c0d67c26-0dc7-4fea-8a69-88cc29acd8d5",
   "metadata": {},
   "outputs": [],
   "source": []
  },
  {
   "cell_type": "code",
   "execution_count": null,
   "id": "ab891c66-a64c-4e45-bad5-1b79e15d9ac8",
   "metadata": {},
   "outputs": [],
   "source": []
  },
  {
   "cell_type": "code",
   "execution_count": null,
   "id": "5d18f3ff-3b5c-4276-a259-fa6e3371c1d1",
   "metadata": {},
   "outputs": [],
   "source": []
  },
  {
   "cell_type": "code",
   "execution_count": null,
   "id": "dfa157c4-6a22-46e4-aab8-edce2282f612",
   "metadata": {},
   "outputs": [],
   "source": []
  }
 ],
 "metadata": {
  "kernelspec": {
   "display_name": "Python (linreg_env)",
   "language": "python",
   "name": "linreg_env"
  },
  "language_info": {
   "codemirror_mode": {
    "name": "ipython",
    "version": 3
   },
   "file_extension": ".py",
   "mimetype": "text/x-python",
   "name": "python",
   "nbconvert_exporter": "python",
   "pygments_lexer": "ipython3",
   "version": "3.10.18"
  }
 },
 "nbformat": 4,
 "nbformat_minor": 5
}
